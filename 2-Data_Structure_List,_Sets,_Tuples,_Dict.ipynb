{
 "cells": [
  {
   "cell_type": "markdown",
   "metadata": {
    "id": "improved-jaguar"
   },
   "source": [
    "# <center> <u>Data Structures <u> </center>"
   ]
  },
  {
   "cell_type": "markdown",
   "metadata": {
    "id": "corrected-count"
   },
   "source": [
    "## 1. Lists\n",
    "\n",
    "Reference:- https://www.youtube.com/watch?v=ohCDWZgNIU0\n"
   ]
  },
  {
   "cell_type": "markdown",
   "metadata": {
    "id": "automatic-psychiatry"
   },
   "source": [
    "<p style='text-align: right;'> 1+1+1 = 3 points</p>\n"
   ]
  },
  {
   "cell_type": "markdown",
   "metadata": {
    "id": "handy-stable"
   },
   "source": [
    "#### 1.1 Create an empty list with the name ‘a’, print the value of a and type(a).\n"
   ]
  },
  {
   "cell_type": "code",
   "execution_count": 1,
   "metadata": {
    "id": "measured-drama"
   },
   "outputs": [],
   "source": [
    "# create empty list, name it 'a'\n",
    "a=[]"
   ]
  },
  {
   "cell_type": "code",
   "execution_count": 2,
   "metadata": {
    "id": "complete-consciousness",
    "outputId": "51dbc088-9ed1-4dc0-c64e-6fa68dcc6bf8"
   },
   "outputs": [
    {
     "name": "stdout",
     "output_type": "stream",
     "text": [
      "[]\n"
     ]
    }
   ],
   "source": [
    "# print the value of a\n",
    "\n",
    "print(a)"
   ]
  },
  {
   "cell_type": "code",
   "execution_count": 3,
   "metadata": {
    "id": "ordinary-board",
    "outputId": "db65035c-cea4-4143-af95-6a03307a58f2"
   },
   "outputs": [
    {
     "data": {
      "text/plain": [
       "list"
      ]
     },
     "execution_count": 3,
     "metadata": {},
     "output_type": "execute_result"
    }
   ],
   "source": [
    "# print the type of a\n",
    "\n",
    "type(a)"
   ]
  },
  {
   "cell_type": "markdown",
   "metadata": {
    "id": "approximate-commission"
   },
   "source": [
    "#### 1.2.Create a list , languages = ['R','Python', 'SAS', 'Scala', 42], "
   ]
  },
  {
   "cell_type": "markdown",
   "metadata": {
    "id": "chemical-demand"
   },
   "source": [
    "<p style='text-align: right;'> 1+1+1+1+1+1+1+1 = 7 points</p>\n"
   ]
  },
  {
   "cell_type": "code",
   "execution_count": 4,
   "metadata": {
    "id": "automotive-pantyhose"
   },
   "outputs": [],
   "source": [
    "#code here\n",
    "lst= ['R','Python','SAS','Scala',42]"
   ]
  },
  {
   "cell_type": "markdown",
   "metadata": {
    "id": "italic-practitioner"
   },
   "source": [
    "Print the number of elements in the list"
   ]
  },
  {
   "cell_type": "code",
   "execution_count": 5,
   "metadata": {
    "id": "bridal-psychology",
    "outputId": "7220843a-0107-4cdf-842a-4239e4773cfd"
   },
   "outputs": [
    {
     "data": {
      "text/plain": [
       "5"
      ]
     },
     "execution_count": 5,
     "metadata": {},
     "output_type": "execute_result"
    }
   ],
   "source": [
    "#code here\n",
    "len(lst)"
   ]
  },
  {
   "cell_type": "markdown",
   "metadata": {
    "id": "traditional-template"
   },
   "source": [
    "Using for loop iterate and print all the elements in the list"
   ]
  },
  {
   "cell_type": "code",
   "execution_count": 6,
   "metadata": {
    "id": "speaking-consultation",
    "outputId": "e5fe419d-7474-4000-f7c8-bad3fbf4aca3"
   },
   "outputs": [
    {
     "name": "stdout",
     "output_type": "stream",
     "text": [
      "R\n",
      "Python\n",
      "SAS\n",
      "Scala\n",
      "42\n"
     ]
    }
   ],
   "source": [
    "#code here\n",
    "lst= ['R','Python','SAS','Scala',42]\n",
    "for i in range(0,len(lst)):\n",
    "    print (lst[i])\n",
    "    \n"
   ]
  },
  {
   "cell_type": "markdown",
   "metadata": {
    "id": "catholic-front"
   },
   "source": [
    "Select the second item, 'Python' and store it in a new variable named 'temp'"
   ]
  },
  {
   "cell_type": "code",
   "execution_count": 7,
   "metadata": {
    "id": "discrete-disco"
   },
   "outputs": [],
   "source": [
    "#code here\n",
    "temp = lst[1]"
   ]
  },
  {
   "cell_type": "markdown",
   "metadata": {
    "id": "bottom-middle"
   },
   "source": [
    "Print the value of temp and type(temp)"
   ]
  },
  {
   "cell_type": "code",
   "execution_count": 8,
   "metadata": {
    "id": "statistical-premium",
    "outputId": "04083202-f667-4001-91ad-6803a4bb7403"
   },
   "outputs": [
    {
     "name": "stdout",
     "output_type": "stream",
     "text": [
      "Python\n"
     ]
    },
    {
     "data": {
      "text/plain": [
       "str"
      ]
     },
     "execution_count": 8,
     "metadata": {},
     "output_type": "execute_result"
    }
   ],
   "source": [
    "#code here\n",
    "print(temp)\n",
    "type(temp)\n"
   ]
  },
  {
   "cell_type": "markdown",
   "metadata": {
    "id": "popular-drilling"
   },
   "source": [
    "Using list comprehension, print the last two elemets of list"
   ]
  },
  {
   "cell_type": "code",
   "execution_count": 9,
   "metadata": {
    "id": "numeric-winter",
    "outputId": "9deaace4-45a0-44de-efcc-fada27fc70b3"
   },
   "outputs": [
    {
     "data": {
      "text/plain": [
       "['Scala', 42]"
      ]
     },
     "execution_count": 9,
     "metadata": {},
     "output_type": "execute_result"
    }
   ],
   "source": [
    "# code here\n",
    "lst= ['R','Python','SAS','Scala',42]\n",
    "[lst[i] for i in range(-2,0)]"
   ]
  },
  {
   "cell_type": "markdown",
   "metadata": {
    "id": "japanese-membrane"
   },
   "source": [
    "Append the element 'Java' in the list"
   ]
  },
  {
   "cell_type": "code",
   "execution_count": 10,
   "metadata": {
    "id": "unlimited-bench"
   },
   "outputs": [],
   "source": [
    "#code here\n",
    "lst0= ['R','Python','SAS','Scala',42]\n",
    "lst0.append('Java')"
   ]
  },
  {
   "cell_type": "code",
   "execution_count": 11,
   "metadata": {},
   "outputs": [
    {
     "data": {
      "text/plain": [
       "['R', 'Python', 'SAS', 'Scala', 42, 'Java']"
      ]
     },
     "execution_count": 11,
     "metadata": {},
     "output_type": "execute_result"
    }
   ],
   "source": [
    "lst0"
   ]
  },
  {
   "cell_type": "markdown",
   "metadata": {
    "id": "appointed-atmosphere"
   },
   "source": [
    "Remove the element 42 from the list and print the list"
   ]
  },
  {
   "cell_type": "code",
   "execution_count": 12,
   "metadata": {
    "id": "commercial-theology",
    "outputId": "83f74a2e-fd60-45d8-fbca-0db50528491e"
   },
   "outputs": [],
   "source": [
    "#code here\n",
    "lst0.remove(42)"
   ]
  },
  {
   "cell_type": "code",
   "execution_count": 13,
   "metadata": {},
   "outputs": [
    {
     "data": {
      "text/plain": [
       "['R', 'Python', 'SAS', 'Scala', 'Java']"
      ]
     },
     "execution_count": 13,
     "metadata": {},
     "output_type": "execute_result"
    }
   ],
   "source": [
    "lst0"
   ]
  },
  {
   "cell_type": "markdown",
   "metadata": {
    "id": "focal-omaha"
   },
   "source": [
    "#### 1.3. Create a list, colors = [‘Red’, ‘Blue’, ‘White’]"
   ]
  },
  {
   "cell_type": "markdown",
   "metadata": {
    "id": "express-municipality"
   },
   "source": [
    "<p style='text-align: right;'> 1+1+1+1+1+1+1 = 6 points</p>\n"
   ]
  },
  {
   "cell_type": "code",
   "execution_count": 14,
   "metadata": {
    "id": "several-skiing"
   },
   "outputs": [
    {
     "data": {
      "text/plain": [
       "['Red', 'Blue', 'White']"
      ]
     },
     "execution_count": 14,
     "metadata": {},
     "output_type": "execute_result"
    }
   ],
   "source": [
    "#code here\n",
    "color_list= ['Red','Blue','White']\n",
    "color_list"
   ]
  },
  {
   "cell_type": "markdown",
   "metadata": {
    "id": "silent-validity"
   },
   "source": [
    "Append the element 'Black' to colors"
   ]
  },
  {
   "cell_type": "code",
   "execution_count": 15,
   "metadata": {
    "id": "informational-symbol"
   },
   "outputs": [
    {
     "data": {
      "text/plain": [
       "['Red', 'Blue', 'White', 'Black']"
      ]
     },
     "execution_count": 15,
     "metadata": {},
     "output_type": "execute_result"
    }
   ],
   "source": [
    "#code here\n",
    "color_list.append('Black')\n",
    "color_list"
   ]
  },
  {
   "cell_type": "markdown",
   "metadata": {
    "id": "offshore-participant"
   },
   "source": [
    "Append the color 'Orange' to second position (index=1) and print the list"
   ]
  },
  {
   "cell_type": "code",
   "execution_count": 16,
   "metadata": {
    "id": "crucial-circulation"
   },
   "outputs": [
    {
     "data": {
      "text/plain": [
       "['Red', 'Orange', 'Blue', 'White', 'Black']"
      ]
     },
     "execution_count": 16,
     "metadata": {},
     "output_type": "execute_result"
    }
   ],
   "source": [
    "#code here\n",
    "color_list.insert(1,'Orange')\n",
    "color_list"
   ]
  },
  {
   "cell_type": "markdown",
   "metadata": {
    "id": "contemporary-bishop"
   },
   "source": [
    "Print the list\n"
   ]
  },
  {
   "cell_type": "code",
   "execution_count": 17,
   "metadata": {
    "id": "fantastic-conservation",
    "outputId": "c41960f0-ed8a-48aa-abc3-8e83512e0bab"
   },
   "outputs": [
    {
     "name": "stdout",
     "output_type": "stream",
     "text": [
      "['Red', 'Orange', 'Blue', 'White', 'Black']\n"
     ]
    }
   ],
   "source": [
    "# code here\n",
    "print(color_list)"
   ]
  },
  {
   "cell_type": "markdown",
   "metadata": {
    "id": "unique-yemen"
   },
   "source": [
    "Create another list, colors2 = [‘Grey’, ‘Sky Blue’]"
   ]
  },
  {
   "cell_type": "code",
   "execution_count": 18,
   "metadata": {
    "id": "north-teaching"
   },
   "outputs": [
    {
     "data": {
      "text/plain": [
       "['Grey', 'Sky Blue']"
      ]
     },
     "execution_count": 18,
     "metadata": {},
     "output_type": "execute_result"
    }
   ],
   "source": [
    "# code here\n",
    "color_list2 = ['Grey','Sky Blue']\n",
    "color_list2"
   ]
  },
  {
   "cell_type": "markdown",
   "metadata": {
    "id": "advised-exercise"
   },
   "source": [
    "Add the elements of colors2 to colors using extend function in the list"
   ]
  },
  {
   "cell_type": "code",
   "execution_count": 19,
   "metadata": {
    "id": "handy-proceeding"
   },
   "outputs": [],
   "source": [
    "#code here\n",
    "c=color_list.extend(color_list2)\n"
   ]
  },
  {
   "cell_type": "markdown",
   "metadata": {
    "id": "tropical-terry"
   },
   "source": [
    "Print len of colors and its elements"
   ]
  },
  {
   "cell_type": "code",
   "execution_count": 20,
   "metadata": {
    "id": "roman-antenna",
    "outputId": "badbec2e-9522-40d5-a5fe-92df0926f7e7"
   },
   "outputs": [
    {
     "name": "stdout",
     "output_type": "stream",
     "text": [
      "['Red', 'Orange', 'Blue', 'White', 'Black', 'Grey', 'Sky Blue']\n"
     ]
    }
   ],
   "source": [
    "# code here\n",
    "print(color_list)\n"
   ]
  },
  {
   "cell_type": "markdown",
   "metadata": {
    "id": "literary-acrobat"
   },
   "source": [
    "Sort the list and print it."
   ]
  },
  {
   "cell_type": "code",
   "execution_count": 21,
   "metadata": {
    "id": "becoming-seafood",
    "outputId": "a68e6bc5-2151-4c16-acb3-558f45de568d"
   },
   "outputs": [
    {
     "data": {
      "text/plain": [
       "['Black', 'Blue', 'Grey', 'Orange', 'Red', 'Sky Blue', 'White']"
      ]
     },
     "execution_count": 21,
     "metadata": {},
     "output_type": "execute_result"
    }
   ],
   "source": [
    "# code here\n",
    "color_list.sort()\n",
    "color_list"
   ]
  },
  {
   "cell_type": "markdown",
   "metadata": {
    "id": "handed-firmware"
   },
   "source": [
    "#### 1.4. Create a string, sent = ‘Coronavirus Caused Lockdowns Around The World.”"
   ]
  },
  {
   "cell_type": "markdown",
   "metadata": {
    "id": "preliminary-physiology"
   },
   "source": [
    "<p style='text-align: right;'> 7 points</p>\n"
   ]
  },
  {
   "cell_type": "code",
   "execution_count": 22,
   "metadata": {
    "id": "velvet-gospel"
   },
   "outputs": [],
   "source": [
    "# code here\n",
    "sent = 'Coronavirus Caused Lockdowns Around The World.'"
   ]
  },
  {
   "cell_type": "markdown",
   "metadata": {
    "id": "ranging-installation"
   },
   "source": [
    "Use split function to convert the string into a list of words and save it in variable words and print the same"
   ]
  },
  {
   "cell_type": "code",
   "execution_count": 23,
   "metadata": {
    "id": "theoretical-yahoo",
    "outputId": "0d9f91c7-2e99-4dc0-857d-c7d370d7fb39"
   },
   "outputs": [],
   "source": [
    "# code here\n",
    "lst=sent.split()"
   ]
  },
  {
   "cell_type": "code",
   "execution_count": 24,
   "metadata": {},
   "outputs": [
    {
     "data": {
      "text/plain": [
       "['Coronavirus', 'Caused', 'Lockdowns', 'Around', 'The', 'World.']"
      ]
     },
     "execution_count": 24,
     "metadata": {},
     "output_type": "execute_result"
    }
   ],
   "source": [
    "lst"
   ]
  },
  {
   "cell_type": "markdown",
   "metadata": {
    "id": "threaded-watson"
   },
   "source": [
    "Using list comprehensions, convert each word in the list to lower case and store it in variable words_lower. \n",
    "Print words_lower"
   ]
  },
  {
   "cell_type": "code",
   "execution_count": 25,
   "metadata": {
    "id": "worst-defense",
    "outputId": "c207a5af-8965-4414-8597-4246ff814c6f"
   },
   "outputs": [],
   "source": [
    "# code here\n",
    "words_lower=[i.lower() for i in lst if range(0,6)]\n"
   ]
  },
  {
   "cell_type": "code",
   "execution_count": 26,
   "metadata": {},
   "outputs": [
    {
     "data": {
      "text/plain": [
       "['coronavirus', 'caused', 'lockdowns', 'around', 'the', 'world.']"
      ]
     },
     "execution_count": 26,
     "metadata": {},
     "output_type": "execute_result"
    }
   ],
   "source": [
    "words_lower"
   ]
  },
  {
   "cell_type": "markdown",
   "metadata": {
    "id": "oriented-subsection"
   },
   "source": [
    "Check whether ‘country’ is in the list"
   ]
  },
  {
   "cell_type": "code",
   "execution_count": 27,
   "metadata": {
    "id": "unusual-settlement",
    "outputId": "d619986b-2f40-4a9e-fcb9-961565ad55bb"
   },
   "outputs": [
    {
     "name": "stdout",
     "output_type": "stream",
     "text": [
      "False\n"
     ]
    }
   ],
   "source": [
    "# code here\n",
    "print (\"country\" in words_lower)"
   ]
  },
  {
   "cell_type": "markdown",
   "metadata": {
    "id": "mounted-trauma"
   },
   "source": [
    "Remove the element ‘the’ from the list and print the list."
   ]
  },
  {
   "cell_type": "code",
   "execution_count": 28,
   "metadata": {
    "id": "actual-tuesday",
    "outputId": "6a71728f-941e-4e2e-f68f-e4e6c68b9318"
   },
   "outputs": [],
   "source": [
    "# code here\n",
    "words_lower.remove(\"the\")"
   ]
  },
  {
   "cell_type": "code",
   "execution_count": 29,
   "metadata": {},
   "outputs": [
    {
     "data": {
      "text/plain": [
       "['coronavirus', 'caused', 'lockdowns', 'around', 'world.']"
      ]
     },
     "execution_count": 29,
     "metadata": {},
     "output_type": "execute_result"
    }
   ],
   "source": [
    "words_lower"
   ]
  },
  {
   "cell_type": "markdown",
   "metadata": {
    "id": "allied-coverage"
   },
   "source": [
    "Select the first 4 words from the list words_lower using slicing and store them in a new variable x4"
   ]
  },
  {
   "cell_type": "code",
   "execution_count": 30,
   "metadata": {
    "id": "varying-owner"
   },
   "outputs": [],
   "source": [
    "#code here\n",
    "words_lower_new=words_lower[0:4]"
   ]
  },
  {
   "cell_type": "code",
   "execution_count": 31,
   "metadata": {},
   "outputs": [
    {
     "data": {
      "text/plain": [
       "['coronavirus', 'caused', 'lockdowns', 'around']"
      ]
     },
     "execution_count": 31,
     "metadata": {},
     "output_type": "execute_result"
    }
   ],
   "source": [
    "words_lower_new"
   ]
  },
  {
   "cell_type": "code",
   "execution_count": 32,
   "metadata": {
    "id": "broken-shell",
    "outputId": "e343dccb-45a9-4b77-d86e-1efb6777d2ae"
   },
   "outputs": [
    {
     "name": "stdout",
     "output_type": "stream",
     "text": [
      "None\n"
     ]
    }
   ],
   "source": [
    "# print x4\n",
    "print(c)"
   ]
  },
  {
   "cell_type": "markdown",
   "metadata": {
    "id": "patent-sheep"
   },
   "source": [
    "Convert the list of elements to single string using join function and print it"
   ]
  },
  {
   "cell_type": "code",
   "execution_count": 33,
   "metadata": {
    "id": "clear-bunch",
    "outputId": "7ae1f894-506a-4ac1-96f0-880aed216c2e"
   },
   "outputs": [
    {
     "name": "stdout",
     "output_type": "stream",
     "text": [
      "coronavirus caused lockdowns around\n"
     ]
    }
   ],
   "source": [
    "#code here\n",
    "sent2=\"\"\n",
    "for i in words_lower_new:\n",
    "    sent2+=str(i)+\" \"\n",
    "sent2=sent2[:-1]\n",
    "print (sent2)"
   ]
  },
  {
   "cell_type": "markdown",
   "metadata": {
    "id": "outstanding-sandwich"
   },
   "source": [
    "## 2. Sets\n",
    "\n",
    "Reference:-https://www.youtube.com/watch?v=sBvaPopWOmQ"
   ]
  },
  {
   "cell_type": "markdown",
   "metadata": {
    "id": "searching-tribute"
   },
   "source": [
    "#### 2.1. Create stud_grades = ['A','A','B','C','C','F']"
   ]
  },
  {
   "cell_type": "markdown",
   "metadata": {
    "id": "acute-moore"
   },
   "source": [
    "<p style='text-align: right;'> 7 points</p>\n"
   ]
  },
  {
   "cell_type": "code",
   "execution_count": 34,
   "metadata": {
    "id": "sought-professor"
   },
   "outputs": [],
   "source": [
    "#code here\n",
    "stud_grades=['A','A','B','C','C','F']"
   ]
  },
  {
   "cell_type": "markdown",
   "metadata": {
    "id": "personal-issue"
   },
   "source": [
    "Print the len of stud_grades"
   ]
  },
  {
   "cell_type": "code",
   "execution_count": 35,
   "metadata": {
    "id": "indian-configuration",
    "outputId": "2357cffe-5a4a-4483-92fe-6cc3c807f8d1"
   },
   "outputs": [
    {
     "data": {
      "text/plain": [
       "6"
      ]
     },
     "execution_count": 35,
     "metadata": {},
     "output_type": "execute_result"
    }
   ],
   "source": [
    "#code here\n",
    "len(stud_grades)"
   ]
  },
  {
   "cell_type": "markdown",
   "metadata": {
    "id": "swedish-bulletin"
   },
   "source": [
    "Create a new variable, stud_grades_set = set(stud_grades)"
   ]
  },
  {
   "cell_type": "code",
   "execution_count": 36,
   "metadata": {
    "id": "announced-prescription"
   },
   "outputs": [],
   "source": [
    "#code here\n",
    "stud_grades_set= set(stud_grades)"
   ]
  },
  {
   "cell_type": "markdown",
   "metadata": {
    "id": "composite-semester"
   },
   "source": [
    "Print stud_grades_set. "
   ]
  },
  {
   "cell_type": "code",
   "execution_count": 37,
   "metadata": {
    "id": "moral-fluid",
    "outputId": "8f81b0d4-bc11-477b-91c7-2ccbc530ce75"
   },
   "outputs": [
    {
     "name": "stdout",
     "output_type": "stream",
     "text": [
      "{'C', 'A', 'F', 'B'}\n"
     ]
    }
   ],
   "source": [
    "#code here\n",
    "print (stud_grades_set)"
   ]
  },
  {
   "cell_type": "markdown",
   "metadata": {
    "id": "dress-wholesale"
   },
   "source": [
    "print the type of stud_grades and stud_grades_set and print their corresponding elements. Try to understand the difference between them."
   ]
  },
  {
   "cell_type": "code",
   "execution_count": 38,
   "metadata": {
    "id": "narrative-recycling",
    "outputId": "e310c813-97ab-42dc-9bee-0157f1783c3c"
   },
   "outputs": [
    {
     "name": "stdout",
     "output_type": "stream",
     "text": [
      "<class 'list'> > ['A', 'A', 'B', 'C', 'C', 'F']\n",
      "<class 'set'> > {'C', 'A', 'F', 'B'}\n"
     ]
    }
   ],
   "source": [
    "#code here\n",
    "print(type(stud_grades),'>' ,stud_grades)\n",
    "print(type(stud_grades_set),'>',stud_grades_set)"
   ]
  },
  {
   "cell_type": "markdown",
   "metadata": {
    "id": "liable-royal"
   },
   "source": [
    "Add a new element ‘G’ to stud_grades_set"
   ]
  },
  {
   "cell_type": "code",
   "execution_count": 39,
   "metadata": {
    "id": "general-accessory"
   },
   "outputs": [],
   "source": [
    "#code here\n",
    "stud_grades_set.add('G')\n"
   ]
  },
  {
   "cell_type": "markdown",
   "metadata": {
    "id": "recorded-voluntary"
   },
   "source": [
    "Add element 'F' to stud_grades_set. and print it."
   ]
  },
  {
   "cell_type": "code",
   "execution_count": 40,
   "metadata": {
    "id": "hazardous-tissue",
    "outputId": "b9ec2340-4022-47fb-f679-6177192cd2bb"
   },
   "outputs": [
    {
     "name": "stdout",
     "output_type": "stream",
     "text": [
      "{'A', 'G', 'C', 'F', 'B'}\n"
     ]
    }
   ],
   "source": [
    "#code here\n",
    "stud_grades_set.add('F')\n",
    "print(stud_grades_set)\n"
   ]
  },
  {
   "cell_type": "markdown",
   "metadata": {
    "id": "addressed-stamp"
   },
   "source": [
    "!!Did you notice? set doesn't add an element if it's already present in it, unlike lists."
   ]
  },
  {
   "cell_type": "markdown",
   "metadata": {
    "id": "minimal-credits"
   },
   "source": [
    "Remove ‘F’ from stud_grades_set"
   ]
  },
  {
   "cell_type": "code",
   "execution_count": 41,
   "metadata": {
    "id": "subject-huntington"
   },
   "outputs": [
    {
     "data": {
      "text/plain": [
       "{'A', 'B', 'C', 'G'}"
      ]
     },
     "execution_count": 41,
     "metadata": {},
     "output_type": "execute_result"
    }
   ],
   "source": [
    "#code here\n",
    "stud_grades_set.remove('F')\n",
    "stud_grades_set"
   ]
  },
  {
   "cell_type": "markdown",
   "metadata": {
    "id": "streaming-republic"
   },
   "source": [
    "Print the elements and the length of stud_grades_set"
   ]
  },
  {
   "cell_type": "code",
   "execution_count": 42,
   "metadata": {
    "id": "novel-aaron",
    "outputId": "fe22e829-4553-458a-dc74-c7c454222a8d"
   },
   "outputs": [
    {
     "name": "stdout",
     "output_type": "stream",
     "text": [
      "{'A', 'G', 'C', 'B'}\n"
     ]
    },
    {
     "data": {
      "text/plain": [
       "4"
      ]
     },
     "execution_count": 42,
     "metadata": {},
     "output_type": "execute_result"
    }
   ],
   "source": [
    "#code here\n",
    "print(stud_grades_set)\n",
    "len(stud_grades_set)"
   ]
  },
  {
   "cell_type": "markdown",
   "metadata": {
    "id": "secondary-joshua"
   },
   "source": [
    "#### 2.2. Create colors = [‘red’,’blue’,’orange’], and fruits = [‘orange’,’grapes’,’apples’] "
   ]
  },
  {
   "cell_type": "markdown",
   "metadata": {
    "id": "temporal-details"
   },
   "source": [
    "<p style='text-align: right;'> 6 points</p>\n"
   ]
  },
  {
   "cell_type": "code",
   "execution_count": 43,
   "metadata": {
    "id": "reliable-butler"
   },
   "outputs": [],
   "source": [
    "#code here\n",
    "colors= ['red','blue','orange']\n",
    "fruites= ['orange','grapes','apples']"
   ]
  },
  {
   "cell_type": "markdown",
   "metadata": {
    "id": "ordered-childhood"
   },
   "source": [
    "Print color and fruits"
   ]
  },
  {
   "cell_type": "code",
   "execution_count": 44,
   "metadata": {
    "id": "sixth-davis",
    "outputId": "29527587-883a-437c-ec28-d227fdccb3ff"
   },
   "outputs": [
    {
     "name": "stdout",
     "output_type": "stream",
     "text": [
      "['red', 'blue', 'orange']\n",
      "['orange', 'grapes', 'apples']\n"
     ]
    }
   ],
   "source": [
    "#code here\n",
    "print(colors)\n",
    "print(fruites)"
   ]
  },
  {
   "cell_type": "markdown",
   "metadata": {
    "id": "reflected-gallery"
   },
   "source": [
    "Create colors_set, and fruits_set. (using set() ) and print them"
   ]
  },
  {
   "cell_type": "code",
   "execution_count": 45,
   "metadata": {
    "id": "plastic-juice",
    "outputId": "ce8432cb-7551-49c6-d20c-f0a333d9dccc"
   },
   "outputs": [
    {
     "name": "stdout",
     "output_type": "stream",
     "text": [
      "{'red', 'blue', 'orange'}\n",
      "{'apples', 'grapes', 'orange'}\n"
     ]
    }
   ],
   "source": [
    "#code here\n",
    "colors_set=set(colors)\n",
    "fruits_set=set(fruites)\n",
    "print(colors_set)\n",
    "print(fruits_set)"
   ]
  },
  {
   "cell_type": "markdown",
   "metadata": {
    "id": "indian-trauma"
   },
   "source": [
    "Find the union of both the sets."
   ]
  },
  {
   "cell_type": "code",
   "execution_count": 46,
   "metadata": {
    "id": "floating-bloom",
    "outputId": "8a6166b3-78b5-472c-a007-52a9a078f4d2"
   },
   "outputs": [
    {
     "data": {
      "text/plain": [
       "{'apples', 'blue', 'grapes', 'orange', 'red'}"
      ]
     },
     "execution_count": 46,
     "metadata": {},
     "output_type": "execute_result"
    }
   ],
   "source": [
    "#code here\n",
    "fruits_set.union(colors_set)\n"
   ]
  },
  {
   "cell_type": "markdown",
   "metadata": {
    "id": "successful-sterling"
   },
   "source": [
    "Find the intersection of both the sets "
   ]
  },
  {
   "cell_type": "code",
   "execution_count": 47,
   "metadata": {
    "id": "recorded-wayne",
    "outputId": "f1146a45-bbdb-4ae5-e38e-db31e91881c4"
   },
   "outputs": [
    {
     "data": {
      "text/plain": [
       "{'orange'}"
      ]
     },
     "execution_count": 47,
     "metadata": {},
     "output_type": "execute_result"
    }
   ],
   "source": [
    "#code here\n",
    "fruits_set.intersection(colors_set)\n"
   ]
  },
  {
   "cell_type": "markdown",
   "metadata": {
    "id": "extended-doubt"
   },
   "source": [
    "Find the elements which are Fruits but not colors (using set.difference() )"
   ]
  },
  {
   "cell_type": "code",
   "execution_count": 48,
   "metadata": {
    "id": "continued-darkness",
    "outputId": "af921ea1-4a8c-41d4-e241-3581283fafec"
   },
   "outputs": [
    {
     "data": {
      "text/plain": [
       "{'apples', 'grapes'}"
      ]
     },
     "execution_count": 48,
     "metadata": {},
     "output_type": "execute_result"
    }
   ],
   "source": [
    "#code here\n",
    "fruits_set.difference(colors_set)\n"
   ]
  },
  {
   "cell_type": "markdown",
   "metadata": {
    "id": "literary-pastor"
   },
   "source": [
    "## 3. TUPLES\n",
    "\n",
    "Reference:-https://www.youtube.com/watch?v=NI26dqhs2Rk"
   ]
  },
  {
   "cell_type": "markdown",
   "metadata": {
    "id": "creative-accommodation"
   },
   "source": [
    "#### 3.1 . Create temp = [17, ’Virat’, 50.0]"
   ]
  },
  {
   "cell_type": "markdown",
   "metadata": {
    "id": "eight-spirituality"
   },
   "source": [
    "<p style='text-align: right;'> 7 points</p>\n"
   ]
  },
  {
   "cell_type": "code",
   "execution_count": 75,
   "metadata": {
    "id": "three-gabriel"
   },
   "outputs": [],
   "source": [
    "#code here\n",
    "\n",
    "temp= [17,'Virat',50.0]\n"
   ]
  },
  {
   "cell_type": "markdown",
   "metadata": {
    "id": "other-assembly"
   },
   "source": [
    "Iterate through temp and print all the items in temp"
   ]
  },
  {
   "cell_type": "code",
   "execution_count": 76,
   "metadata": {
    "id": "typical-proof",
    "outputId": "a95d06cb-aa94-4908-9628-c80b7a5133f6"
   },
   "outputs": [
    {
     "data": {
      "text/plain": [
       "[17, 'Virat', 50.0]"
      ]
     },
     "execution_count": 76,
     "metadata": {},
     "output_type": "execute_result"
    }
   ],
   "source": [
    "#code here\n",
    "[i for i in temp if range(0,len(temp))]\n",
    "\n"
   ]
  },
  {
   "cell_type": "markdown",
   "metadata": {
    "id": "interim-tiger"
   },
   "source": [
    "replace first element with 11 in temp"
   ]
  },
  {
   "cell_type": "code",
   "execution_count": 80,
   "metadata": {
    "id": "narrative-motivation"
   },
   "outputs": [
    {
     "name": "stdout",
     "output_type": "stream",
     "text": [
      "[11, 'Virat', 50.0]\n"
     ]
    }
   ],
   "source": [
    "#code here\n",
    "\n",
    "temp[0]=11\n",
    "print(temp)"
   ]
  },
  {
   "cell_type": "markdown",
   "metadata": {
    "id": "honest-composite"
   },
   "source": [
    "Set temp1 = tuple(temp)"
   ]
  },
  {
   "cell_type": "code",
   "execution_count": 82,
   "metadata": {
    "id": "super-renaissance"
   },
   "outputs": [],
   "source": [
    "#code here\n",
    "temp1 = tuple(temp)\n"
   ]
  },
  {
   "cell_type": "markdown",
   "metadata": {
    "id": "southwest-gibson"
   },
   "source": [
    "Iterate through temp1 and print all the items in temp1. "
   ]
  },
  {
   "cell_type": "code",
   "execution_count": 83,
   "metadata": {
    "id": "architectural-inclusion",
    "outputId": "4f06cfe8-595d-4c0e-a03b-c020debaa214"
   },
   "outputs": [
    {
     "data": {
      "text/plain": [
       "[11, 'Virat', 50.0]"
      ]
     },
     "execution_count": 83,
     "metadata": {},
     "output_type": "execute_result"
    }
   ],
   "source": [
    "#code here\n",
    "[i for i in temp1 if range(0,len(temp1))]\n"
   ]
  },
  {
   "cell_type": "markdown",
   "metadata": {
    "id": "gross-destination"
   },
   "source": [
    "replace first element with 17 in temp1"
   ]
  },
  {
   "cell_type": "code",
   "execution_count": 84,
   "metadata": {
    "id": "featured-metro",
    "outputId": "c2c51db5-6321-42cf-94fe-87b4a3b83dac"
   },
   "outputs": [
    {
     "ename": "TypeError",
     "evalue": "'tuple' object does not support item assignment",
     "output_type": "error",
     "traceback": [
      "\u001b[1;31m---------------------------------------------------------------------------\u001b[0m",
      "\u001b[1;31mTypeError\u001b[0m                                 Traceback (most recent call last)",
      "\u001b[1;32m<ipython-input-84-3e499903e155>\u001b[0m in \u001b[0;36m<module>\u001b[1;34m\u001b[0m\n\u001b[0;32m      1\u001b[0m \u001b[1;31m#code here\u001b[0m\u001b[1;33m\u001b[0m\u001b[1;33m\u001b[0m\u001b[1;33m\u001b[0m\u001b[0m\n\u001b[1;32m----> 2\u001b[1;33m \u001b[0mtemp1\u001b[0m\u001b[1;33m[\u001b[0m\u001b[1;36m0\u001b[0m\u001b[1;33m]\u001b[0m\u001b[1;33m=\u001b[0m\u001b[1;36m11\u001b[0m\u001b[1;33m\u001b[0m\u001b[1;33m\u001b[0m\u001b[0m\n\u001b[0m\u001b[0;32m      3\u001b[0m \u001b[0mprint\u001b[0m\u001b[1;33m(\u001b[0m\u001b[0mtemp1\u001b[0m\u001b[1;33m)\u001b[0m\u001b[1;33m\u001b[0m\u001b[1;33m\u001b[0m\u001b[0m\n",
      "\u001b[1;31mTypeError\u001b[0m: 'tuple' object does not support item assignment"
     ]
    }
   ],
   "source": [
    "#code here\n",
    "temp1[0]=11\n",
    "print(temp1)\n"
   ]
  },
  {
   "cell_type": "markdown",
   "metadata": {
    "id": "shared-camel"
   },
   "source": [
    "<b>Oops!! You got an error. Hey Don't worry! Its because Once a tuple is created, you cannot change its values unlike list.</b>"
   ]
  },
  {
   "cell_type": "markdown",
   "metadata": {
    "id": "inner-homeless"
   },
   "source": [
    "#### 3.2 . Create city = (\"Bangalore\", 28.9949521, 72)"
   ]
  },
  {
   "cell_type": "markdown",
   "metadata": {
    "id": "fatal-lighting"
   },
   "source": [
    "<p style='text-align: right;'> 6 points</p>\n"
   ]
  },
  {
   "cell_type": "code",
   "execution_count": 85,
   "metadata": {
    "id": "warming-repository"
   },
   "outputs": [],
   "source": [
    "#code here\n",
    "city= ('Banglore',28.9949521,72)"
   ]
  },
  {
   "cell_type": "markdown",
   "metadata": {
    "id": "mature-armenia"
   },
   "source": [
    "Print first element of city"
   ]
  },
  {
   "cell_type": "code",
   "execution_count": 87,
   "metadata": {
    "id": "random-skill",
    "outputId": "cbb95e9d-47ba-423c-b606-5f271d4b4054"
   },
   "outputs": [
    {
     "name": "stdout",
     "output_type": "stream",
     "text": [
      "Banglore\n"
     ]
    }
   ],
   "source": [
    "#code here\n",
    "print(city[0])\n"
   ]
  },
  {
   "cell_type": "markdown",
   "metadata": {
    "id": "limited-inventory"
   },
   "source": [
    "Create city2 = (‘Chennai’, 30.01, 74)"
   ]
  },
  {
   "cell_type": "code",
   "execution_count": 88,
   "metadata": {
    "id": "encouraging-slovak"
   },
   "outputs": [],
   "source": [
    "#code here\n",
    "city2=('Chennai',30.01,74)"
   ]
  },
  {
   "cell_type": "markdown",
   "metadata": {
    "id": "herbal-charter"
   },
   "source": [
    "Create cities which consist of city and city2"
   ]
  },
  {
   "cell_type": "code",
   "execution_count": 93,
   "metadata": {
    "id": "silver-greensboro"
   },
   "outputs": [
    {
     "name": "stdout",
     "output_type": "stream",
     "text": [
      "(('Banglore', 28.9949521, 72), ('Chennai', 30.01, 74))\n"
     ]
    }
   ],
   "source": [
    "#code here\n",
    "cities=(city,city2)\n",
    "print(cities)\n"
   ]
  },
  {
   "cell_type": "markdown",
   "metadata": {
    "id": "critical-sleep"
   },
   "source": [
    "Print cities"
   ]
  },
  {
   "cell_type": "code",
   "execution_count": 94,
   "metadata": {
    "id": "patent-knight",
    "outputId": "76186d96-1167-4eed-b4d7-cd5ef495b09c"
   },
   "outputs": [
    {
     "name": "stdout",
     "output_type": "stream",
     "text": [
      "(('Banglore', 28.9949521, 72), ('Chennai', 30.01, 74))\n"
     ]
    }
   ],
   "source": [
    "#code here\n",
    "print(cities)\n"
   ]
  },
  {
   "cell_type": "markdown",
   "metadata": {
    "id": "comparative-movie"
   },
   "source": [
    "Print type of first element in cities"
   ]
  },
  {
   "cell_type": "code",
   "execution_count": 95,
   "metadata": {
    "id": "rolled-samoa",
    "outputId": "08a4f6c0-e873-4cb5-99ab-9264a453c11c"
   },
   "outputs": [
    {
     "data": {
      "text/plain": [
       "tuple"
      ]
     },
     "execution_count": 95,
     "metadata": {},
     "output_type": "execute_result"
    }
   ],
   "source": [
    "#code here\n",
    "type(cities[0])\n"
   ]
  },
  {
   "cell_type": "markdown",
   "metadata": {
    "id": "attached-commerce"
   },
   "source": [
    "print the type of cities\n"
   ]
  },
  {
   "cell_type": "code",
   "execution_count": 96,
   "metadata": {
    "id": "friendly-finder",
    "outputId": "761d252f-6aea-44d9-cd2d-5822a144b27a"
   },
   "outputs": [
    {
     "data": {
      "text/plain": [
       "tuple"
      ]
     },
     "execution_count": 96,
     "metadata": {},
     "output_type": "execute_result"
    }
   ],
   "source": [
    "#code here\n",
    "type(cities)"
   ]
  },
  {
   "cell_type": "markdown",
   "metadata": {
    "id": "roman-unemployment"
   },
   "source": [
    "Hey that implies you made a nested tuples!!"
   ]
  },
  {
   "cell_type": "markdown",
   "metadata": {
    "id": "transparent-constant"
   },
   "source": [
    "## 4. DICT\n",
    "\n",
    "Reference:-https://www.youtube.com/watch?v=XCcpzWs-CI4"
   ]
  },
  {
   "cell_type": "markdown",
   "metadata": {
    "id": "varying-wagon"
   },
   "source": [
    "<p style='text-align: right;'> 11 points</p>\n"
   ]
  },
  {
   "cell_type": "markdown",
   "metadata": {
    "id": "optical-malpractice"
   },
   "source": [
    "#### 4.1 Create a dictionary d = {\"actor\":\"amir\",\"animal\":\"cat\",\"earth\":2,\"list\":[23,32,12]}"
   ]
  },
  {
   "cell_type": "code",
   "execution_count": 97,
   "metadata": {
    "id": "sacred-particular"
   },
   "outputs": [],
   "source": [
    "#code here\n",
    "d = {\"actor\":\"amir\",\"animal\":\"cat\",\"earth\":2,\"list\":[23,32,12]}\n"
   ]
  },
  {
   "cell_type": "markdown",
   "metadata": {
    "id": "consolidated-mining"
   },
   "source": [
    "Print the value of d[0]"
   ]
  },
  {
   "cell_type": "code",
   "execution_count": 98,
   "metadata": {
    "id": "uniform-dragon",
    "outputId": "b6256651-1ce5-48a6-a960-8511c3ce7c52"
   },
   "outputs": [
    {
     "ename": "KeyError",
     "evalue": "0",
     "output_type": "error",
     "traceback": [
      "\u001b[1;31m---------------------------------------------------------------------------\u001b[0m",
      "\u001b[1;31mKeyError\u001b[0m                                  Traceback (most recent call last)",
      "\u001b[1;32m<ipython-input-98-a306cefea1b5>\u001b[0m in \u001b[0;36m<module>\u001b[1;34m\u001b[0m\n\u001b[0;32m      1\u001b[0m \u001b[1;31m#code here\u001b[0m\u001b[1;33m\u001b[0m\u001b[1;33m\u001b[0m\u001b[1;33m\u001b[0m\u001b[0m\n\u001b[1;32m----> 2\u001b[1;33m \u001b[0md\u001b[0m\u001b[1;33m[\u001b[0m\u001b[1;36m0\u001b[0m\u001b[1;33m]\u001b[0m\u001b[1;33m\u001b[0m\u001b[1;33m\u001b[0m\u001b[0m\n\u001b[0m",
      "\u001b[1;31mKeyError\u001b[0m: 0"
     ]
    }
   ],
   "source": [
    "#code here\n",
    "d[0]\n"
   ]
  },
  {
   "cell_type": "markdown",
   "metadata": {
    "id": "interracial-voice"
   },
   "source": [
    "<b>Oops!! again an error. again a fun fact. Dictionary return the value for key if key is in the dictionary, else throws KeyError\n",
    "and we don't have key 0 here :( </b>"
   ]
  },
  {
   "cell_type": "markdown",
   "metadata": {
    "id": "prospective-spouse"
   },
   "source": [
    "Store the value of d[‘actor’] to a new variable actor."
   ]
  },
  {
   "cell_type": "code",
   "execution_count": 99,
   "metadata": {
    "id": "durable-willow"
   },
   "outputs": [
    {
     "data": {
      "text/plain": [
       "'amir'"
      ]
     },
     "execution_count": 99,
     "metadata": {},
     "output_type": "execute_result"
    }
   ],
   "source": [
    "#code here\n",
    "d['actor']\n"
   ]
  },
  {
   "cell_type": "markdown",
   "metadata": {
    "id": "intelligent-python"
   },
   "source": [
    "Print the type of actor"
   ]
  },
  {
   "cell_type": "code",
   "execution_count": 100,
   "metadata": {
    "id": "independent-rolling",
    "outputId": "df8fc073-18cb-4712-9737-20f642ebb317"
   },
   "outputs": [
    {
     "data": {
      "text/plain": [
       "str"
      ]
     },
     "execution_count": 100,
     "metadata": {},
     "output_type": "execute_result"
    }
   ],
   "source": [
    "#code here\n",
    "type(d['actor'])\n"
   ]
  },
  {
   "cell_type": "markdown",
   "metadata": {
    "id": "external-philadelphia"
   },
   "source": [
    "Store the value of d[‘list’] in new variable l. "
   ]
  },
  {
   "cell_type": "code",
   "execution_count": 101,
   "metadata": {
    "id": "future-laugh"
   },
   "outputs": [],
   "source": [
    "#code here\n",
    "I = d[\"list\"]\n"
   ]
  },
  {
   "cell_type": "markdown",
   "metadata": {
    "id": "clean-recommendation"
   },
   "source": [
    "Print the type of l. "
   ]
  },
  {
   "cell_type": "code",
   "execution_count": 102,
   "metadata": {
    "id": "seventh-princeton",
    "outputId": "71c7dda8-fdc8-4f1d-896a-68c243e8dc29"
   },
   "outputs": [
    {
     "data": {
      "text/plain": [
       "list"
      ]
     },
     "execution_count": 102,
     "metadata": {},
     "output_type": "execute_result"
    }
   ],
   "source": [
    "#code here\n",
    "type(d[\"list\"])\n"
   ]
  },
  {
   "cell_type": "markdown",
   "metadata": {
    "id": "structured-penguin"
   },
   "source": [
    "Create d1 = { ‘singer’ : ‘Kr$na’ , ‘album’: ‘Still here’, ‘genre’ : ‘hip-hop’}"
   ]
  },
  {
   "cell_type": "code",
   "execution_count": 103,
   "metadata": {
    "id": "revolutionary-climb"
   },
   "outputs": [],
   "source": [
    "#code here\n",
    "d1= {'singer':'Kr$na','album':'Still here','genre':'hip-hop'}\n"
   ]
  },
  {
   "cell_type": "markdown",
   "metadata": {
    "id": "preliminary-material"
   },
   "source": [
    "Merge d1 into d."
   ]
  },
  {
   "cell_type": "code",
   "execution_count": 108,
   "metadata": {
    "id": "ongoing-poster"
   },
   "outputs": [
    {
     "data": {
      "text/plain": [
       "{'actor': 'amir',\n",
       " 'animal': 'cat',\n",
       " 'earth': 2,\n",
       " 'list': [23, 32, 12],\n",
       " 'singer': 'Kr$na',\n",
       " 'album': 'Still here',\n",
       " 'genre': 'hip-hop'}"
      ]
     },
     "execution_count": 108,
     "metadata": {},
     "output_type": "execute_result"
    }
   ],
   "source": [
    "#code here\n",
    "\n",
    "d.update(d1)\n",
    "d"
   ]
  },
  {
   "cell_type": "markdown",
   "metadata": {
    "id": "appreciated-wholesale"
   },
   "source": [
    "print d"
   ]
  },
  {
   "cell_type": "code",
   "execution_count": 123,
   "metadata": {
    "id": "trying-leather",
    "outputId": "4f6141f8-9189-4e6f-993d-7e6c5381f179"
   },
   "outputs": [
    {
     "name": "stdout",
     "output_type": "stream",
     "text": [
      "{'actor': 'amir', 'animal': 'cat', 'earth': 2, 'list': [23, 32, 12], 'singer': 'Kr$na', 'album': 'Still here', 'genre': 'hip-hop'}\n"
     ]
    }
   ],
   "source": [
    "#code here\n",
    "print(d)\n"
   ]
  },
  {
   "cell_type": "markdown",
   "metadata": {
    "id": "fallen-calculator"
   },
   "source": [
    "Print all the keys in d"
   ]
  },
  {
   "cell_type": "code",
   "execution_count": 124,
   "metadata": {
    "id": "expected-witch",
    "outputId": "22894829-5e16-489c-950a-39e72a113b05"
   },
   "outputs": [
    {
     "data": {
      "text/plain": [
       "dict_keys(['actor', 'animal', 'earth', 'list', 'singer', 'album', 'genre'])"
      ]
     },
     "execution_count": 124,
     "metadata": {},
     "output_type": "execute_result"
    }
   ],
   "source": [
    "#code here\n",
    "d.keys()\n"
   ]
  },
  {
   "cell_type": "markdown",
   "metadata": {
    "id": "prescribed-mapping"
   },
   "source": [
    "Print all the values in d"
   ]
  },
  {
   "cell_type": "code",
   "execution_count": 125,
   "metadata": {
    "id": "unlikely-ready",
    "outputId": "0532c9d1-1ca8-4050-ce64-3fd390b6e472"
   },
   "outputs": [
    {
     "data": {
      "text/plain": [
       "dict_values(['amir', 'cat', 2, [23, 32, 12], 'Kr$na', 'Still here', 'hip-hop'])"
      ]
     },
     "execution_count": 125,
     "metadata": {},
     "output_type": "execute_result"
    }
   ],
   "source": [
    "#code here\n",
    "d.values()"
   ]
  },
  {
   "cell_type": "markdown",
   "metadata": {
    "id": "precious-nightlife"
   },
   "source": [
    "Iterate over d, and print each key, value pair as given in output"
   ]
  },
  {
   "cell_type": "code",
   "execution_count": 127,
   "metadata": {
    "id": "processed-parks",
    "outputId": "8a92f1f6-25e7-41dd-9484-fd31109ab594"
   },
   "outputs": [
    {
     "name": "stdout",
     "output_type": "stream",
     "text": [
      "actor : amir\n",
      "animal : cat\n",
      "earth : 2\n",
      "list : [23, 32, 12]\n",
      "singer : Kr$na\n",
      "album : Still here\n",
      "genre : hip-hop\n"
     ]
    }
   ],
   "source": [
    "#code here\n",
    "for key in d.keys():\n",
    "    value = d[key]\n",
    "    print(key,\":\",value)\n",
    "    "
   ]
  },
  {
   "cell_type": "markdown",
   "metadata": {
    "id": "green-phase"
   },
   "source": [
    "count the number of occurences of charachters in string named \"sent\" using dictionary and print the same.\n"
   ]
  },
  {
   "cell_type": "code",
   "execution_count": 129,
   "metadata": {
    "id": "comic-savage",
    "outputId": "b3df8945-e167-4cff-927d-283c89d45558"
   },
   "outputs": [
    {
     "name": "stdout",
     "output_type": "stream",
     "text": [
      "{'C': 2, 'o': 6, 'r': 4, 'n': 3, 'a': 2, 'v': 1, 'i': 1, 'u': 3, 's': 3, ' ': 5, 'e': 2, 'd': 4, 'L': 1, 'c': 1, 'k': 1, 'w': 1, 'A': 1, 'T': 1, 'h': 1, 'W': 1, 'l': 1, '.': 1}\n"
     ]
    }
   ],
   "source": [
    "#code here\n",
    "sent = 'Coronavirus Caused Lockdowns Around The World.'\n",
    "\n",
    "def occurence(str1):\n",
    "    dict = {}\n",
    "    for i in str1:\n",
    "        keys = dict.keys() \n",
    "        if i in keys:\n",
    "            dict[i] += 1\n",
    "        else:\n",
    "            dict[i] = 1\n",
    "    return dict\n",
    "print(occurence(sent))\n",
    "\n",
    "\n",
    "# dear mentor need to understand mor eon this or simnpler method"
   ]
  },
  {
   "cell_type": "markdown",
   "metadata": {
    "id": "directed-public"
   },
   "source": [
    "# --------------------------------------------------------------------"
   ]
  },
  {
   "cell_type": "markdown",
   "metadata": {
    "id": "incomplete-administration"
   },
   "source": [
    "# Hurray!! Second milestone completed. The next challenge is waiting for you :)\n",
    "\n",
    "# --------------------------------------------------------------------"
   ]
  },
  {
   "cell_type": "code",
   "execution_count": null,
   "metadata": {
    "id": "earned-conjunction"
   },
   "outputs": [],
   "source": []
  }
 ],
 "metadata": {
  "colab": {
   "name": "Data Structure- List, Sets, Tuples, Dict.ipynb",
   "provenance": []
  },
  "kernelspec": {
   "display_name": "Python 3",
   "language": "python",
   "name": "python3"
  },
  "language_info": {
   "codemirror_mode": {
    "name": "ipython",
    "version": 3
   },
   "file_extension": ".py",
   "mimetype": "text/x-python",
   "name": "python",
   "nbconvert_exporter": "python",
   "pygments_lexer": "ipython3",
   "version": "3.8.3"
  }
 },
 "nbformat": 4,
 "nbformat_minor": 5
}
