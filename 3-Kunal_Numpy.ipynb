{
 "cells": [
  {
   "cell_type": "markdown",
   "metadata": {
    "id": "ortXWaGBZY7H"
   },
   "source": [
    "# <center><u>Numpy</u></center>"
   ]
  },
  {
   "cell_type": "markdown",
   "metadata": {
    "id": "-f7H2-GmZY7m"
   },
   "source": [
    "# Numpy Basics\n",
    "Welcome to section of Numpy. This is the one of the most used Python libraries for data science. NumPy consists of a powerful data structure called multidimensional arrays.\n",
    "\n",
    "NumPy is a library written for scientific computing and data analysis. It stands for numerical python and also known as array oriented computing.\n",
    "\n",
    "The most basic object in NumPy is the ndarray, or simply an array which is an n-dimensional, homogeneous array. By homogenous, we mean that all the elements in a NumPy array have to be of the same data type, which is commonly numeric (float or integer).\n",
    "\n",
    "\n",
    " # Why Numpy?\n",
    " convenience & speed\n",
    " \n",
    "Numpy is much faster than the standard python ways to do computations.\n",
    " \n",
    "Vectorised code typically does not contain explicit looping and indexing etc. (all of this happens behind the scenes, in precompiled C-code), and thus it is much more concise.\n",
    "\n",
    "Also, many Numpy operations are implemented in C which is basically being executed behind the scenes, avoiding the general cost of loops in Python, pointer indirection and per-element dynamic type checking. The speed boost depends on which operations you're performing.\n",
    " \n",
    " NumPy arrays are more compact than lists, i.e. they take much lesser storage space than lists"
   ]
  },
  {
   "cell_type": "markdown",
   "metadata": {
    "id": "JANXI5XIZY7q"
   },
   "source": [
    "## 1. Variable Declarartion\n",
    "\n",
    "Reference:-https://www.youtube.com/watch?v=Y_nVWb9bcHY"
   ]
  },
  {
   "cell_type": "markdown",
   "metadata": {
    "id": "mcK3GYWwZY7r"
   },
   "source": [
    "<p style='text-align: right;'> 5 points</p>"
   ]
  },
  {
   "cell_type": "code",
   "execution_count": 1,
   "metadata": {
    "id": "CUN8gtHnZY7t"
   },
   "outputs": [],
   "source": [
    "# Import numpy using alias np\n",
    "\n",
    "import numpy as np"
   ]
  },
  {
   "cell_type": "code",
   "execution_count": 2,
   "metadata": {
    "id": "-Debus47ZY7w"
   },
   "outputs": [],
   "source": [
    "# create a numpy array 'a' with elements 1,2,3\n",
    "# create a two dimensional array 'b' with elements(1,2,3) and (4,5,6)\n",
    "a= np.array([1,2,3])\n",
    "b= np.array([[1,2,3],[4,5,6]])"
   ]
  },
  {
   "cell_type": "code",
   "execution_count": 3,
   "metadata": {
    "id": "7Dk5uhjwZY7x",
    "outputId": "1a38e8f2-66b4-46c8-b9d1-f07752c6166d"
   },
   "outputs": [
    {
     "name": "stdout",
     "output_type": "stream",
     "text": [
      "[1 2 3]\n",
      "[[1 2 3]\n",
      " [4 5 6]]\n"
     ]
    }
   ],
   "source": [
    "# print the values of a and b\n",
    "print(a)\n",
    "print(b)"
   ]
  },
  {
   "cell_type": "markdown",
   "metadata": {
    "id": "9qjIMMSQZY71"
   },
   "source": [
    "Print shape of both a and b"
   ]
  },
  {
   "cell_type": "code",
   "execution_count": 4,
   "metadata": {
    "id": "bYzedM52ZY73",
    "outputId": "ab43cb25-3814-4b4f-f42e-a34776e824ae"
   },
   "outputs": [
    {
     "name": "stdout",
     "output_type": "stream",
     "text": [
      "(3,)\n",
      "(2, 3)\n"
     ]
    }
   ],
   "source": [
    "# your code here\n",
    "print(np.shape(a))\n",
    "print(np.shape(b))\n"
   ]
  },
  {
   "cell_type": "markdown",
   "metadata": {
    "id": "7X8E-1BAZY74"
   },
   "source": [
    "Print the data types of a and b"
   ]
  },
  {
   "cell_type": "code",
   "execution_count": 5,
   "metadata": {
    "id": "WOQGo-3GZY75",
    "outputId": "a858670e-b633-4703-80b8-754bfbb1ba0f"
   },
   "outputs": [
    {
     "name": "stdout",
     "output_type": "stream",
     "text": [
      "<class 'numpy.ndarray'>\n",
      "<class 'numpy.ndarray'>\n"
     ]
    }
   ],
   "source": [
    "print (type(a))\n",
    "print (type(b))"
   ]
  },
  {
   "cell_type": "markdown",
   "metadata": {
    "id": "3oCrEQG9ZY76"
   },
   "source": [
    "## 2. Add, remove elements and Memory Sharing\n",
    "\n",
    "Reference:- https://www.youtube.com/watch?v=dEnCfapUbEw<br>\n",
    "            https://www.youtube.com/watch?v=17vysCjwjxc"
   ]
  },
  {
   "cell_type": "markdown",
   "metadata": {
    "id": "l8N6Kn-TZY78"
   },
   "source": [
    "<p style='text-align: right;'> 10 points</p>\n"
   ]
  },
  {
   "cell_type": "markdown",
   "metadata": {
    "id": "zyHIX4zzZY79"
   },
   "source": [
    "Declare x = np.array([ 5,10, 20, 12, 3])"
   ]
  },
  {
   "cell_type": "code",
   "execution_count": 7,
   "metadata": {
    "id": "kXaKVGj3ZY7-"
   },
   "outputs": [],
   "source": [
    "# declare x \n",
    "# x = #your code here\n",
    "x= np.array([5,10,20,12,3])"
   ]
  },
  {
   "cell_type": "markdown",
   "metadata": {
    "id": "ptyraaSnZY8A"
   },
   "source": [
    "Add a new element 1 at the end of x"
   ]
  },
  {
   "cell_type": "code",
   "execution_count": 21,
   "metadata": {
    "id": "dbO1SVqEZY8B",
    "outputId": "9c41d492-6f1d-4a44-9511-e9b7f7e5e76c"
   },
   "outputs": [
    {
     "data": {
      "text/plain": [
       "array([ 5, 10, 20, 12,  3,  1])"
      ]
     },
     "execution_count": 21,
     "metadata": {},
     "output_type": "execute_result"
    }
   ],
   "source": [
    "# your code here\n",
    "np.append(x,1)\n",
    "\n",
    "# print(x) # check if 1 is added "
   ]
  },
  {
   "cell_type": "markdown",
   "metadata": {
    "id": "GifHH7rZZY8C"
   },
   "source": [
    "Delete the second element of x \n"
   ]
  },
  {
   "cell_type": "code",
   "execution_count": 24,
   "metadata": {
    "id": "fscLlbISZY8E",
    "outputId": "d6a32257-d2e7-4c9d-c74f-e4c1249f8cd6"
   },
   "outputs": [
    {
     "name": "stdout",
     "output_type": "stream",
     "text": [
      "[ 5 20 12  3]\n"
     ]
    }
   ],
   "source": [
    "# your code here \n",
    "y=np.delete(x,1)\n",
    "print(y) # check if the second element has been deleted"
   ]
  },
  {
   "cell_type": "markdown",
   "metadata": {
    "id": "C6noFmuEZY8F"
   },
   "source": [
    "Set y = x\n"
   ]
  },
  {
   "cell_type": "code",
   "execution_count": 25,
   "metadata": {
    "id": "QNff5G85ZY8G"
   },
   "outputs": [],
   "source": [
    "y=x"
   ]
  },
  {
   "cell_type": "markdown",
   "metadata": {
    "id": "PQyMA1iVZY8G"
   },
   "source": [
    "Set the first element y =  0\n"
   ]
  },
  {
   "cell_type": "code",
   "execution_count": 26,
   "metadata": {
    "id": "ifgz7k1KZY8H",
    "outputId": "1af76122-b68d-4d04-fcbe-6c515afe1eed"
   },
   "outputs": [
    {
     "name": "stdout",
     "output_type": "stream",
     "text": [
      "[ 0 10 20 12  3]\n"
     ]
    }
   ],
   "source": [
    "# set first element of y to be 0\n",
    "y[0]=0\n",
    "\n",
    "print(y)"
   ]
  },
  {
   "cell_type": "markdown",
   "metadata": {
    "id": "x67IA3VWZY8J"
   },
   "source": [
    "Print x and y\n",
    "\n"
   ]
  },
  {
   "cell_type": "code",
   "execution_count": 27,
   "metadata": {
    "id": "KzEQ0XXyZY8L",
    "outputId": "cca47f04-33b2-45b4-9eb0-56f17d38c690"
   },
   "outputs": [
    {
     "name": "stdout",
     "output_type": "stream",
     "text": [
      "[ 0 10 20 12  3]\n",
      "[ 0 10 20 12  3]\n"
     ]
    }
   ],
   "source": [
    "print(x)\n",
    "print(y)"
   ]
  },
  {
   "cell_type": "markdown",
   "metadata": {
    "id": "1CcbzhXIZY8M"
   },
   "source": [
    "<b>you modified y, OMG!! but why x is also affected? Just give a try to answer this quest below </b>"
   ]
  },
  {
   "cell_type": "code",
   "execution_count": 28,
   "metadata": {
    "id": "K6oY-jF8ZY8N"
   },
   "outputs": [],
   "source": [
    "# write in commented form or markdown format\n",
    "# y equals to x "
   ]
  },
  {
   "cell_type": "markdown",
   "metadata": {
    "id": "nWMcIhwpZY8O"
   },
   "source": [
    "Set z = np.copy(x)\n"
   ]
  },
  {
   "cell_type": "code",
   "execution_count": 32,
   "metadata": {
    "id": "SylbVSRYZY8P"
   },
   "outputs": [],
   "source": [
    "#z = #your code here\n",
    "z= np.copy(x)"
   ]
  },
  {
   "cell_type": "markdown",
   "metadata": {
    "id": "Nt9Gza_hZY8Q"
   },
   "source": [
    "Set the first element of y as 100\n"
   ]
  },
  {
   "cell_type": "code",
   "execution_count": 33,
   "metadata": {
    "id": "CS1Rv4awZY8R"
   },
   "outputs": [],
   "source": [
    "y[0]=100"
   ]
  },
  {
   "cell_type": "markdown",
   "metadata": {
    "id": "R77TtsQtZY8S"
   },
   "source": [
    "print x and z to see if there is any change in x."
   ]
  },
  {
   "cell_type": "code",
   "execution_count": 34,
   "metadata": {
    "id": "K3EEhFUWZY8T",
    "outputId": "d7e00e36-4f12-4024-e74a-cea61432ba7a"
   },
   "outputs": [
    {
     "name": "stdout",
     "output_type": "stream",
     "text": [
      "[100  10  20  12   3]\n",
      "[ 0 10 20 12  3]\n"
     ]
    }
   ],
   "source": [
    "print(x)\n",
    "print(z)"
   ]
  },
  {
   "cell_type": "markdown",
   "metadata": {
    "id": "ltguQ4fWZY8U"
   },
   "source": [
    "<b>Hey the above output seems so interesting!!. When used copy function the changes did not affect on x. Can you Guess why ?<b>"
   ]
  },
  {
   "cell_type": "code",
   "execution_count": null,
   "metadata": {
    "id": "b6gEoqkvZY8V"
   },
   "outputs": [],
   "source": [
    "# write here z didnt get affected since z is a copy of x "
   ]
  },
  {
   "cell_type": "markdown",
   "metadata": {
    "id": "4CLwcmUcZY8W"
   },
   "source": [
    "## 4. Using various Numpy Functions.\n",
    "\n",
    "Reference:- https://www.youtube.com/watch?v=HL-nfSG6F2I\n"
   ]
  },
  {
   "cell_type": "markdown",
   "metadata": {
    "id": "Ir2vUiKIZY8X"
   },
   "source": [
    "<p style='text-align: right;'> 8*2 = 16 points</p>\n"
   ]
  },
  {
   "cell_type": "markdown",
   "metadata": {
    "id": "m6p54mxkZY8X"
   },
   "source": [
    "Create a numpy array containing numbers from 1 to 12"
   ]
  },
  {
   "cell_type": "code",
   "execution_count": 35,
   "metadata": {
    "id": "tRnPlyGVZY8Y",
    "outputId": "1e57e1a7-7e5f-44b2-abad-77ba6036e551"
   },
   "outputs": [
    {
     "name": "stdout",
     "output_type": "stream",
     "text": [
      "[ 1  2  3  4  5  6  7  8  9 10 11 12]\n"
     ]
    }
   ],
   "source": [
    "# x = #your code here \n",
    "x= np.arange(1,13)\n",
    "print(x)"
   ]
  },
  {
   "cell_type": "markdown",
   "metadata": {
    "id": "S1ricKSvZY8b"
   },
   "source": [
    "Create a numpy array containing even numbers between 1 to 20\n",
    "\n",
    "\n"
   ]
  },
  {
   "cell_type": "code",
   "execution_count": 36,
   "metadata": {
    "id": "xaU84C5LZY8c",
    "outputId": "446631f8-4e63-4083-dfcf-a40467de436e"
   },
   "outputs": [],
   "source": [
    "k= np.arange(1,21)"
   ]
  },
  {
   "cell_type": "markdown",
   "metadata": {
    "id": "112fJWbHZY8d"
   },
   "source": [
    "Create an array of 2 rows and 2 columns containing all zeros.\n",
    "\n",
    "\n"
   ]
  },
  {
   "cell_type": "code",
   "execution_count": 43,
   "metadata": {
    "id": "dO7D7gyeZY8e",
    "outputId": "2ae3823c-8cf4-4ab1-8f36-d36c04c16c64"
   },
   "outputs": [
    {
     "name": "stdout",
     "output_type": "stream",
     "text": [
      "[[0 0]\n",
      " [0 0]]\n"
     ]
    }
   ],
   "source": [
    "# k=np.arange(1,5).reshape(2,2)*0\n",
    "k=np.zeros((2,2),int)\n",
    "print(k)"
   ]
  },
  {
   "cell_type": "markdown",
   "metadata": {
    "id": "W10F_9weZY8f"
   },
   "source": [
    "Create a matrix containing 3 rows and 2 columns where all the values are 1.\n",
    "\n",
    "\n"
   ]
  },
  {
   "cell_type": "code",
   "execution_count": 44,
   "metadata": {
    "id": "bMTtZB-nZY8g",
    "outputId": "7a0379ce-f010-4e11-c01b-32154e187db3"
   },
   "outputs": [
    {
     "data": {
      "text/plain": [
       "array([[1, 1],\n",
       "       [1, 1],\n",
       "       [1, 1]])"
      ]
     },
     "execution_count": 44,
     "metadata": {},
     "output_type": "execute_result"
    }
   ],
   "source": [
    "np.ones((3,2),int)"
   ]
  },
  {
   "cell_type": "markdown",
   "metadata": {
    "id": "K97yF7tHZY8h"
   },
   "source": [
    "Create a matrix of size 5x5 where all are diagonal elements are 1, rest being 0."
   ]
  },
  {
   "cell_type": "code",
   "execution_count": 56,
   "metadata": {
    "id": "PgQOMx7iZY8h",
    "outputId": "a6f427f7-7940-4fca-d9fe-15e61bc641c8"
   },
   "outputs": [
    {
     "data": {
      "text/plain": [
       "array([[1., 0., 0., 0., 0.],\n",
       "       [0., 1., 0., 0., 0.],\n",
       "       [0., 0., 1., 0., 0.],\n",
       "       [0., 0., 0., 1., 0.],\n",
       "       [0., 0., 0., 0., 1.]])"
      ]
     },
     "execution_count": 56,
     "metadata": {},
     "output_type": "execute_result"
    }
   ],
   "source": [
    "np.eye(5)\n",
    "#how can i make diagonal ones as int"
   ]
  },
  {
   "cell_type": "markdown",
   "metadata": {
    "id": "64LvA6RIZY8i"
   },
   "source": [
    "Create a matrix of size 4x2 where all the elements are 4\n",
    "\n",
    "\n"
   ]
  },
  {
   "cell_type": "code",
   "execution_count": 57,
   "metadata": {
    "id": "LAnFjUJYZY8j",
    "outputId": "fe7679d3-b028-47d6-8587-387569e64b9d"
   },
   "outputs": [
    {
     "data": {
      "text/plain": [
       "array([[4., 0., 0., 0., 0.],\n",
       "       [0., 4., 0., 0., 0.],\n",
       "       [0., 0., 4., 0., 0.],\n",
       "       [0., 0., 0., 4., 0.],\n",
       "       [0., 0., 0., 0., 4.]])"
      ]
     },
     "execution_count": 57,
     "metadata": {},
     "output_type": "execute_result"
    }
   ],
   "source": [
    "np.eye(5)*4"
   ]
  },
  {
   "cell_type": "markdown",
   "metadata": {
    "id": "VKo9QL4wZY8k"
   },
   "source": [
    "Create a matrix where diagonal elements are [1 , 2, 3, 4, 5] and rest are zero\n",
    "\n",
    "\n"
   ]
  },
  {
   "cell_type": "code",
   "execution_count": 58,
   "metadata": {
    "id": "p0KP0iivZY8k",
    "outputId": "87215858-d30b-44c7-98da-f5878f41f638"
   },
   "outputs": [
    {
     "data": {
      "text/plain": [
       "array([[1, 0, 0, 0, 0],\n",
       "       [0, 2, 0, 0, 0],\n",
       "       [0, 0, 3, 0, 0],\n",
       "       [0, 0, 0, 4, 0],\n",
       "       [0, 0, 0, 0, 5]])"
      ]
     },
     "execution_count": 58,
     "metadata": {},
     "output_type": "execute_result"
    }
   ],
   "source": [
    "np.diag(np.array([1,2,3,4,5]))"
   ]
  },
  {
   "cell_type": "markdown",
   "metadata": {
    "id": "yVlHRAlkZY8l"
   },
   "source": [
    "Create a matrix of size 3x3 which contains random numbers from 0 to 1.\n",
    "\n",
    "\n"
   ]
  },
  {
   "cell_type": "code",
   "execution_count": 67,
   "metadata": {
    "id": "zeQpihWEZY8m",
    "outputId": "3ec90eae-5f53-4934-cf1d-3a8dbc25780a"
   },
   "outputs": [
    {
     "data": {
      "text/plain": [
       "array([[0.82990694, 0.14887368, 0.46093215],\n",
       "       [0.82563749, 0.32683859, 0.89015558],\n",
       "       [0.15293579, 0.20517484, 0.09394311]])"
      ]
     },
     "execution_count": 67,
     "metadata": {},
     "output_type": "execute_result"
    }
   ],
   "source": [
    "np.random.rand(3,3)"
   ]
  },
  {
   "cell_type": "markdown",
   "metadata": {
    "id": "aHivYAzWZY8o"
   },
   "source": [
    "Create a numpy array of shape (50,) such that it contains evenly spaced numbers, from 1 to 20."
   ]
  },
  {
   "cell_type": "code",
   "execution_count": 78,
   "metadata": {
    "id": "CKSKFkrfZY8q",
    "outputId": "42d36207-5096-4686-b83e-feec3f09ea0e"
   },
   "outputs": [
    {
     "data": {
      "text/plain": [
       "array([ 1.        ,  1.3877551 ,  1.7755102 ,  2.16326531,  2.55102041,\n",
       "        2.93877551,  3.32653061,  3.71428571,  4.10204082,  4.48979592,\n",
       "        4.87755102,  5.26530612,  5.65306122,  6.04081633,  6.42857143,\n",
       "        6.81632653,  7.20408163,  7.59183673,  7.97959184,  8.36734694,\n",
       "        8.75510204,  9.14285714,  9.53061224,  9.91836735, 10.30612245,\n",
       "       10.69387755, 11.08163265, 11.46938776, 11.85714286, 12.24489796,\n",
       "       12.63265306, 13.02040816, 13.40816327, 13.79591837, 14.18367347,\n",
       "       14.57142857, 14.95918367, 15.34693878, 15.73469388, 16.12244898,\n",
       "       16.51020408, 16.89795918, 17.28571429, 17.67346939, 18.06122449,\n",
       "       18.44897959, 18.83673469, 19.2244898 , 19.6122449 , 20.        ])"
      ]
     },
     "execution_count": 78,
     "metadata": {},
     "output_type": "execute_result"
    }
   ],
   "source": [
    "np.linspace(1,20,50)"
   ]
  },
  {
   "cell_type": "markdown",
   "metadata": {
    "id": "Ws5-OcbaZY8r"
   },
   "source": [
    "## 5. Reshaping\n",
    "\n",
    "Reference:-https://www.youtube.com/watch?v=sGCuryS8zjc"
   ]
  },
  {
   "cell_type": "markdown",
   "metadata": {
    "id": "A66DTx69ZY8s"
   },
   "source": [
    "<p style='text-align: right;'> 4+1 = 5 points</p>\n"
   ]
  },
  {
   "cell_type": "markdown",
   "metadata": {
    "id": "D0JQWCj3ZY8u"
   },
   "source": [
    "Use np.arange to create  a numpy array with values between 0 to 23"
   ]
  },
  {
   "cell_type": "code",
   "execution_count": 81,
   "metadata": {
    "id": "IPXATb6kZY8w",
    "outputId": "975e1817-1c39-4818-c725-cc87d3a286d1"
   },
   "outputs": [
    {
     "name": "stdout",
     "output_type": "stream",
     "text": [
      "[ 0  1  2  3  4  5  6  7  8  9 10 11 12 13 14 15 16 17 18 19 20 21 22 23]\n"
     ]
    }
   ],
   "source": [
    "a =np.arange(0,24)\n",
    "\n",
    "print(a)"
   ]
  },
  {
   "cell_type": "code",
   "execution_count": 83,
   "metadata": {
    "id": "g05iCwhzZY8y",
    "outputId": "a822bbfc-769f-4e80-e187-6dbd7ff09468"
   },
   "outputs": [
    {
     "data": {
      "text/plain": [
       "(24,)"
      ]
     },
     "execution_count": 83,
     "metadata": {},
     "output_type": "execute_result"
    }
   ],
   "source": [
    "# print the shape of a\n",
    "a.shape"
   ]
  },
  {
   "cell_type": "markdown",
   "metadata": {
    "id": "ifqkFOjmZY80"
   },
   "source": [
    "Using a suitable method, reshape a to have a dimension of (3,8). Print b and its shape\n"
   ]
  },
  {
   "cell_type": "code",
   "execution_count": 85,
   "metadata": {
    "id": "RsVIV2jVZY81",
    "outputId": "26d6535a-0775-4adf-a90e-4ce8f39040f9"
   },
   "outputs": [
    {
     "name": "stdout",
     "output_type": "stream",
     "text": [
      "[[ 0  1  2  3  4  5  6  7]\n",
      " [ 8  9 10 11 12 13 14 15]\n",
      " [16 17 18 19 20 21 22 23]]\n"
     ]
    }
   ],
   "source": [
    "b = a.reshape(3,8)\n",
    "print(b)"
   ]
  },
  {
   "cell_type": "markdown",
   "metadata": {
    "id": "OStPh1j5ZY83"
   },
   "source": [
    "Create another numpy array c  = a.reshape(2,-1)"
   ]
  },
  {
   "cell_type": "code",
   "execution_count": 91,
   "metadata": {
    "id": "6fXGP0mRZY84"
   },
   "outputs": [],
   "source": [
    "c = a.reshape(2,-1)\n"
   ]
  },
  {
   "cell_type": "code",
   "execution_count": 92,
   "metadata": {
    "id": "64eHTcJNZY85",
    "outputId": "9c460e59-a17a-4dfa-b86b-5258f4cb6177"
   },
   "outputs": [
    {
     "name": "stdout",
     "output_type": "stream",
     "text": [
      "[[ 0  1  2  3  4  5  6  7  8  9 10 11]\n",
      " [12 13 14 15 16 17 18 19 20 21 22 23]]\n"
     ]
    }
   ],
   "source": [
    "print (c)"
   ]
  },
  {
   "cell_type": "markdown",
   "metadata": {
    "id": "5nZJETAPZY86"
   },
   "source": [
    "Print the shape of c."
   ]
  },
  {
   "cell_type": "code",
   "execution_count": 94,
   "metadata": {
    "id": "s-FgzUqmZY87",
    "outputId": "f66b3166-943d-4c93-e792-902c1df73399"
   },
   "outputs": [
    {
     "data": {
      "text/plain": [
       "(2, 12)"
      ]
     },
     "execution_count": 94,
     "metadata": {},
     "output_type": "execute_result"
    }
   ],
   "source": [
    "c.shape"
   ]
  },
  {
   "cell_type": "markdown",
   "metadata": {
    "id": "WUCsgCcLZY87"
   },
   "source": [
    "<b>Hey check above, what role -1 has played in reshape function. Don't worry</b>\n",
    "<b> ok let me tell you this fun fact</b>\n",
    "\n",
    "When using a -1, the dimension corresponding to the -1 will be the product of the dimensions of the original array divided by the product of the dimensions given to reshape so as to maintain the same number of elements"
   ]
  },
  {
   "cell_type": "markdown",
   "metadata": {
    "id": "LnDRlEgeZY88"
   },
   "source": [
    "________"
   ]
  },
  {
   "cell_type": "markdown",
   "metadata": {
    "id": "_0JvLHijZY89"
   },
   "source": [
    "## 6. Accessing numpy arrays\n",
    "\n",
    "Reference:-https://www.youtube.com/watch?v=y7kcnPy-NtQ\n"
   ]
  },
  {
   "cell_type": "markdown",
   "metadata": {
    "id": "lOKGY5IjZY9A"
   },
   "source": [
    "<p style='text-align: right;'> 6 points</p>\n"
   ]
  },
  {
   "cell_type": "markdown",
   "metadata": {
    "id": "Sayj5O7aZY9B"
   },
   "source": [
    "### Create an array, a = np.array([2,4,6,8,10,12,14,16])\n",
    "\n",
    "\n"
   ]
  },
  {
   "cell_type": "code",
   "execution_count": 95,
   "metadata": {
    "id": "EpS4gZX6ZY9C"
   },
   "outputs": [],
   "source": [
    "# code here\n",
    "a= np.array([2,4,6,8,10,12,14,16])"
   ]
  },
  {
   "cell_type": "code",
   "execution_count": 96,
   "metadata": {
    "id": "KbUKu7QUZY9D",
    "outputId": "325dc702-c954-4478-b76d-3fe569f540d1"
   },
   "outputs": [
    {
     "name": "stdout",
     "output_type": "stream",
     "text": [
      "[ 2  4  6  8 10 12 14 16]\n"
     ]
    }
   ],
   "source": [
    "# print a\n",
    "print(a)"
   ]
  },
  {
   "cell_type": "markdown",
   "metadata": {
    "id": "1q_SvYhJZY9E"
   },
   "source": [
    "<b>Using indexing and slicing, select the following mentioned subsets - </b>"
   ]
  },
  {
   "cell_type": "code",
   "execution_count": 117,
   "metadata": {
    "id": "7_TwPNwFZY9F",
    "outputId": "cb0c878d-5eab-4e97-9b1a-50ef5b730f98"
   },
   "outputs": [
    {
     "data": {
      "text/plain": [
       "[4]"
      ]
     },
     "execution_count": 117,
     "metadata": {},
     "output_type": "execute_result"
    }
   ],
   "source": [
    "# [4]\n",
    "#code here\n",
    "list(a[1:2])"
   ]
  },
  {
   "cell_type": "code",
   "execution_count": 121,
   "metadata": {
    "id": "FO-DC5e5ZY9G",
    "outputId": "4ba07ca8-5fc2-4d66-9f29-881b416ea3c5"
   },
   "outputs": [
    {
     "data": {
      "text/plain": [
       "[4, 8, 12]"
      ]
     },
     "execution_count": 121,
     "metadata": {},
     "output_type": "execute_result"
    }
   ],
   "source": [
    "#[4, 8, 12]\n",
    "[a[i] for i in range(0,6) if i%2!=0 ]\n",
    "#is there any other way to get this except for loop methods "
   ]
  },
  {
   "cell_type": "code",
   "execution_count": 114,
   "metadata": {
    "id": "SEZAVtAYZY9H",
    "outputId": "d12419e1-5442-48d4-a19a-3328688f97d2"
   },
   "outputs": [
    {
     "data": {
      "text/plain": [
       "[10, 12, 14, 16]"
      ]
     },
     "execution_count": 114,
     "metadata": {},
     "output_type": "execute_result"
    }
   ],
   "source": [
    "# [10, 12, 14, 16]\n",
    "list(a[-4:])"
   ]
  },
  {
   "cell_type": "code",
   "execution_count": 118,
   "metadata": {
    "id": "AgMbZtq9ZY9H",
    "outputId": "eb6add61-a8d9-4066-bb1a-304ac6c36a25"
   },
   "outputs": [
    {
     "data": {
      "text/plain": [
       "[14, 16]"
      ]
     },
     "execution_count": 118,
     "metadata": {},
     "output_type": "execute_result"
    }
   ],
   "source": [
    "# [14, 16]\n",
    "list(a[-2:])"
   ]
  },
  {
   "cell_type": "code",
   "execution_count": 120,
   "metadata": {
    "id": "TjfpmrzdZY9I",
    "outputId": "edd33802-e044-43d3-8306-9763782d98d3"
   },
   "outputs": [
    {
     "data": {
      "text/plain": [
       "[2, 6, 10, 14]"
      ]
     },
     "execution_count": 120,
     "metadata": {},
     "output_type": "execute_result"
    }
   ],
   "source": [
    "# [2, 6, 10, 14]\n",
    "[a[i] for i in range(0,7) if i%2==0 ]"
   ]
  },
  {
   "cell_type": "markdown",
   "metadata": {
    "id": "Xw4P0pZtZY9P"
   },
   "source": [
    "## 7. Transposing\n",
    "\n",
    "Reference:-https://www.youtube.com/watch?v=oNjX7nzFzrc"
   ]
  },
  {
   "cell_type": "markdown",
   "metadata": {
    "id": "5dIRiwqKZY9P"
   },
   "source": [
    "<p style='text-align: right;'> 4 points</p>\n"
   ]
  },
  {
   "cell_type": "markdown",
   "metadata": {
    "id": "eaG4myKZZY9Q"
   },
   "source": [
    "Create an array a = np.array([ [1, 2, 3], [4, 5, 6], [7,8,9], [10,11,12] ] )\n"
   ]
  },
  {
   "cell_type": "code",
   "execution_count": 122,
   "metadata": {
    "id": "HABEKsfEZY9Q"
   },
   "outputs": [],
   "source": [
    "a=np.array([ [1, 2, 3], [4, 5, 6], [7,8,9], [10,11,12] ] )"
   ]
  },
  {
   "cell_type": "markdown",
   "metadata": {
    "id": "6-dAf8CgZY9Q"
   },
   "source": [
    "What is the shape of a?"
   ]
  },
  {
   "cell_type": "code",
   "execution_count": 126,
   "metadata": {
    "id": "Efi7okkyZY9R",
    "outputId": "c33be4b3-c2e4-4fb7-f10a-2f83cdb9c579"
   },
   "outputs": [
    {
     "name": "stdout",
     "output_type": "stream",
     "text": [
      "[[ 1  2  3]\n",
      " [ 4  5  6]\n",
      " [ 7  8  9]\n",
      " [10 11 12]]\n"
     ]
    },
    {
     "data": {
      "text/plain": [
       "(4, 3)"
      ]
     },
     "execution_count": 126,
     "metadata": {},
     "output_type": "execute_result"
    }
   ],
   "source": [
    "print(a)\n",
    "a.shape"
   ]
  },
  {
   "cell_type": "markdown",
   "metadata": {
    "id": "DKWTo_thZY9R"
   },
   "source": [
    "### Create another array b which is transpose of a"
   ]
  },
  {
   "cell_type": "code",
   "execution_count": 124,
   "metadata": {
    "id": "RimHxvdcZY9S"
   },
   "outputs": [],
   "source": [
    "b=np.transpose(a)"
   ]
  },
  {
   "cell_type": "markdown",
   "metadata": {
    "id": "pq0QFCI2ZY9S"
   },
   "source": [
    "Print b and its shape"
   ]
  },
  {
   "cell_type": "code",
   "execution_count": 125,
   "metadata": {
    "id": "UBlzUDdLZY9S",
    "outputId": "5a5da467-c0bf-4d90-9014-212fec9dbc58"
   },
   "outputs": [
    {
     "name": "stdout",
     "output_type": "stream",
     "text": [
      "[[ 1  4  7 10]\n",
      " [ 2  5  8 11]\n",
      " [ 3  6  9 12]]\n"
     ]
    },
    {
     "data": {
      "text/plain": [
       "(3, 4)"
      ]
     },
     "execution_count": 125,
     "metadata": {},
     "output_type": "execute_result"
    }
   ],
   "source": [
    "print(b)\n",
    "b.shape"
   ]
  },
  {
   "cell_type": "markdown",
   "metadata": {
    "id": "Tr198-eNZY9T"
   },
   "source": [
    "## 8. Mathematical Operations\n",
    "\n",
    "Reference:-https://www.youtube.com/watch?v=17vysCjwjxc"
   ]
  },
  {
   "cell_type": "markdown",
   "metadata": {
    "id": "X3JwqYUuZY9T"
   },
   "source": [
    "<p style='text-align: right;'> 8 points</p>\n"
   ]
  },
  {
   "cell_type": "markdown",
   "metadata": {
    "id": "OCojmIFpZY9U"
   },
   "source": [
    "### Complete the following tasks given in comment using numpy function."
   ]
  },
  {
   "cell_type": "code",
   "execution_count": 128,
   "metadata": {
    "id": "KDk508AMZY9U",
    "outputId": "fe25eaf2-1970-4918-aa62-6218e33e2eb5"
   },
   "outputs": [
    {
     "name": "stdout",
     "output_type": "stream",
     "text": [
      "[0 1 2 3 4 5 6 7 8 9]\n"
     ]
    }
   ],
   "source": [
    "# complete your tasks here\n",
    "\n",
    "# Create an array, a = np.arange(10) and print a\n",
    "a= np.arange(10)\n",
    "print(a)"
   ]
  },
  {
   "cell_type": "code",
   "execution_count": 130,
   "metadata": {
    "id": "XCjR0ECUZY9V",
    "outputId": "59c3a96a-4d78-4d8b-bf97-744488abbc45"
   },
   "outputs": [
    {
     "data": {
      "text/plain": [
       "array([ 0.        ,  0.84147098,  0.90929743,  0.14112001, -0.7568025 ,\n",
       "       -0.95892427, -0.2794155 ,  0.6569866 ,  0.98935825,  0.41211849])"
      ]
     },
     "execution_count": 130,
     "metadata": {},
     "output_type": "execute_result"
    }
   ],
   "source": [
    "# Find sin value of a\n",
    "\n",
    "np.sin(a)"
   ]
  },
  {
   "cell_type": "code",
   "execution_count": 131,
   "metadata": {
    "id": "h6gQI1YPZY9W",
    "outputId": "64173488-f2c2-4100-cd36-dcb6d398b5f4"
   },
   "outputs": [
    {
     "data": {
      "text/plain": [
       "array([ 1.        ,  0.54030231, -0.41614684, -0.9899925 , -0.65364362,\n",
       "        0.28366219,  0.96017029,  0.75390225, -0.14550003, -0.91113026])"
      ]
     },
     "execution_count": 131,
     "metadata": {},
     "output_type": "execute_result"
    }
   ],
   "source": [
    "# Find cos value a\n",
    "np.cos(a)"
   ]
  },
  {
   "cell_type": "code",
   "execution_count": 132,
   "metadata": {
    "id": "uonTeZOjZY9W",
    "outputId": "c909839c-d147-4c6b-f609-2931790ffbfd"
   },
   "outputs": [
    {
     "data": {
      "text/plain": [
       "array([1.00000000e+00, 2.71828183e+00, 7.38905610e+00, 2.00855369e+01,\n",
       "       5.45981500e+01, 1.48413159e+02, 4.03428793e+02, 1.09663316e+03,\n",
       "       2.98095799e+03, 8.10308393e+03])"
      ]
     },
     "execution_count": 132,
     "metadata": {},
     "output_type": "execute_result"
    }
   ],
   "source": [
    "# Find exponential of all the values in a.\n",
    "\n",
    "np.exp(a)"
   ]
  },
  {
   "cell_type": "code",
   "execution_count": 133,
   "metadata": {
    "id": "pIMf4gVtZY9X",
    "outputId": "c70ad2ec-7efd-4149-f5eb-41ec4ca37660"
   },
   "outputs": [
    {
     "data": {
      "text/plain": [
       "45"
      ]
     },
     "execution_count": 133,
     "metadata": {},
     "output_type": "execute_result"
    }
   ],
   "source": [
    "# Find the sum of all the values in a.\n",
    "\n",
    "np.sum(a)"
   ]
  },
  {
   "cell_type": "code",
   "execution_count": 134,
   "metadata": {
    "id": "Ydm8dr3qZY9X",
    "outputId": "eb4edde9-3cc9-44e7-c046-234b865fad4c"
   },
   "outputs": [
    {
     "data": {
      "text/plain": [
       "4.5"
      ]
     },
     "execution_count": 134,
     "metadata": {},
     "output_type": "execute_result"
    }
   ],
   "source": [
    "# Find the median value in a.\n",
    "\n",
    "np.median(a)"
   ]
  },
  {
   "cell_type": "code",
   "execution_count": 135,
   "metadata": {
    "id": "ohAuhzLUZY9Y",
    "outputId": "e6a80e07-a664-455f-f4c4-f750cc1e2fc9"
   },
   "outputs": [
    {
     "data": {
      "text/plain": [
       "9"
      ]
     },
     "execution_count": 135,
     "metadata": {},
     "output_type": "execute_result"
    }
   ],
   "source": [
    "#Find the max value of a\n",
    "\n",
    "np.max(a)"
   ]
  },
  {
   "cell_type": "code",
   "execution_count": 136,
   "metadata": {
    "id": "xIS3oYVKZY9Z",
    "outputId": "0b544ca6-0796-405a-ffd7-d59f2b99eb45"
   },
   "outputs": [
    {
     "data": {
      "text/plain": [
       "0"
      ]
     },
     "execution_count": 136,
     "metadata": {},
     "output_type": "execute_result"
    }
   ],
   "source": [
    "#Find the min value of a\n",
    "\n",
    "np.min(a)"
   ]
  },
  {
   "cell_type": "code",
   "execution_count": 167,
   "metadata": {
    "id": "Hv4XOmJ5ZY9Z",
    "outputId": "8e146a50-6b86-486f-9a01-ed2c20dad21b"
   },
   "outputs": [
    {
     "name": "stdout",
     "output_type": "stream",
     "text": [
      "(array([9], dtype=int64),)\n"
     ]
    }
   ],
   "source": [
    "# Find the index of the maximum element in a\n",
    "a= np.arange(10)\n",
    "max_value = np.max(a)\n",
    "max_index=np.where(a==np.amax(a))\n",
    "print(max_index)\n",
    "\n",
    "# i have used here amax - but i need to understand diff what is the diff between max and amax"
   ]
  },
  {
   "cell_type": "markdown",
   "metadata": {
    "id": "H0xSFXy3ZY9a"
   },
   "source": [
    "## 9. Hstack and vstack\n",
    "\n",
    "Reference: https://www.youtube.com/watch?v=ksqPbrS-b78"
   ]
  },
  {
   "cell_type": "markdown",
   "metadata": {
    "id": "WclDsFZdZY9a"
   },
   "source": [
    "<p style='text-align: right;'> 1 + 1 + 2 + 2 = 6 points</p>\n"
   ]
  },
  {
   "cell_type": "markdown",
   "metadata": {
    "id": "CoyqT8i2ZY9b"
   },
   "source": [
    "Create a = np.array( [ [1, 2, 3], [ 4, 5, 6], [7 ,8, 9] ]) and print a."
   ]
  },
  {
   "cell_type": "code",
   "execution_count": 168,
   "metadata": {
    "id": "g6Quzn25ZY9b",
    "outputId": "929905bd-6203-4fe8-b2df-4b23a96f1051"
   },
   "outputs": [
    {
     "name": "stdout",
     "output_type": "stream",
     "text": [
      "[[1 2 3]\n",
      " [4 5 6]\n",
      " [7 8 9]]\n"
     ]
    }
   ],
   "source": [
    "a = np.array( [ [1, 2, 3], [ 4, 5, 6], [7 ,8, 9] ]) \n",
    "print (a)"
   ]
  },
  {
   "cell_type": "markdown",
   "metadata": {
    "id": "OCWMGV5GZY9c"
   },
   "source": [
    "Create b = np.array( [ [10, 11, 12] , [13,14,15], [16, 17, 18] ]) and print b\n"
   ]
  },
  {
   "cell_type": "code",
   "execution_count": 169,
   "metadata": {
    "id": "6UqxrQ-UZY9c",
    "outputId": "ebe85b88-f503-4ba6-ffb0-742995d9d8f3"
   },
   "outputs": [
    {
     "name": "stdout",
     "output_type": "stream",
     "text": [
      "[[10 11 12]\n",
      " [13 14 15]\n",
      " [16 17 18]]\n"
     ]
    }
   ],
   "source": [
    "b = np.array( [ [10, 11, 12] , [13,14,15], [16, 17, 18] ]) \n",
    "print(b)"
   ]
  },
  {
   "cell_type": "markdown",
   "metadata": {
    "id": "T7PJ14xsZY9d"
   },
   "source": [
    "Create a new array c stacking a and b horizontally, print the values and shape of this array."
   ]
  },
  {
   "cell_type": "code",
   "execution_count": 180,
   "metadata": {
    "id": "TIZUzSM_ZY9d",
    "outputId": "383a2096-34fd-460d-d76f-60b9c80e4806"
   },
   "outputs": [
    {
     "name": "stdout",
     "output_type": "stream",
     "text": [
      "[[ 1  2  3]\n",
      " [ 4  5  6]\n",
      " [ 7  8  9]\n",
      " [10 11 12]\n",
      " [13 14 15]\n",
      " [16 17 18]]\n"
     ]
    },
    {
     "data": {
      "text/plain": [
       "(6, 3)"
      ]
     },
     "execution_count": 180,
     "metadata": {},
     "output_type": "execute_result"
    }
   ],
   "source": [
    "c=np.vstack((a,b))\n",
    "print(c)\n",
    "c.shape"
   ]
  },
  {
   "cell_type": "markdown",
   "metadata": {
    "id": "Pz3HXAkkZY9e"
   },
   "source": [
    "Create a new array d stacking a and b vertically, print the values and shape of this array."
   ]
  },
  {
   "cell_type": "code",
   "execution_count": 181,
   "metadata": {
    "id": "1qLkc8PxZY9e",
    "outputId": "2294fe07-a680-4e20-965a-c8051c4c62cb"
   },
   "outputs": [
    {
     "name": "stdout",
     "output_type": "stream",
     "text": [
      "[[ 1  2  3 10 11 12]\n",
      " [ 4  5  6 13 14 15]\n",
      " [ 7  8  9 16 17 18]]\n"
     ]
    },
    {
     "data": {
      "text/plain": [
       "(3, 6)"
      ]
     },
     "execution_count": 181,
     "metadata": {},
     "output_type": "execute_result"
    }
   ],
   "source": [
    "d=np.hstack((a,b))\n",
    "print(d)\n",
    "d.shape"
   ]
  },
  {
   "cell_type": "markdown",
   "metadata": {
    "id": "e9bbdBWxZY9f"
   },
   "source": [
    "____________\n",
    "\n",
    "# Woohoo!!! you completed the 3rd milestone challenge too! Congratulations. \n",
    "\n",
    "\n",
    "\n",
    "____________"
   ]
  },
  {
   "cell_type": "markdown",
   "metadata": {
    "id": "CG6h_jBBkqhy"
   },
   "source": [
    "# FeedBack\n",
    "We hope you’ve enjoyed this course so far. We’re committed to helping you use AIforAll course to its full potential so you can grow with us. And that’s why we need your help in form of a feedback here\n",
    "\n",
    "We appreciate your time for your thoughtful comment below\n",
    "\n"
   ]
  },
  {
   "cell_type": "markdown",
   "metadata": {
    "id": "eODtRzL0ZY9g"
   },
   "source": [
    "Space to comment:\n",
    "\n",
    "<br>good exercises<b>"
   ]
  },
  {
   "cell_type": "markdown",
   "metadata": {
    "id": "SF5wfrUzZY9g"
   },
   "source": [
    "**Rate the following in the scale of 1 to 10**"
   ]
  },
  {
   "cell_type": "markdown",
   "metadata": {
    "id": "Z21xk0eg7o40"
   },
   "source": [
    "Assignment Difficulty Level"
   ]
  },
  {
   "cell_type": "markdown",
   "metadata": {
    "id": "2BNiAaWG8ghA"
   },
   "source": [
    "**Rate**:  6"
   ]
  },
  {
   "cell_type": "markdown",
   "metadata": {
    "id": "fcxokRVa8R7m"
   },
   "source": [
    "Question Clarity Level"
   ]
  },
  {
   "cell_type": "markdown",
   "metadata": {
    "id": "QFLtqPmL9eW2"
   },
   "source": [
    "**Rate**: 8"
   ]
  },
  {
   "cell_type": "markdown",
   "metadata": {
    "id": "C6MvTJRa8hjl"
   },
   "source": [
    "YouTube video content quality."
   ]
  },
  {
   "cell_type": "markdown",
   "metadata": {
    "id": "W0UjeozA8ZQ3"
   },
   "source": [
    "**Rate**: 10"
   ]
  },
  {
   "cell_type": "code",
   "execution_count": null,
   "metadata": {
    "id": "9Eu3k6RYZY9j"
   },
   "outputs": [],
   "source": []
  }
 ],
 "metadata": {
  "colab": {
   "name": "Kunal Assignment 3 -Numpy.ipynb",
   "provenance": []
  },
  "kernelspec": {
   "display_name": "Python 3",
   "language": "python",
   "name": "python3"
  },
  "language_info": {
   "codemirror_mode": {
    "name": "ipython",
    "version": 3
   },
   "file_extension": ".py",
   "mimetype": "text/x-python",
   "name": "python",
   "nbconvert_exporter": "python",
   "pygments_lexer": "ipython3",
   "version": "3.8.3"
  }
 },
 "nbformat": 4,
 "nbformat_minor": 5
}
