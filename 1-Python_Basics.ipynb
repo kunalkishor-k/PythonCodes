{
 "cells": [
  {
   "cell_type": "markdown",
   "metadata": {
    "id": "KjKXGcSxeNXM"
   },
   "source": [
    "# <center> Python basics</center>"
   ]
  },
  {
   "cell_type": "markdown",
   "metadata": {
    "id": "9p1Ufa7ceNXQ"
   },
   "source": [
    "## Variable declaration"
   ]
  },
  {
   "cell_type": "markdown",
   "metadata": {
    "id": "4sR5efaCeNXQ"
   },
   "source": [
    "Covers the topic of variable declaration and type of variables\n",
    "\n",
    "reference:- https://youtu.be/RVYY7zMiPbg"
   ]
  },
  {
   "cell_type": "markdown",
   "metadata": {
    "id": "KE7co6gleNXQ"
   },
   "source": [
    "<p style='text-align: right;'> 1+1+1+1+1 = 5 points</p>\n"
   ]
  },
  {
   "cell_type": "code",
   "execution_count": 1,
   "metadata": {
    "id": "vO08gwqneNXR"
   },
   "outputs": [],
   "source": [
    "# declare two variables, a = 5, b = 'city'\n",
    "a = 5       # your code here\n",
    "b =  'city' # your code here"
   ]
  },
  {
   "cell_type": "code",
   "execution_count": 4,
   "metadata": {
    "colab": {
     "base_uri": "https://localhost:8080/",
     "height": 0
    },
    "id": "scAjfXbYeNXR",
    "outputId": "74a4a9e3-6892-418d-ce2f-154c52cbe736"
   },
   "outputs": [
    {
     "data": {
      "text/plain": [
       "int"
      ]
     },
     "execution_count": 4,
     "metadata": {
      "tags": []
     },
     "output_type": "execute_result"
    }
   ],
   "source": [
    "type(a)        # print type of a\n"
   ]
  },
  {
   "cell_type": "code",
   "execution_count": 5,
   "metadata": {
    "colab": {
     "base_uri": "https://localhost:8080/",
     "height": 0
    },
    "id": "QjRcLLnieNXR",
    "outputId": "27e47d31-002a-4d58-ddf3-130e46be8e4d"
   },
   "outputs": [
    {
     "data": {
      "text/plain": [
       "str"
      ]
     },
     "execution_count": 5,
     "metadata": {
      "tags": []
     },
     "output_type": "execute_result"
    }
   ],
   "source": [
    "type(b) # print type of b\n",
    "\n"
   ]
  },
  {
   "cell_type": "code",
   "execution_count": 6,
   "metadata": {
    "id": "Qmbw_6M-eNXS"
   },
   "outputs": [],
   "source": [
    "a = 'city'# swap the values of a and b\n",
    "b= 5"
   ]
  },
  {
   "cell_type": "code",
   "execution_count": 7,
   "metadata": {
    "colab": {
     "base_uri": "https://localhost:8080/",
     "height": 0
    },
    "id": "YopoVVCAeNXS",
    "outputId": "2a6a6d68-c9fa-44e6-974e-5fb2c1c770d0"
   },
   "outputs": [
    {
     "name": "stdout",
     "output_type": "stream",
     "text": [
      "a = city , b = 5\n"
     ]
    }
   ],
   "source": [
    "# run this to confirm \n",
    "print('a = ' + str(a) + ' , b = ' + str(b))"
   ]
  },
  {
   "cell_type": "markdown",
   "metadata": {
    "id": "a_v4KypaeNXS"
   },
   "source": [
    "## Arithmetic Operations"
   ]
  },
  {
   "cell_type": "markdown",
   "metadata": {
    "id": "oimyvbWbeNXS"
   },
   "source": [
    "Simple mathematical operations and using math module to apply mathematical functions"
   ]
  },
  {
   "cell_type": "markdown",
   "metadata": {
    "id": "MXIsatRMeNXS"
   },
   "source": [
    "- Mathematical operations\n",
    "\n",
    "reference:- https://youtu.be/0-hzxfkpHy8"
   ]
  },
  {
   "cell_type": "markdown",
   "metadata": {
    "id": "KrbCKjEfeNXS"
   },
   "source": [
    "<p style='text-align: right;'> 1 + 7 = 8 points </p>\n"
   ]
  },
  {
   "cell_type": "code",
   "execution_count": 55,
   "metadata": {
    "colab": {
     "base_uri": "https://localhost:8080/",
     "height": 0
    },
    "id": "2v8qg_9deNXT",
    "outputId": "1c3e900a-f467-4b1b-9152-36f5eb9693d8"
   },
   "outputs": [
    {
     "name": "stdout",
     "output_type": "stream",
     "text": [
      "a = 24, b = 3\n"
     ]
    }
   ],
   "source": [
    "# declare two variables, a = 24, b = 3\n",
    "\n",
    "a = 24 # your code here\n",
    "b = 3  # your code here\n",
    "print('a = {}, b = {}'.format(a,b))"
   ]
  },
  {
   "cell_type": "code",
   "execution_count": 56,
   "metadata": {
    "colab": {
     "base_uri": "https://localhost:8080/",
     "height": 0
    },
    "id": "5ZDI9lYXeNXT",
    "outputId": "aecd9e56-e66e-4f1a-e9f8-1645c26b2652"
   },
   "outputs": [
    {
     "name": "stdout",
     "output_type": "stream",
     "text": [
      "a+b= 27\n",
      "a-b= 21\n",
      "a*b= 72\n",
      "a/b= 8.0\n",
      "a%b= 0\n",
      "a//b= 8\n",
      "a^b= 13824\n"
     ]
    }
   ],
   "source": [
    "# calculate and print all the possible numeriacl operations on a and b (There are total 7 operations)\n",
    "print('a+b=',a+b)\n",
    "print('a-b=',a-b)\n",
    "print('a*b=',a*b)\n",
    "print('a/b=',a/b)\n",
    "print('a%b=',a%b)\n",
    "print('a//b=',a//b)\n",
    "print('a^b=',a ** b)"
   ]
  },
  {
   "cell_type": "markdown",
   "metadata": {
    "id": "72RJqXFDeNXT"
   },
   "source": [
    "## Math Functions"
   ]
  },
  {
   "cell_type": "markdown",
   "metadata": {
    "id": "9inWZMVBeNXT"
   },
   "source": [
    "Math module contains various mathematical functions. \n",
    "\n",
    "Reference:- https://youtu.be/gktjNyV0xks"
   ]
  },
  {
   "cell_type": "markdown",
   "metadata": {
    "id": "760Q04pmeNXT"
   },
   "source": [
    "<p style='text-align: right;'> 1 + 4 = 5 points </p>\n"
   ]
  },
  {
   "cell_type": "code",
   "execution_count": 35,
   "metadata": {
    "colab": {
     "base_uri": "https://localhost:8080/",
     "height": 0
    },
    "id": "96VQV_7xeNXT",
    "outputId": "1da4ffdc-7e0d-4d78-aaaa-0829fa128f5d"
   },
   "outputs": [
    {
     "name": "stdout",
     "output_type": "stream",
     "text": [
      "a =  2\n"
     ]
    }
   ],
   "source": [
    "import math\n",
    "# declare a variable a = 2\n",
    "a = 2  #your code here\n",
    "print('a = ',a)"
   ]
  },
  {
   "cell_type": "code",
   "execution_count": 38,
   "metadata": {
    "id": "MP7p4aqXeNXT"
   },
   "outputs": [],
   "source": [
    "# declare a variable x = 2 and y=5.32167\n",
    "\n",
    "x= 2 #code here\n",
    "y= 5.32167 #code here"
   ]
  },
  {
   "cell_type": "code",
   "execution_count": 39,
   "metadata": {
    "colab": {
     "base_uri": "https://localhost:8080/",
     "height": 0
    },
    "id": "e-83j1adeNXT",
    "outputId": "9e737d25-344b-4383-ff95-86f0ee7de9ff"
   },
   "outputs": [
    {
     "data": {
      "text/plain": [
       "5.32167"
      ]
     },
     "execution_count": 39,
     "metadata": {
      "tags": []
     },
     "output_type": "execute_result"
    }
   ],
   "source": [
    "max(x,y) # Print the maximum value between x and y\n",
    "\n"
   ]
  },
  {
   "cell_type": "code",
   "execution_count": 40,
   "metadata": {
    "colab": {
     "base_uri": "https://localhost:8080/",
     "height": 0
    },
    "id": "L7k75CdJeNXU",
    "outputId": "813aff3c-89aa-48dc-bbf4-53bfdbc320f5"
   },
   "outputs": [
    {
     "data": {
      "text/plain": [
       "5.32"
      ]
     },
     "execution_count": 40,
     "metadata": {
      "tags": []
     },
     "output_type": "execute_result"
    }
   ],
   "source": [
    "round(y,2) # Round value of y upto 2 decimal places\n",
    "\n"
   ]
  },
  {
   "cell_type": "code",
   "execution_count": 53,
   "metadata": {
    "colab": {
     "base_uri": "https://localhost:8080/",
     "height": 0
    },
    "id": "mqnxWyVPeNXU",
    "outputId": "f6655522-7c72-4f34-a1fc-8238a2e97be3"
   },
   "outputs": [
    {
     "name": "stdout",
     "output_type": "stream",
     "text": [
      "4\n",
      "8\n"
     ]
    }
   ],
   "source": [
    "import math\n",
    "x=2\n",
    "a= x**2 # Print square and cube of x and store in a and b variable\n",
    "b= x**3\n",
    "print(a)\n",
    "print(b)"
   ]
  },
  {
   "cell_type": "code",
   "execution_count": 62,
   "metadata": {
    "colab": {
     "base_uri": "https://localhost:8080/",
     "height": 0
    },
    "id": "wIckQ1nueNXU",
    "outputId": "5983dd83-4890-4753-99a8-85d1a81d98ea"
   },
   "outputs": [
    {
     "name": "stdout",
     "output_type": "stream",
     "text": [
      "0.6931471805599453\n"
     ]
    }
   ],
   "source": [
    "#print log of x and store it in variable c\n",
    "import math as m\n",
    "x=2\n",
    "c= m.log(x)\n",
    "print(c)\n"
   ]
  },
  {
   "cell_type": "code",
   "execution_count": 63,
   "metadata": {
    "colab": {
     "base_uri": "https://localhost:8080/",
     "height": 0
    },
    "id": "81OO8rLZeNXU",
    "outputId": "9fde5f1f-b6db-4981-f9d2-7c051943f14c"
   },
   "outputs": [
    {
     "data": {
      "text/plain": [
       "0.6931471805599453"
      ]
     },
     "execution_count": 63,
     "metadata": {
      "tags": []
     },
     "output_type": "execute_result"
    }
   ],
   "source": [
    "#print minimum value between x,y,a, b and c\n",
    "x= 2 \n",
    "y= 5.32167 \n",
    "a= x ** 2\n",
    "b = x ** 3\n",
    "c = m.log(x)\n",
    "min(x,y,a,b,c)\n"
   ]
  },
  {
   "cell_type": "code",
   "execution_count": 75,
   "metadata": {
    "colab": {
     "base_uri": "https://localhost:8080/",
     "height": 0
    },
    "id": "IVoJv4qNeNXU",
    "outputId": "376e834e-3265-417a-904b-61fe7dc51572"
   },
   "outputs": [
    {
     "data": {
      "text/plain": [
       "0"
      ]
     },
     "execution_count": 75,
     "metadata": {
      "tags": []
     },
     "output_type": "execute_result"
    }
   ],
   "source": [
    "#print the largest integer not greater than c.\n",
    "import math as m\n",
    "x=2\n",
    "m.floor(m.log(x))"
   ]
  },
  {
   "cell_type": "code",
   "execution_count": 76,
   "metadata": {
    "colab": {
     "base_uri": "https://localhost:8080/",
     "height": 0
    },
    "id": "P7-6VgAMeNXU",
    "outputId": "3d0ae389-ffc7-4221-c75c-53175678b29c"
   },
   "outputs": [
    {
     "data": {
      "text/plain": [
       "1"
      ]
     },
     "execution_count": 76,
     "metadata": {
      "tags": []
     },
     "output_type": "execute_result"
    }
   ],
   "source": [
    "#print the smallest integer not less than c.\n",
    "import math as m\n",
    "x=2\n",
    "m.ceil(m.log(x))\n"
   ]
  },
  {
   "cell_type": "markdown",
   "metadata": {
    "id": "CpK_SvIbeNXV"
   },
   "source": [
    "## Logical opeations\n",
    "\n",
    "Reference:- https://youtu.be/9w992l9TFIs"
   ]
  },
  {
   "cell_type": "markdown",
   "metadata": {
    "id": "GX4Z0AnteNXV"
   },
   "source": [
    "<p style='text-align: right;'> 1 + 1 + 1 + 6 = 9 points </p>\n"
   ]
  },
  {
   "cell_type": "code",
   "execution_count": 77,
   "metadata": {
    "colab": {
     "base_uri": "https://localhost:8080/",
     "height": 0
    },
    "id": "wYpbM_fveNXV",
    "outputId": "dfc1f288-9167-40b7-839e-6d9f0dbd9906"
   },
   "outputs": [
    {
     "name": "stdout",
     "output_type": "stream",
     "text": [
      "True\n",
      "False\n"
     ]
    }
   ],
   "source": [
    "# declare two variables, a = True, b = False\n",
    "\n",
    "a = True #your code here\n",
    "b = False #your code here\n",
    "\n",
    "print(a)\n",
    "print(b)"
   ]
  },
  {
   "cell_type": "code",
   "execution_count": 79,
   "metadata": {
    "colab": {
     "base_uri": "https://localhost:8080/",
     "height": 0
    },
    "id": "vgpEU8_neNXV",
    "outputId": "81ee5258-2cff-4824-beac-fed10b9aa2e8"
   },
   "outputs": [
    {
     "name": "stdout",
     "output_type": "stream",
     "text": [
      "type of a is  <class 'bool'>\n",
      "type of b is  <class 'bool'>\n"
     ]
    }
   ],
   "source": [
    "# print type of a and type of b\n",
    "print('type of a is ',type(a))\n",
    "print('type of b is ',type(a))\n"
   ]
  },
  {
   "cell_type": "code",
   "execution_count": 83,
   "metadata": {
    "colab": {
     "base_uri": "https://localhost:8080/",
     "height": 0
    },
    "id": "D2rgf--9eNXV",
    "outputId": "791bee96-17ea-4dc7-adc0-1ee6aa8be16c"
   },
   "outputs": [
    {
     "name": "stdout",
     "output_type": "stream",
     "text": [
      "int of a is  1\n",
      "int of b is  0\n"
     ]
    }
   ],
   "source": [
    "# print int(a) and int(b)\n",
    "print('int of a is ',int(a))\n",
    "print('int of b is ',int(b))\n",
    "\n"
   ]
  },
  {
   "cell_type": "code",
   "execution_count": 91,
   "metadata": {
    "colab": {
     "base_uri": "https://localhost:8080/",
     "height": 0
    },
    "id": "ah900wkaeNXV",
    "outputId": "cfa9372a-f43e-4055-9b2c-f4d46bc9d3ca"
   },
   "outputs": [
    {
     "name": "stdout",
     "output_type": "stream",
     "text": [
      "not a = False\n",
      "not b = True\n",
      "a and b  = False\n",
      "a or b  = True\n",
      "a and not b  = True\n"
     ]
    }
   ],
   "source": [
    "# Find and print the values of not a, not b, a and b, a or b, a and not b\n",
    "a= True\n",
    "b= False\n",
    "print('not a =' , not a)\n",
    "print('not b =' , not b)\n",
    "print('a and b  =' , a and b)\n",
    "print('a or b  =' , a or b)\n",
    "print('a and not b  =' , a and (not b))\n"
   ]
  },
  {
   "cell_type": "markdown",
   "metadata": {
    "id": "l4JVbYR8eNXV"
   },
   "source": [
    "## List Comprehensions\n",
    "\n",
    "Reference:- https://youtu.be/17gTGqHG5xQ"
   ]
  },
  {
   "cell_type": "markdown",
   "metadata": {
    "id": "0CIutYHieNXV"
   },
   "source": [
    "<p style='text-align: right;'> 10 + 10 + 10= 30 points </p>\n"
   ]
  },
  {
   "cell_type": "code",
   "execution_count": 113,
   "metadata": {
    "colab": {
     "base_uri": "https://localhost:8080/",
     "height": 0
    },
    "id": "anJ88T28eNXW",
    "outputId": "92a661bb-82d9-44f8-c9c7-438f3a633084"
   },
   "outputs": [
    {
     "name": "stdout",
     "output_type": "stream",
     "text": [
      "[1, 2, 3, 4, 5, 6, 7, 8, 9, 10, 11, 12, 13, 14, 15, 16, 17, 18, 19, 20]\n"
     ]
    }
   ],
   "source": [
    "# Using list comprehension, create a list containing numbers from 1 to 20.\n",
    "\n",
    "l1 = [ i  for i in range(1,21) ]#your code here\n",
    "\n",
    "print(l1)"
   ]
  },
  {
   "cell_type": "code",
   "execution_count": 114,
   "metadata": {
    "colab": {
     "base_uri": "https://localhost:8080/",
     "height": 0
    },
    "id": "7lZ1y452eNXW",
    "outputId": "a98d60ec-d102-40fa-97b3-46f68079b186"
   },
   "outputs": [
    {
     "name": "stdout",
     "output_type": "stream",
     "text": [
      "[2, 4, 6, 8, 10, 12, 14, 16, 18, 20]\n"
     ]
    }
   ],
   "source": [
    "# Using list comprehension, create a list containing numbers from 1 to 20 that are even\n",
    "\n",
    "l2 = [ i  for i in range(1,21) if i%2==0] \n",
    "\n",
    "print(l2)"
   ]
  },
  {
   "cell_type": "markdown",
   "metadata": {
    "id": "bD4TcJvreNXW"
   },
   "source": [
    "Create a list of all the fruits you like. Using list comprehension, create another list which contains the length of fruits corresponding fruits\n",
    "- Eg. fruits = [‘apple’,’kiwi’,’orange’], then output would be - [5,4,6]\n"
   ]
  },
  {
   "cell_type": "code",
   "execution_count": 123,
   "metadata": {
    "colab": {
     "base_uri": "https://localhost:8080/",
     "height": 0
    },
    "id": "flZPD3o5eNXW",
    "outputId": "4e0ab29d-8325-48e4-a6a8-ef8095dbb76a"
   },
   "outputs": [
    {
     "name": "stdout",
     "output_type": "stream",
     "text": [
      "['apple', 'kiwi', 'orange']\n",
      "[5, 4, 6]\n"
     ]
    }
   ],
   "source": [
    "fruits = ['apple', 'kiwi', 'orange']\n",
    "len_fruits =  [len(i) for i in fruits ]  \n",
    "\n",
    "print(fruits)\n",
    "print(len_fruits)"
   ]
  },
  {
   "cell_type": "markdown",
   "metadata": {
    "id": "q07oOsRCeNXW"
   },
   "source": [
    "The above output is shown if fruits = ['apple','kiwi,'orange'], it can vary for different values of fruits"
   ]
  },
  {
   "cell_type": "markdown",
   "metadata": {
    "id": "IDDz4_e0eNXW"
   },
   "source": [
    "## String value and operators"
   ]
  },
  {
   "cell_type": "markdown",
   "metadata": {
    "id": "qps_eW_PeNXW"
   },
   "source": [
    "<p style='text-align: right;'> 1 + 1 + 1 + 1 + 1 = 5 points </p>\n"
   ]
  },
  {
   "cell_type": "markdown",
   "metadata": {
    "id": "6Ipf08Q7eNXW"
   },
   "source": [
    "### Characters in strings\n",
    "\n",
    "Reference:-  https://youtu.be/LnQDWIMaJlA"
   ]
  },
  {
   "cell_type": "code",
   "execution_count": 3,
   "metadata": {
    "id": "OoTi1ofVeNXW"
   },
   "outputs": [],
   "source": [
    "# declare the variables x and y\n",
    "\n",
    "x = 'cat' #your code here\n",
    "y ='dog' #your code here\n"
   ]
  },
  {
   "cell_type": "code",
   "execution_count": 4,
   "metadata": {
    "id": "XAIFbrDTeNXX",
    "outputId": "4d664619-73ad-4f5b-ba19-8c61c5aafc0c"
   },
   "outputs": [
    {
     "name": "stdout",
     "output_type": "stream",
     "text": [
      "cat\n",
      "dog\n"
     ]
    }
   ],
   "source": [
    "#Print both the strings\n",
    "print(x)\n",
    "print(y)\n",
    "\n"
   ]
  },
  {
   "cell_type": "code",
   "execution_count": 5,
   "metadata": {
    "colab": {
     "base_uri": "https://localhost:8080/",
     "height": 0
    },
    "id": "FWK03roMeNXX",
    "outputId": "6cb3e8e5-d120-4a11-c241-23eb0dfa6162"
   },
   "outputs": [
    {
     "name": "stdout",
     "output_type": "stream",
     "text": [
      "First ch of x = c\n",
      "First ch of y = d\n"
     ]
    }
   ],
   "source": [
    "#Print first character of both x and y. \n",
    "print('First ch of x =', x[0])\n",
    "print('First ch of y =', y[0])\n"
   ]
  },
  {
   "cell_type": "code",
   "execution_count": 6,
   "metadata": {
    "colab": {
     "base_uri": "https://localhost:8080/",
     "height": 0
    },
    "id": "h_KwSiO0eNXX",
    "outputId": "e3d296d0-be30-4146-b0b9-7b55fe8b77ba"
   },
   "outputs": [
    {
     "name": "stdout",
     "output_type": "stream",
     "text": [
      "last ch of x = t\n",
      "last ch of y = g\n"
     ]
    }
   ],
   "source": [
    "#Print last character of both x and y.\n",
    "print('last ch of x =', x[-1])\n",
    "print('last ch of y =', y[-1])\n"
   ]
  },
  {
   "cell_type": "code",
   "execution_count": 7,
   "metadata": {
    "colab": {
     "base_uri": "https://localhost:8080/",
     "height": 0
    },
    "id": "0wkKYH5deNXX",
    "outputId": "11ef9b26-08b3-4a26-9a29-f9ea05915355"
   },
   "outputs": [
    {
     "name": "stdout",
     "output_type": "stream",
     "text": [
      "length of x = 3\n",
      "length of y = 3\n"
     ]
    }
   ],
   "source": [
    "#Print len of both x and y\n",
    "print('length of x =', len(x))\n",
    "print('length of y =', len(y))\n"
   ]
  },
  {
   "cell_type": "code",
   "execution_count": 8,
   "metadata": {
    "colab": {
     "base_uri": "https://localhost:8080/",
     "height": 0
    },
    "id": "7MTxU6BDeNXX",
    "outputId": "9bd95e49-1a05-434c-ba95-c7c91c91bdfd"
   },
   "outputs": [
    {
     "name": "stdout",
     "output_type": "stream",
     "text": [
      "catdog\n"
     ]
    }
   ],
   "source": [
    "#concatenate both x and y and store it in variable z and print z\n",
    "z=(x+y)\n",
    "print(z)\n"
   ]
  },
  {
   "cell_type": "code",
   "execution_count": 9,
   "metadata": {
    "colab": {
     "base_uri": "https://localhost:8080/",
     "height": 0
    },
    "id": "hF-zdXhceNXX",
    "outputId": "9ceb069e-d133-4c70-d341-4f94cad083b0"
   },
   "outputs": [
    {
     "name": "stdout",
     "output_type": "stream",
     "text": [
      "True\n"
     ]
    }
   ],
   "source": [
    "#line 144 \n",
    "#check if x is part of z \n",
    "print (x in z)\n",
    "# check = z.find(x)\n",
    "# print(check)"
   ]
  },
  {
   "cell_type": "markdown",
   "metadata": {
    "id": "clm-IjeGeNXX"
   },
   "source": [
    "### String slicing"
   ]
  },
  {
   "cell_type": "markdown",
   "metadata": {
    "id": "mewIf8iTeNXX"
   },
   "source": [
    "<p style='text-align: right;'> 2 points </p>"
   ]
  },
  {
   "cell_type": "code",
   "execution_count": 145,
   "metadata": {
    "colab": {
     "base_uri": "https://localhost:8080/",
     "height": 0
    },
    "id": "bsCJMXk6eNXX",
    "outputId": "afc2c922-9c59-4cb9-85c5-4a7bda239482"
   },
   "outputs": [
    {
     "name": "stdout",
     "output_type": "stream",
     "text": [
      "pineapple\n"
     ]
    }
   ],
   "source": [
    "#Create variable a = “pineapple”\n",
    "a ='pineapple' \n",
    "\n",
    "print(a)"
   ]
  },
  {
   "cell_type": "code",
   "execution_count": 147,
   "metadata": {
    "colab": {
     "base_uri": "https://localhost:8080/",
     "height": 0
    },
    "id": "Gx1aw_kieNXY",
    "outputId": "ea27cca5-479e-49eb-b76c-110dd9c3d020"
   },
   "outputs": [
    {
     "name": "stdout",
     "output_type": "stream",
     "text": [
      "pine\n",
      "apple\n"
     ]
    }
   ],
   "source": [
    "# Using index slicing, print the words ‘pine’ and “apple”.\n",
    "# HINT - a[:]\n",
    "print(a[0:4])\n",
    "print(a[4:])\n"
   ]
  },
  {
   "cell_type": "code",
   "execution_count": 149,
   "metadata": {
    "colab": {
     "base_uri": "https://localhost:8080/",
     "height": 35
    },
    "id": "k-rs1GYmeNXY",
    "outputId": "a03260a3-699b-4f3a-db27-c1495f1f41a8"
   },
   "outputs": [
    {
     "data": {
      "application/vnd.google.colaboratory.intrinsic+json": {
       "type": "string"
      },
      "text/plain": [
       "'PINEAPPLE'"
      ]
     },
     "execution_count": 149,
     "metadata": {
      "tags": []
     },
     "output_type": "execute_result"
    }
   ],
   "source": [
    "#Convert a into upper case\n",
    "a.upper()\n"
   ]
  },
  {
   "cell_type": "markdown",
   "metadata": {
    "id": "Z8XcOd5-eNXY"
   },
   "source": [
    "## Sentences"
   ]
  },
  {
   "cell_type": "markdown",
   "metadata": {
    "id": "ReZ5tbFAeNXY"
   },
   "source": [
    "<p style='text-align: right;'> 1+1+1+1+1+1 = 6 points </p>\n"
   ]
  },
  {
   "cell_type": "code",
   "execution_count": 151,
   "metadata": {
    "colab": {
     "base_uri": "https://localhost:8080/",
     "height": 0
    },
    "id": "dL4G-RTteNXY",
    "outputId": "09ffa12a-a8fe-481e-8625-620409a2e09e"
   },
   "outputs": [
    {
     "name": "stdout",
     "output_type": "stream",
     "text": [
      "I am flying to London\n"
     ]
    }
   ],
   "source": [
    "# Declare a sentence of ‘I am flying to London’\n",
    "sent = 'I am flying to London'\n",
    "\n",
    "print(sent)"
   ]
  },
  {
   "cell_type": "code",
   "execution_count": 152,
   "metadata": {
    "colab": {
     "base_uri": "https://localhost:8080/",
     "height": 0
    },
    "id": "LA-HL-kaeNXY",
    "outputId": "b4e5ca2d-2d02-4372-c42c-f081db19ebd5"
   },
   "outputs": [
    {
     "data": {
      "text/plain": [
       "21"
      ]
     },
     "execution_count": 152,
     "metadata": {
      "tags": []
     },
     "output_type": "execute_result"
    }
   ],
   "source": [
    "#Print len of the sentence\n",
    "len(sent)\n"
   ]
  },
  {
   "cell_type": "code",
   "execution_count": 160,
   "metadata": {
    "colab": {
     "base_uri": "https://localhost:8080/",
     "height": 0
    },
    "id": "fe-uTW_9eNXY",
    "outputId": "3d77277e-de9a-439c-8aca-5fdba6f6aa4b"
   },
   "outputs": [
    {
     "name": "stdout",
     "output_type": "stream",
     "text": [
      "London\n"
     ]
    }
   ],
   "source": [
    "#Using list comprehension, print the word London\n",
    "lsp = sent.split()\n",
    "lsp1=[lsp[i] for i in [-1] ]\n",
    "print(lsp1[0])"
   ]
  },
  {
   "cell_type": "code",
   "execution_count": 155,
   "metadata": {
    "colab": {
     "base_uri": "https://localhost:8080/",
     "height": 0
    },
    "id": "HIekhMtXeNXY",
    "outputId": "a2203c7a-7922-4d7d-92b0-314ca11d0ff8"
   },
   "outputs": [
    {
     "data": {
      "text/plain": [
       "['I', 'am', 'flying', 'to', 'London']"
      ]
     },
     "execution_count": 155,
     "metadata": {
      "tags": []
     },
     "output_type": "execute_result"
    }
   ],
   "source": [
    "# Use .split to get list of individual words in the sentence\n",
    "\n",
    "sent.split()"
   ]
  },
  {
   "cell_type": "code",
   "execution_count": 161,
   "metadata": {
    "colab": {
     "base_uri": "https://localhost:8080/",
     "height": 35
    },
    "id": "pZdbgHX3eNXZ",
    "outputId": "52e8488a-e2bf-4679-8b97-d2e244d72d0b"
   },
   "outputs": [
    {
     "data": {
      "application/vnd.google.colaboratory.intrinsic+json": {
       "type": "string"
      },
      "text/plain": [
       "'i am flying to london'"
      ]
     },
     "execution_count": 161,
     "metadata": {
      "tags": []
     },
     "output_type": "execute_result"
    }
   ],
   "source": [
    "# Convert sentence in lower case \n",
    "sent.lower()\n"
   ]
  },
  {
   "cell_type": "code",
   "execution_count": 162,
   "metadata": {
    "colab": {
     "base_uri": "https://localhost:8080/",
     "height": 35
    },
    "id": "J2zWMRxTeNXZ",
    "outputId": "b99a5fcb-4fe8-4cb5-a8ac-c614b6c03021"
   },
   "outputs": [
    {
     "data": {
      "application/vnd.google.colaboratory.intrinsic+json": {
       "type": "string"
      },
      "text/plain": [
       "'I AM FLYING TO LONDON'"
      ]
     },
     "execution_count": 162,
     "metadata": {
      "tags": []
     },
     "output_type": "execute_result"
    }
   ],
   "source": [
    "# Convert sentence in upper case .\n",
    "sent.upper()\n"
   ]
  },
  {
   "cell_type": "markdown",
   "metadata": {
    "id": "OIX_zec1eNXZ"
   },
   "source": [
    "## Functions"
   ]
  },
  {
   "cell_type": "markdown",
   "metadata": {
    "id": "L0vLAhsKeNXZ"
   },
   "source": [
    "### Declare a function which  takes input as x, and returns the square of x. \n",
    "Reference:- https://youtu.be/Rpq9MC67M08"
   ]
  },
  {
   "cell_type": "markdown",
   "metadata": {
    "id": "arAkBy9SeNXZ"
   },
   "source": [
    "<p style='text-align: right;'> 5 + 3 = 8 points </p>\n"
   ]
  },
  {
   "cell_type": "code",
   "execution_count": 185,
   "metadata": {
    "id": "hSiSaciReNXZ"
   },
   "outputs": [],
   "source": [
    "def square(x):\n",
    "    '''\n",
    "    return x*x"
   ]
  },
  {
   "cell_type": "markdown",
   "metadata": {
    "id": "h-gWhymNeNXZ"
   },
   "source": [
    "Call the function to find the value of square of 9."
   ]
  },
  {
   "cell_type": "code",
   "execution_count": 186,
   "metadata": {
    "colab": {
     "base_uri": "https://localhost:8080/",
     "height": 0
    },
    "id": "n39wXazoeNXZ",
    "outputId": "95540d9c-8a08-4121-d45b-4c33e2f45acd"
   },
   "outputs": [
    {
     "name": "stdout",
     "output_type": "stream",
     "text": [
      "Square of 9 is  81\n"
     ]
    }
   ],
   "source": [
    "# find the value of square of 9 using the function square\n",
    "p=9\n",
    "print('Square of 9 is ', square(p))\n",
    "\n"
   ]
  },
  {
   "cell_type": "markdown",
   "metadata": {
    "id": "kbMd0a5OeNXZ"
   },
   "source": [
    "### Define another function which checks whether a given number if odd or even, for a given input, it should print whether the given number is odd or even. "
   ]
  },
  {
   "cell_type": "markdown",
   "metadata": {
    "id": "GlFY1uvReNXZ"
   },
   "source": [
    "<p style='text-align: right;'> 5 + 3 = 8 points </p>\n"
   ]
  },
  {
   "cell_type": "code",
   "execution_count": 251,
   "metadata": {
    "id": "Oja7v27TeNXa"
   },
   "outputs": [],
   "source": [
    "# your code here\n",
    "def check_odd_even(x):\n",
    "    if x%2==0:\n",
    "       return print('{} is even'.format(x))\n",
    "    else:\n",
    "      return print('{} is odd'.format(x))"
   ]
  },
  {
   "cell_type": "markdown",
   "metadata": {
    "id": "qePe7xTqeNXa"
   },
   "source": [
    "Using both the functions to check whether the square of 3,6,21 is odd or even.\n"
   ]
  },
  {
   "cell_type": "code",
   "execution_count": 255,
   "metadata": {
    "colab": {
     "base_uri": "https://localhost:8080/",
     "height": 0
    },
    "id": "SvPD7KIReNXa",
    "outputId": "60d9dbd3-493b-48d8-bc59-4d8e603fb1b9"
   },
   "outputs": [
    {
     "name": "stdout",
     "output_type": "stream",
     "text": [
      "3 is odd\n",
      "6 is even\n",
      "21 is odd\n"
     ]
    }
   ],
   "source": [
    " # your code here\n",
    "(check_odd_even(3))\n",
    "(check_odd_even(6))\n",
    "(check_odd_even(21))"
   ]
  },
  {
   "cell_type": "markdown",
   "metadata": {
    "id": "jq3_yMKzeNXa"
   },
   "source": [
    "# Loops and Iterations\n",
    "Reference:- https://youtu.be/6iF8Xb7Z3wQ"
   ]
  },
  {
   "cell_type": "markdown",
   "metadata": {
    "id": "PkaQt5bFeNXa"
   },
   "source": [
    "## If statement"
   ]
  },
  {
   "cell_type": "markdown",
   "metadata": {
    "id": "OvyolCD9eNXa"
   },
   "source": [
    "*italicized text*<p style='text-align: right;'> 1 + 2 + 3 = 6 points </p>\n"
   ]
  },
  {
   "cell_type": "code",
   "execution_count": 239,
   "metadata": {
    "colab": {
     "base_uri": "https://localhost:8080/",
     "height": 0
    },
    "id": "TFWHRdSIeNXa",
    "outputId": "84383a6b-9f3d-4e32-be48-40aa14e9e393"
   },
   "outputs": [
    {
     "name": "stdout",
     "output_type": "stream",
     "text": [
      "3\n"
     ]
    }
   ],
   "source": [
    "#Declare a variable x equal to a number of your choice.\n",
    "#your code here\n",
    "x = 3 # add a number of your choice (mine is 3 :) )\n",
    "print(x)"
   ]
  },
  {
   "cell_type": "code",
   "execution_count": 248,
   "metadata": {
    "colab": {
     "base_uri": "https://localhost:8080/",
     "height": 0
    },
    "id": "5zdIP9qkeNXa",
    "outputId": "e1028824-c2c5-440c-ffa8-defc8b11be77"
   },
   "outputs": [
    {
     "name": "stdout",
     "output_type": "stream",
     "text": [
      "input 3 is positive\n"
     ]
    }
   ],
   "source": [
    "#Using an if statement, print whether the number is 0, positive or negative.\n",
    "x=3\n",
    "if x==0:\n",
    "  print('input {} is 0'.format(x))\n",
    "else: \n",
    "    if x<0:\n",
    "      print('input {} is negative'.format(x))\n",
    "    else:\n",
    "      print('input {} is positive'.format(x))"
   ]
  },
  {
   "cell_type": "code",
   "execution_count": 259,
   "metadata": {
    "colab": {
     "base_uri": "https://localhost:8080/",
     "height": 0
    },
    "id": "l5LgRlqpeNXa",
    "outputId": "d4d81515-a432-4242-89e4-97ce37820033"
   },
   "outputs": [
    {
     "name": "stdout",
     "output_type": "stream",
     "text": [
      "enter the value =  None\n",
      "input 10 is positive\n",
      "input -2 is negative\n",
      "input 0 is 0\n"
     ]
    }
   ],
   "source": [
    "# Define a function, which takes input from the user and prints whether the given input is 0,positive or negative.\n",
    "x= print('enter the value = ', x)\n",
    "def check_num(x):\n",
    "    if x==0:\n",
    "      print('input {} is 0'.format(x))\n",
    "    else: \n",
    "        if x<0:\n",
    "          print('input {} is negative'.format(x))\n",
    "        else:\n",
    "            print('input {} is positive'.format(x))\n",
    "check_num(10)\n",
    "check_num(-2)\n",
    "check_num(0)"
   ]
  },
  {
   "cell_type": "markdown",
   "metadata": {
    "id": "t_Wm6qQteNXa"
   },
   "source": [
    "## For loop"
   ]
  },
  {
   "cell_type": "markdown",
   "metadata": {
    "id": "5WW-_3D2eNXb"
   },
   "source": [
    "<p style='text-align: right;'> 2 points </p>\n"
   ]
  },
  {
   "cell_type": "code",
   "execution_count": 263,
   "metadata": {
    "colab": {
     "base_uri": "https://localhost:8080/",
     "height": 0
    },
    "id": "1kfN4juZeNXb",
    "outputId": "d25ed5d9-fdcc-4ccd-c5db-2da911d4879a"
   },
   "outputs": [
    {
     "data": {
      "text/plain": [
       "['India', 'Israel', 'Canada']"
      ]
     },
     "execution_count": 263,
     "metadata": {
      "tags": []
     },
     "output_type": "execute_result"
    }
   ],
   "source": [
    "#Create a list x, such that it contains the elements - ‘India’, ‘Israel’,’Canada’.\n",
    "list=['India','Israel','Canada']\n",
    "list\n",
    "\n"
   ]
  },
  {
   "cell_type": "code",
   "execution_count": 273,
   "metadata": {
    "colab": {
     "base_uri": "https://localhost:8080/",
     "height": 0
    },
    "id": "pCpvEYO4eNXb",
    "outputId": "b1925b7c-4973-4eb9-d695-bcb1a0f7a700"
   },
   "outputs": [
    {
     "name": "stdout",
     "output_type": "stream",
     "text": [
      "India\n",
      "Israel\n",
      "Canada\n"
     ]
    }
   ],
   "source": [
    "#Using For loop, iterate over the list and print the elements.\n",
    "list=['India','Israel','Canada']\n",
    "for i in range(0,3):\n",
    "    print (list[i])\n"
   ]
  },
  {
   "cell_type": "markdown",
   "metadata": {
    "id": "Rim9K3pceNXb"
   },
   "source": [
    "<p style='text-align: right;'> 2 points </p>\n"
   ]
  },
  {
   "cell_type": "code",
   "execution_count": 280,
   "metadata": {
    "colab": {
     "base_uri": "https://localhost:8080/",
     "height": 0
    },
    "id": "rx3tbYM9eNXb",
    "outputId": "e3c1fe95-a49c-43ee-e2b2-57f59a1c2ab4"
   },
   "outputs": [
    {
     "name": "stdout",
     "output_type": "stream",
     "text": [
      "2 X 1 = 2\n",
      "2 X 2 = 4\n",
      "2 X 3 = 6\n",
      "2 X 4 = 8\n",
      "2 X 5 = 10\n",
      "2 X 6 = 12\n",
      "2 X 7 = 14\n",
      "2 X 8 = 16\n",
      "2 X 9 = 18\n",
      "2 X 10 = 20\n"
     ]
    }
   ],
   "source": [
    "# Using For loop, print the table of 2.\n",
    "x=2\n",
    "for i in range(1,11):\n",
    "    print (x,'X', i ,'=',x*i)\n",
    "\n"
   ]
  },
  {
   "cell_type": "markdown",
   "metadata": {
    "id": "TYlQTnLeeNXb"
   },
   "source": [
    "For a given list, x = [21, ‘hello,’cream’, 20,19,’village’], using for loop to iterate over the items and using - if statement print the items that are of type int"
   ]
  },
  {
   "cell_type": "code",
   "execution_count": 316,
   "metadata": {
    "colab": {
     "base_uri": "https://localhost:8080/",
     "height": 0
    },
    "id": "zPb6Xn4PeNXb",
    "outputId": "24ec0591-b6be-44a6-db61-90c73a3b26c8"
   },
   "outputs": [
    {
     "name": "stdout",
     "output_type": "stream",
     "text": [
      "[21, 20, 19]\n"
     ]
    }
   ],
   "source": [
    "#code here\n",
    "k=[]\n",
    "x = [21, 'hello','cream', 20,19,'village']\n",
    "for i in range(0,len(x)):\n",
    "    if type(x[i]) == int:\n",
    "      k.append(x[i])\n",
    "print (k)\n",
    "           "
   ]
  },
  {
   "cell_type": "markdown",
   "metadata": {
    "id": "KBkudqyteNXb"
   },
   "source": [
    "Using For loop, create the following pattern. "
   ]
  },
  {
   "cell_type": "markdown",
   "metadata": {
    "id": "zp2ASyFFeNXb"
   },
   "source": [
    "<p style='text-align: right;'> 10 points </p>\n"
   ]
  },
  {
   "cell_type": "code",
   "execution_count": 320,
   "metadata": {
    "colab": {
     "base_uri": "https://localhost:8080/",
     "height": 0
    },
    "id": "SUuCztSneNXb",
    "outputId": "8e93cd11-4c03-4974-f9a3-06311a58c439"
   },
   "outputs": [
    {
     "name": "stdout",
     "output_type": "stream",
     "text": [
      "\n",
      " * \n",
      " *  * \n",
      " *  *  * \n",
      " *  *  *  * \n",
      " *  *  *  *  * \n"
     ]
    }
   ],
   "source": [
    "# print the following pattern\n",
    "for i in range(0,6):\n",
    "         print (' * '*i)"
   ]
  },
  {
   "cell_type": "code",
   "execution_count": null,
   "metadata": {
    "id": "1f5mhGWWeNXc"
   },
   "outputs": [],
   "source": [
    "#your code here\n",
    "\n",
    "\n"
   ]
  },
  {
   "cell_type": "markdown",
   "metadata": {
    "id": "jE2Yqu-1eNXc"
   },
   "source": [
    "## While loop"
   ]
  },
  {
   "cell_type": "markdown",
   "metadata": {
    "id": "7F80GCJxeNXc"
   },
   "source": [
    "- Using while loop make a function that prints all the values between 1 to n. "
   ]
  },
  {
   "cell_type": "markdown",
   "metadata": {
    "id": "eYnlKrJeeNXc"
   },
   "source": [
    "<p style='text-align: right;'> 10 points </p>\n"
   ]
  },
  {
   "cell_type": "code",
   "execution_count": 340,
   "metadata": {
    "id": "hmhgUZ9ReNXc"
   },
   "outputs": [],
   "source": [
    "def counter(n):\n",
    "    i=1\n",
    "    while (i <(n+1)):\n",
    "      print (i)\n",
    "      i=i+1\n",
    "    "
   ]
  },
  {
   "cell_type": "code",
   "execution_count": 341,
   "metadata": {
    "colab": {
     "base_uri": "https://localhost:8080/",
     "height": 0
    },
    "id": "Y2LSTerIW7Ze",
    "outputId": "c6452468-2e4a-478f-c36e-4a3df8419917"
   },
   "outputs": [
    {
     "name": "stdout",
     "output_type": "stream",
     "text": [
      "1\n",
      "2\n",
      "3\n",
      "4\n",
      "5\n",
      "6\n",
      "7\n",
      "8\n",
      "9\n",
      "10\n"
     ]
    }
   ],
   "source": [
    "counter(10) #this should print numbers from 1 to 10"
   ]
  },
  {
   "cell_type": "markdown",
   "metadata": {
    "id": "6VhKFcUUeNXc"
   },
   "source": [
    "### Write the code for the following, what is the output obtained?\n",
    "- Set a variable flag = True, num = 5\n",
    "- Run a while loop till flag = True\n",
    "- Inside the while loop - \n",
    "    - Increment the value of num by 5\n",
    "    - If value of num is greater then 50, set flag to be False"
   ]
  },
  {
   "cell_type": "markdown",
   "metadata": {
    "id": "ceWwq4PgeNXd"
   },
   "source": [
    "----------------------------------------------------------------------"
   ]
  },
  {
   "cell_type": "code",
   "execution_count": 361,
   "metadata": {
    "colab": {
     "base_uri": "https://localhost:8080/",
     "height": 0
    },
    "id": "4AswV1kzvre6",
    "outputId": "def24fd4-93ce-4d19-a09e-97b7f71fa057"
   },
   "outputs": [
    {
     "name": "stdout",
     "output_type": "stream",
     "text": [
      "5\n",
      "10\n",
      "15\n",
      "20\n",
      "25\n",
      "30\n",
      "35\n",
      "40\n",
      "45\n"
     ]
    }
   ],
   "source": [
    "# your code here\n",
    "num = 5 \n",
    "while True:\n",
    "  if num==50:\n",
    "        break \n",
    "  print (num)\n",
    "  num=num+5"
   ]
  },
  {
   "cell_type": "markdown",
   "metadata": {
    "id": "52T19XOpeNXd"
   },
   "source": [
    "# Smile, you completed the first milestone :)!! "
   ]
  },
  {
   "cell_type": "code",
   "execution_count": 133,
   "metadata": {
    "id": "Urotn6FReNXd"
   },
   "outputs": [],
   "source": []
  }
 ],
 "metadata": {
  "colab": {
   "collapsed_sections": [],
   "name": "Kunal - Python Basics.ipynb",
   "provenance": []
  },
  "kernelspec": {
   "display_name": "Python 3",
   "language": "python",
   "name": "python3"
  },
  "language_info": {
   "codemirror_mode": {
    "name": "ipython",
    "version": 3
   },
   "file_extension": ".py",
   "mimetype": "text/x-python",
   "name": "python",
   "nbconvert_exporter": "python",
   "pygments_lexer": "ipython3",
   "version": "3.8.3"
  }
 },
 "nbformat": 4,
 "nbformat_minor": 1
}
