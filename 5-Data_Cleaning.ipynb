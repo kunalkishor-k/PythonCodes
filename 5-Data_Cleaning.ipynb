{
 "cells": [
  {
   "cell_type": "markdown",
   "metadata": {
    "id": "rc6I3sagkqhR"
   },
   "source": [
    "# <center><u>Data Cleaning</u></center>"
   ]
  },
  {
   "cell_type": "markdown",
   "metadata": {
    "id": "h9sXOHkckqhY"
   },
   "source": [
    " Data cleaning is a part of the process on a data science project.\n",
    " \n",
    "Data cleaning is the process of fixing or removing incorrect, corrupted, incorrectly formatted, duplicate, or incomplete data within a dataset.\n",
    "<br>\n",
    "When you clean your data, all outdated or incorrect information is gone – leaving you with the highest quality information for your analysis and model building."
   ]
  },
  {
   "cell_type": "markdown",
   "metadata": {
    "id": "p0qd3D0Lkqhc"
   },
   "source": [
    "<p style='text-align: right;'> 4 points</p>\n"
   ]
  },
  {
   "cell_type": "code",
   "execution_count": 1,
   "metadata": {
    "id": "wF_oQrRAkqhe"
   },
   "outputs": [],
   "source": [
    "# import pandas and numpy with alias pd and np respectively\n",
    "import pandas as pd\n",
    "import numpy as np"
   ]
  },
  {
   "cell_type": "markdown",
   "metadata": {
    "id": "7k4VuSAekqhe"
   },
   "source": [
    "Create a dataframe, d1 = pd.DataFrame( {‘Temperature’ : [1, np.nan, 3, 2, 3] ,’Humidity’ : [22, np.nan, 2 , np.nan, 20 ] })"
   ]
  },
  {
   "cell_type": "code",
   "execution_count": 2,
   "metadata": {
    "id": "8fjpdGnskqhe"
   },
   "outputs": [],
   "source": [
    "d1 = pd.DataFrame( {'Temperature' : [1, np.nan, 3, 2, 3] ,'Humidity' : [22, np.nan, 2 , np.nan, 20 ] })"
   ]
  },
  {
   "cell_type": "markdown",
   "metadata": {
    "id": "_6S2Agszkqhf"
   },
   "source": [
    "print the dataframe d1"
   ]
  },
  {
   "cell_type": "code",
   "execution_count": 3,
   "metadata": {
    "colab": {
     "base_uri": "https://localhost:8080/",
     "height": 202
    },
    "id": "fauZD3xnkqhf",
    "outputId": "50de0191-a4fc-4f9e-95eb-21a2db057393"
   },
   "outputs": [
    {
     "data": {
      "text/html": [
       "<div>\n",
       "<style scoped>\n",
       "    .dataframe tbody tr th:only-of-type {\n",
       "        vertical-align: middle;\n",
       "    }\n",
       "\n",
       "    .dataframe tbody tr th {\n",
       "        vertical-align: top;\n",
       "    }\n",
       "\n",
       "    .dataframe thead th {\n",
       "        text-align: right;\n",
       "    }\n",
       "</style>\n",
       "<table border=\"1\" class=\"dataframe\">\n",
       "  <thead>\n",
       "    <tr style=\"text-align: right;\">\n",
       "      <th></th>\n",
       "      <th>Temperature</th>\n",
       "      <th>Humidity</th>\n",
       "    </tr>\n",
       "  </thead>\n",
       "  <tbody>\n",
       "    <tr>\n",
       "      <th>0</th>\n",
       "      <td>1.0</td>\n",
       "      <td>22.0</td>\n",
       "    </tr>\n",
       "    <tr>\n",
       "      <th>1</th>\n",
       "      <td>NaN</td>\n",
       "      <td>NaN</td>\n",
       "    </tr>\n",
       "    <tr>\n",
       "      <th>2</th>\n",
       "      <td>3.0</td>\n",
       "      <td>2.0</td>\n",
       "    </tr>\n",
       "    <tr>\n",
       "      <th>3</th>\n",
       "      <td>2.0</td>\n",
       "      <td>NaN</td>\n",
       "    </tr>\n",
       "    <tr>\n",
       "      <th>4</th>\n",
       "      <td>3.0</td>\n",
       "      <td>20.0</td>\n",
       "    </tr>\n",
       "  </tbody>\n",
       "</table>\n",
       "</div>"
      ],
      "text/plain": [
       "   Temperature  Humidity\n",
       "0          1.0      22.0\n",
       "1          NaN       NaN\n",
       "2          3.0       2.0\n",
       "3          2.0       NaN\n",
       "4          3.0      20.0"
      ]
     },
     "execution_count": 3,
     "metadata": {},
     "output_type": "execute_result"
    }
   ],
   "source": [
    "d1"
   ]
  },
  {
   "cell_type": "markdown",
   "metadata": {
    "id": "PIvW5svikqhg"
   },
   "source": [
    "Find whether the given dataframe contain any missing values? "
   ]
  },
  {
   "cell_type": "code",
   "execution_count": 4,
   "metadata": {
    "colab": {
     "base_uri": "https://localhost:8080/",
     "height": 202
    },
    "id": "lJ3MiNk-kqhg",
    "outputId": "46ab5f2a-2074-4a32-974b-e81c6a9d1de8"
   },
   "outputs": [
    {
     "data": {
      "text/html": [
       "<div>\n",
       "<style scoped>\n",
       "    .dataframe tbody tr th:only-of-type {\n",
       "        vertical-align: middle;\n",
       "    }\n",
       "\n",
       "    .dataframe tbody tr th {\n",
       "        vertical-align: top;\n",
       "    }\n",
       "\n",
       "    .dataframe thead th {\n",
       "        text-align: right;\n",
       "    }\n",
       "</style>\n",
       "<table border=\"1\" class=\"dataframe\">\n",
       "  <thead>\n",
       "    <tr style=\"text-align: right;\">\n",
       "      <th></th>\n",
       "      <th>Temperature</th>\n",
       "      <th>Humidity</th>\n",
       "    </tr>\n",
       "  </thead>\n",
       "  <tbody>\n",
       "    <tr>\n",
       "      <th>0</th>\n",
       "      <td>False</td>\n",
       "      <td>False</td>\n",
       "    </tr>\n",
       "    <tr>\n",
       "      <th>1</th>\n",
       "      <td>True</td>\n",
       "      <td>True</td>\n",
       "    </tr>\n",
       "    <tr>\n",
       "      <th>2</th>\n",
       "      <td>False</td>\n",
       "      <td>False</td>\n",
       "    </tr>\n",
       "    <tr>\n",
       "      <th>3</th>\n",
       "      <td>False</td>\n",
       "      <td>True</td>\n",
       "    </tr>\n",
       "    <tr>\n",
       "      <th>4</th>\n",
       "      <td>False</td>\n",
       "      <td>False</td>\n",
       "    </tr>\n",
       "  </tbody>\n",
       "</table>\n",
       "</div>"
      ],
      "text/plain": [
       "   Temperature  Humidity\n",
       "0        False     False\n",
       "1         True      True\n",
       "2        False     False\n",
       "3        False      True\n",
       "4        False     False"
      ]
     },
     "execution_count": 4,
     "metadata": {},
     "output_type": "execute_result"
    }
   ],
   "source": [
    "d1.isnull()\n"
   ]
  },
  {
   "cell_type": "markdown",
   "metadata": {
    "id": "1mR6mwjZkqhg"
   },
   "source": [
    "How many missing values does each column have?"
   ]
  },
  {
   "cell_type": "code",
   "execution_count": 5,
   "metadata": {
    "colab": {
     "base_uri": "https://localhost:8080/"
    },
    "id": "GuttaqhSkqhg",
    "outputId": "22320682-35ac-4811-92ce-6e5929d7a297"
   },
   "outputs": [
    {
     "data": {
      "text/plain": [
       "Temperature    1\n",
       "Humidity       2\n",
       "dtype: int64"
      ]
     },
     "execution_count": 5,
     "metadata": {},
     "output_type": "execute_result"
    }
   ],
   "source": [
    "d1.isnull().sum(axis=0) #imp"
   ]
  },
  {
   "cell_type": "markdown",
   "metadata": {
    "id": "RdJX6nKdkqhh"
   },
   "source": [
    "## Dealing with missing values\n",
    "\n",
    "Refrence:-https://www.youtube.com/watch?v=xkRz6R0FlQ4\n",
    "\n",
    "<br>Now, we know we have missing values, the next thing that we need to work on, is how to deal with these missing values"
   ]
  },
  {
   "cell_type": "markdown",
   "metadata": {
    "id": "5iYTalWckqhh"
   },
   "source": [
    " - ## Method 1: Delete the rows which contain missing values.\n",
    " This method include dropping all the rows that have missing value in any column. "
   ]
  },
  {
   "cell_type": "markdown",
   "metadata": {
    "id": "D5OwrlkXkqhh"
   },
   "source": [
    " <p style='text-align: right;'> 20 points</p>"
   ]
  },
  {
   "cell_type": "markdown",
   "metadata": {
    "id": "sB425bYFkqhh"
   },
   "source": [
    "Use a suitable method to drop all the rows having missing values and save the change in d2 variable"
   ]
  },
  {
   "cell_type": "code",
   "execution_count": 6,
   "metadata": {
    "id": "ms-0jJZpkqhh"
   },
   "outputs": [],
   "source": [
    "d2=d1.dropna()"
   ]
  },
  {
   "cell_type": "markdown",
   "metadata": {
    "id": "uvJFaJ8bkqhi"
   },
   "source": [
    "Print d2"
   ]
  },
  {
   "cell_type": "code",
   "execution_count": 7,
   "metadata": {
    "colab": {
     "base_uri": "https://localhost:8080/",
     "height": 141
    },
    "id": "YoXoAdXGkqhi",
    "outputId": "1713e8ad-71bd-409a-d9a7-5baf2e2b398c"
   },
   "outputs": [
    {
     "name": "stdout",
     "output_type": "stream",
     "text": [
      "   Temperature  Humidity\n",
      "0          1.0      22.0\n",
      "2          3.0       2.0\n",
      "4          3.0      20.0\n"
     ]
    }
   ],
   "source": [
    "print (d2)"
   ]
  },
  {
   "cell_type": "markdown",
   "metadata": {
    "id": "_BYBoQIFkqhi"
   },
   "source": [
    "Hey Remember : droping rows with nan is one of the method to deal with missing values. But you have to decide if you need to go for this method by checking percentage of nan present in the dataframe.\n",
    "\n",
    "If a column is having more than 60% of nan values then its better to remove such variables altogether if business permits "
   ]
  },
  {
   "cell_type": "markdown",
   "metadata": {
    "id": "0E0Gyw0mkqhi"
   },
   "source": [
    "- ## Method 2: Replacing missing values\n",
    "Sometimes rather than dropping NA values, you'd rather replace them with a valid value. This value might be a single number like zero, or it might be some sort of imputation or interpolation"
   ]
  },
  {
   "cell_type": "markdown",
   "metadata": {
    "id": "JsESq_JNkqhi"
   },
   "source": [
    "<p style='text-align: right;'> 30 points</p>\n"
   ]
  },
  {
   "cell_type": "markdown",
   "metadata": {
    "id": "rwg-9c8ukqhj"
   },
   "source": [
    "Impute the missing values with constant number of your choice"
   ]
  },
  {
   "cell_type": "code",
   "execution_count": 8,
   "metadata": {
    "colab": {
     "base_uri": "https://localhost:8080/",
     "height": 202
    },
    "id": "CCzT8A-4kqhj",
    "outputId": "c15bbc1e-8989-4655-8ad9-42cbfd69f93d"
   },
   "outputs": [
    {
     "data": {
      "text/html": [
       "<div>\n",
       "<style scoped>\n",
       "    .dataframe tbody tr th:only-of-type {\n",
       "        vertical-align: middle;\n",
       "    }\n",
       "\n",
       "    .dataframe tbody tr th {\n",
       "        vertical-align: top;\n",
       "    }\n",
       "\n",
       "    .dataframe thead th {\n",
       "        text-align: right;\n",
       "    }\n",
       "</style>\n",
       "<table border=\"1\" class=\"dataframe\">\n",
       "  <thead>\n",
       "    <tr style=\"text-align: right;\">\n",
       "      <th></th>\n",
       "      <th>Temperature</th>\n",
       "      <th>Humidity</th>\n",
       "    </tr>\n",
       "  </thead>\n",
       "  <tbody>\n",
       "    <tr>\n",
       "      <th>0</th>\n",
       "      <td>1</td>\n",
       "      <td>22</td>\n",
       "    </tr>\n",
       "    <tr>\n",
       "      <th>1</th>\n",
       "      <td>100</td>\n",
       "      <td>100</td>\n",
       "    </tr>\n",
       "    <tr>\n",
       "      <th>2</th>\n",
       "      <td>3</td>\n",
       "      <td>2</td>\n",
       "    </tr>\n",
       "    <tr>\n",
       "      <th>3</th>\n",
       "      <td>2</td>\n",
       "      <td>100</td>\n",
       "    </tr>\n",
       "    <tr>\n",
       "      <th>4</th>\n",
       "      <td>3</td>\n",
       "      <td>20</td>\n",
       "    </tr>\n",
       "  </tbody>\n",
       "</table>\n",
       "</div>"
      ],
      "text/plain": [
       "  Temperature Humidity\n",
       "0           1       22\n",
       "1         100      100\n",
       "2           3        2\n",
       "3           2      100\n",
       "4           3       20"
      ]
     },
     "execution_count": 8,
     "metadata": {},
     "output_type": "execute_result"
    }
   ],
   "source": [
    "# The below output has imputed missing  values with 100\n",
    "d1.fillna('100')\n",
    "# d1.replace(np.nan,'100')\n",
    "# print(type(d1.replace(np.nan,'100')))"
   ]
  },
  {
   "cell_type": "markdown",
   "metadata": {
    "id": "Owk-O3CZkqhj"
   },
   "source": [
    "Do you think its a  good way to treat Nan values? What if such constant values are not suitable for our further analysis?\n",
    "Try to give your thoughts on this."
   ]
  },
  {
   "cell_type": "code",
   "execution_count": 9,
   "metadata": {
    "id": "4Vn0HNw4kqhj"
   },
   "outputs": [],
   "source": [
    "#no its not thr good way.\n"
   ]
  },
  {
   "cell_type": "markdown",
   "metadata": {
    "id": "rHxP4ad7kqhj"
   },
   "source": [
    "Impute the missing values with mean"
   ]
  },
  {
   "cell_type": "code",
   "execution_count": 10,
   "metadata": {
    "colab": {
     "base_uri": "https://localhost:8080/",
     "height": 202
    },
    "id": "FKB7R8Takqhk",
    "outputId": "ae17558b-0499-48a2-90af-0f6198b5f4f7"
   },
   "outputs": [
    {
     "data": {
      "text/html": [
       "<div>\n",
       "<style scoped>\n",
       "    .dataframe tbody tr th:only-of-type {\n",
       "        vertical-align: middle;\n",
       "    }\n",
       "\n",
       "    .dataframe tbody tr th {\n",
       "        vertical-align: top;\n",
       "    }\n",
       "\n",
       "    .dataframe thead th {\n",
       "        text-align: right;\n",
       "    }\n",
       "</style>\n",
       "<table border=\"1\" class=\"dataframe\">\n",
       "  <thead>\n",
       "    <tr style=\"text-align: right;\">\n",
       "      <th></th>\n",
       "      <th>Temperature</th>\n",
       "      <th>Humidity</th>\n",
       "    </tr>\n",
       "  </thead>\n",
       "  <tbody>\n",
       "    <tr>\n",
       "      <th>0</th>\n",
       "      <td>1.00</td>\n",
       "      <td>22.000000</td>\n",
       "    </tr>\n",
       "    <tr>\n",
       "      <th>1</th>\n",
       "      <td>2.25</td>\n",
       "      <td>14.666667</td>\n",
       "    </tr>\n",
       "    <tr>\n",
       "      <th>2</th>\n",
       "      <td>3.00</td>\n",
       "      <td>2.000000</td>\n",
       "    </tr>\n",
       "    <tr>\n",
       "      <th>3</th>\n",
       "      <td>2.00</td>\n",
       "      <td>14.666667</td>\n",
       "    </tr>\n",
       "    <tr>\n",
       "      <th>4</th>\n",
       "      <td>3.00</td>\n",
       "      <td>20.000000</td>\n",
       "    </tr>\n",
       "  </tbody>\n",
       "</table>\n",
       "</div>"
      ],
      "text/plain": [
       "   Temperature   Humidity\n",
       "0         1.00  22.000000\n",
       "1         2.25  14.666667\n",
       "2         3.00   2.000000\n",
       "3         2.00  14.666667\n",
       "4         3.00  20.000000"
      ]
     },
     "execution_count": 10,
     "metadata": {},
     "output_type": "execute_result"
    }
   ],
   "source": [
    "# d1.replace(np.nan, {\"Temperature\":d1['Temperature'].mean(),\"Humidity\":d1['Humidity'].mean()})\n",
    "d1.fillna({\"Temperature\":d1['Temperature'].mean(),\"Humidity\":d1['Humidity'].mean()})"
   ]
  },
  {
   "cell_type": "markdown",
   "metadata": {
    "id": "wzwa_GzRkqhk"
   },
   "source": [
    "Impute the missing values with median"
   ]
  },
  {
   "cell_type": "code",
   "execution_count": 11,
   "metadata": {
    "colab": {
     "base_uri": "https://localhost:8080/",
     "height": 202
    },
    "id": "CrDrortKkqhk",
    "outputId": "bca8795e-fd0a-4294-b8e8-f8db234c3353"
   },
   "outputs": [
    {
     "data": {
      "text/html": [
       "<div>\n",
       "<style scoped>\n",
       "    .dataframe tbody tr th:only-of-type {\n",
       "        vertical-align: middle;\n",
       "    }\n",
       "\n",
       "    .dataframe tbody tr th {\n",
       "        vertical-align: top;\n",
       "    }\n",
       "\n",
       "    .dataframe thead th {\n",
       "        text-align: right;\n",
       "    }\n",
       "</style>\n",
       "<table border=\"1\" class=\"dataframe\">\n",
       "  <thead>\n",
       "    <tr style=\"text-align: right;\">\n",
       "      <th></th>\n",
       "      <th>Temperature</th>\n",
       "      <th>Humidity</th>\n",
       "    </tr>\n",
       "  </thead>\n",
       "  <tbody>\n",
       "    <tr>\n",
       "      <th>0</th>\n",
       "      <td>1.0</td>\n",
       "      <td>22.0</td>\n",
       "    </tr>\n",
       "    <tr>\n",
       "      <th>1</th>\n",
       "      <td>2.5</td>\n",
       "      <td>20.0</td>\n",
       "    </tr>\n",
       "    <tr>\n",
       "      <th>2</th>\n",
       "      <td>3.0</td>\n",
       "      <td>2.0</td>\n",
       "    </tr>\n",
       "    <tr>\n",
       "      <th>3</th>\n",
       "      <td>2.0</td>\n",
       "      <td>20.0</td>\n",
       "    </tr>\n",
       "    <tr>\n",
       "      <th>4</th>\n",
       "      <td>3.0</td>\n",
       "      <td>20.0</td>\n",
       "    </tr>\n",
       "  </tbody>\n",
       "</table>\n",
       "</div>"
      ],
      "text/plain": [
       "   Temperature  Humidity\n",
       "0          1.0      22.0\n",
       "1          2.5      20.0\n",
       "2          3.0       2.0\n",
       "3          2.0      20.0\n",
       "4          3.0      20.0"
      ]
     },
     "execution_count": 11,
     "metadata": {},
     "output_type": "execute_result"
    }
   ],
   "source": [
    "# d1.replace(np.nan, {\"Temperature\":d1['Temperature'].median(),\"Humidity\":d1['Humidity'].median()})\n",
    "d1.fillna({\"Temperature\":d1['Temperature'].median(),\"Humidity\":d1['Humidity'].median()})"
   ]
  },
  {
   "cell_type": "markdown",
   "metadata": {
    "id": "PRzK4otMkqhk"
   },
   "source": [
    "Replacing with the mean, mode or median approximations are a statistical approach of handling the missing values.\n",
    "\n",
    "Another Fun fact:\n",
    "    \n",
    "    This is an approximation which can add variance to the data set. But the loss of the data can be negated by this method which yields better results compared to removal of rows and columns."
   ]
  },
  {
   "cell_type": "markdown",
   "metadata": {
    "id": "GMtx5Urqkqhk"
   },
   "source": [
    "Impute Nan with forward fill"
   ]
  },
  {
   "cell_type": "code",
   "execution_count": 12,
   "metadata": {
    "colab": {
     "base_uri": "https://localhost:8080/",
     "height": 202
    },
    "id": "te5396qBkqhl",
    "outputId": "adbe7704-e4b7-480e-ad11-68e2db96d276"
   },
   "outputs": [
    {
     "data": {
      "text/html": [
       "<div>\n",
       "<style scoped>\n",
       "    .dataframe tbody tr th:only-of-type {\n",
       "        vertical-align: middle;\n",
       "    }\n",
       "\n",
       "    .dataframe tbody tr th {\n",
       "        vertical-align: top;\n",
       "    }\n",
       "\n",
       "    .dataframe thead th {\n",
       "        text-align: right;\n",
       "    }\n",
       "</style>\n",
       "<table border=\"1\" class=\"dataframe\">\n",
       "  <thead>\n",
       "    <tr style=\"text-align: right;\">\n",
       "      <th></th>\n",
       "      <th>Temperature</th>\n",
       "      <th>Humidity</th>\n",
       "    </tr>\n",
       "  </thead>\n",
       "  <tbody>\n",
       "    <tr>\n",
       "      <th>0</th>\n",
       "      <td>1.0</td>\n",
       "      <td>22.0</td>\n",
       "    </tr>\n",
       "    <tr>\n",
       "      <th>1</th>\n",
       "      <td>1.0</td>\n",
       "      <td>22.0</td>\n",
       "    </tr>\n",
       "    <tr>\n",
       "      <th>2</th>\n",
       "      <td>3.0</td>\n",
       "      <td>2.0</td>\n",
       "    </tr>\n",
       "    <tr>\n",
       "      <th>3</th>\n",
       "      <td>2.0</td>\n",
       "      <td>2.0</td>\n",
       "    </tr>\n",
       "    <tr>\n",
       "      <th>4</th>\n",
       "      <td>3.0</td>\n",
       "      <td>20.0</td>\n",
       "    </tr>\n",
       "  </tbody>\n",
       "</table>\n",
       "</div>"
      ],
      "text/plain": [
       "   Temperature  Humidity\n",
       "0          1.0      22.0\n",
       "1          1.0      22.0\n",
       "2          3.0       2.0\n",
       "3          2.0       2.0\n",
       "4          3.0      20.0"
      ]
     },
     "execution_count": 12,
     "metadata": {},
     "output_type": "execute_result"
    }
   ],
   "source": [
    "d1.ffill()"
   ]
  },
  {
   "cell_type": "markdown",
   "metadata": {
    "id": "eH05-uFJkqhl"
   },
   "source": [
    "Impute Nan with backward fill"
   ]
  },
  {
   "cell_type": "code",
   "execution_count": 13,
   "metadata": {
    "colab": {
     "base_uri": "https://localhost:8080/",
     "height": 202
    },
    "id": "8qRteICGkqhl",
    "outputId": "f64e7751-ab4c-4bf2-af53-79b15b15d924"
   },
   "outputs": [
    {
     "data": {
      "text/html": [
       "<div>\n",
       "<style scoped>\n",
       "    .dataframe tbody tr th:only-of-type {\n",
       "        vertical-align: middle;\n",
       "    }\n",
       "\n",
       "    .dataframe tbody tr th {\n",
       "        vertical-align: top;\n",
       "    }\n",
       "\n",
       "    .dataframe thead th {\n",
       "        text-align: right;\n",
       "    }\n",
       "</style>\n",
       "<table border=\"1\" class=\"dataframe\">\n",
       "  <thead>\n",
       "    <tr style=\"text-align: right;\">\n",
       "      <th></th>\n",
       "      <th>Temperature</th>\n",
       "      <th>Humidity</th>\n",
       "    </tr>\n",
       "  </thead>\n",
       "  <tbody>\n",
       "    <tr>\n",
       "      <th>0</th>\n",
       "      <td>1.0</td>\n",
       "      <td>22.0</td>\n",
       "    </tr>\n",
       "    <tr>\n",
       "      <th>1</th>\n",
       "      <td>3.0</td>\n",
       "      <td>2.0</td>\n",
       "    </tr>\n",
       "    <tr>\n",
       "      <th>2</th>\n",
       "      <td>3.0</td>\n",
       "      <td>2.0</td>\n",
       "    </tr>\n",
       "    <tr>\n",
       "      <th>3</th>\n",
       "      <td>2.0</td>\n",
       "      <td>20.0</td>\n",
       "    </tr>\n",
       "    <tr>\n",
       "      <th>4</th>\n",
       "      <td>3.0</td>\n",
       "      <td>20.0</td>\n",
       "    </tr>\n",
       "  </tbody>\n",
       "</table>\n",
       "</div>"
      ],
      "text/plain": [
       "   Temperature  Humidity\n",
       "0          1.0      22.0\n",
       "1          3.0       2.0\n",
       "2          3.0       2.0\n",
       "3          2.0      20.0\n",
       "4          3.0      20.0"
      ]
     },
     "execution_count": 13,
     "metadata": {},
     "output_type": "execute_result"
    }
   ],
   "source": [
    "d1.bfill()"
   ]
  },
  {
   "cell_type": "markdown",
   "metadata": {
    "id": "b9M8GD2Jkqhl"
   },
   "source": [
    "Hey a fun fact here, as sweet as a cookie:\n",
    "\n",
    "- ffill/pad/bfill are good imputation method if our data is of time series. This would keep the trend unaffected for our analysis."
   ]
  },
  {
   "cell_type": "markdown",
   "metadata": {
    "id": "x5J30Hulkqhl"
   },
   "source": [
    "Impute nan using interpolation method"
   ]
  },
  {
   "cell_type": "code",
   "execution_count": 14,
   "metadata": {
    "colab": {
     "base_uri": "https://localhost:8080/",
     "height": 202
    },
    "id": "TM3KAAC0kqhl",
    "outputId": "b483e440-b364-4621-d99e-133a3f5673b2"
   },
   "outputs": [
    {
     "data": {
      "text/html": [
       "<div>\n",
       "<style scoped>\n",
       "    .dataframe tbody tr th:only-of-type {\n",
       "        vertical-align: middle;\n",
       "    }\n",
       "\n",
       "    .dataframe tbody tr th {\n",
       "        vertical-align: top;\n",
       "    }\n",
       "\n",
       "    .dataframe thead th {\n",
       "        text-align: right;\n",
       "    }\n",
       "</style>\n",
       "<table border=\"1\" class=\"dataframe\">\n",
       "  <thead>\n",
       "    <tr style=\"text-align: right;\">\n",
       "      <th></th>\n",
       "      <th>Temperature</th>\n",
       "      <th>Humidity</th>\n",
       "    </tr>\n",
       "  </thead>\n",
       "  <tbody>\n",
       "    <tr>\n",
       "      <th>0</th>\n",
       "      <td>1.0</td>\n",
       "      <td>22.0</td>\n",
       "    </tr>\n",
       "    <tr>\n",
       "      <th>1</th>\n",
       "      <td>2.0</td>\n",
       "      <td>12.0</td>\n",
       "    </tr>\n",
       "    <tr>\n",
       "      <th>2</th>\n",
       "      <td>3.0</td>\n",
       "      <td>2.0</td>\n",
       "    </tr>\n",
       "    <tr>\n",
       "      <th>3</th>\n",
       "      <td>2.0</td>\n",
       "      <td>11.0</td>\n",
       "    </tr>\n",
       "    <tr>\n",
       "      <th>4</th>\n",
       "      <td>3.0</td>\n",
       "      <td>20.0</td>\n",
       "    </tr>\n",
       "  </tbody>\n",
       "</table>\n",
       "</div>"
      ],
      "text/plain": [
       "   Temperature  Humidity\n",
       "0          1.0      22.0\n",
       "1          2.0      12.0\n",
       "2          3.0       2.0\n",
       "3          2.0      11.0\n",
       "4          3.0      20.0"
      ]
     },
     "execution_count": 14,
     "metadata": {},
     "output_type": "execute_result"
    }
   ],
   "source": [
    "d1.interpolate()"
   ]
  },
  {
   "cell_type": "markdown",
   "metadata": {
    "id": "RU3U6gp9kqhm"
   },
   "source": [
    "You lucky champ! you got to know another amazing fact:\n",
    " - Interpolation method by default is linear in nature. It is an imputation technique that assumes a linear relationship between data points and utilises non-missing values from adjacent data points to compute a value for a missing data point.\n",
    "\n",
    "\n",
    "You can explore other techniques involved in interplolation method, which might be usefull for your project."
   ]
  },
  {
   "cell_type": "markdown",
   "metadata": {
    "id": "o8_jyqTskqhm"
   },
   "source": [
    "Perform KNN imputation"
   ]
  },
  {
   "cell_type": "code",
   "execution_count": 15,
   "metadata": {
    "colab": {
     "base_uri": "https://localhost:8080/",
     "height": 202
    },
    "id": "_8fxGCuUkqhm",
    "outputId": "dda8777a-f28b-4ea5-fdb4-3cce50ff9c27"
   },
   "outputs": [
    {
     "data": {
      "text/html": [
       "<div>\n",
       "<style scoped>\n",
       "    .dataframe tbody tr th:only-of-type {\n",
       "        vertical-align: middle;\n",
       "    }\n",
       "\n",
       "    .dataframe tbody tr th {\n",
       "        vertical-align: top;\n",
       "    }\n",
       "\n",
       "    .dataframe thead th {\n",
       "        text-align: right;\n",
       "    }\n",
       "</style>\n",
       "<table border=\"1\" class=\"dataframe\">\n",
       "  <thead>\n",
       "    <tr style=\"text-align: right;\">\n",
       "      <th></th>\n",
       "      <th>0</th>\n",
       "      <th>1</th>\n",
       "    </tr>\n",
       "  </thead>\n",
       "  <tbody>\n",
       "    <tr>\n",
       "      <th>0</th>\n",
       "      <td>1.00</td>\n",
       "      <td>22.000000</td>\n",
       "    </tr>\n",
       "    <tr>\n",
       "      <th>1</th>\n",
       "      <td>2.25</td>\n",
       "      <td>14.666667</td>\n",
       "    </tr>\n",
       "    <tr>\n",
       "      <th>2</th>\n",
       "      <td>3.00</td>\n",
       "      <td>2.000000</td>\n",
       "    </tr>\n",
       "    <tr>\n",
       "      <th>3</th>\n",
       "      <td>2.00</td>\n",
       "      <td>12.000000</td>\n",
       "    </tr>\n",
       "    <tr>\n",
       "      <th>4</th>\n",
       "      <td>3.00</td>\n",
       "      <td>20.000000</td>\n",
       "    </tr>\n",
       "  </tbody>\n",
       "</table>\n",
       "</div>"
      ],
      "text/plain": [
       "      0          1\n",
       "0  1.00  22.000000\n",
       "1  2.25  14.666667\n",
       "2  3.00   2.000000\n",
       "3  2.00  12.000000\n",
       "4  3.00  20.000000"
      ]
     },
     "execution_count": 15,
     "metadata": {},
     "output_type": "execute_result"
    }
   ],
   "source": [
    "# Hint: Import KNNImputer and impute it on d1\n",
    "from sklearn.impute import KNNImputer\n",
    "imputer = KNNImputer(n_neighbors=2)\n",
    "pd.DataFrame(imputer.fit_transform(d1))\n",
    "# no idea of the concept behind this - please explain or help with some relevant videos \n",
    "#unable to get the header name"
   ]
  },
  {
   "cell_type": "markdown",
   "metadata": {
    "id": "sESbshdUkqhm"
   },
   "source": [
    "Point to ponder: KNN is an algorithm that is useful for matching a point with its closest k neighbors in a multi-dimensional space.\n",
    "\n",
    "Do you think scaling is required to implement this method?. Yes you are right the answer is YES.\n",
    "Can you comment below why normalized data is required, so that we understand your logic on this."
   ]
  },
  {
   "cell_type": "markdown",
   "metadata": {
    "id": "xEL5JbBYkqhm"
   },
   "source": [
    "_what is scaling means - what do you mean by normalized data and what is KNN imputation for nan values"
   ]
  },
  {
   "cell_type": "markdown",
   "metadata": {
    "id": "ReGk1Utckqhn"
   },
   "source": [
    "# Dropping Irrelevant Columns\n",
    "\n",
    "Reference:-https://www.youtube.com/watch?v=cRurWEfmxC0"
   ]
  },
  {
   "cell_type": "markdown",
   "metadata": {
    "id": "xZuUMHb3kqhn"
   },
   "source": [
    "<p style='text-align: right;'> 5 points</p>\n"
   ]
  },
  {
   "cell_type": "markdown",
   "metadata": {
    "id": "rJZ0HZJPkqhn"
   },
   "source": [
    "Create a dataframe df = pd.DataFrame(np.random.randint(0,100,size=(100, 5)), columns=list('ABCDE'))\n"
   ]
  },
  {
   "cell_type": "code",
   "execution_count": 16,
   "metadata": {
    "id": "XtENCthAkqhn"
   },
   "outputs": [],
   "source": [
    "df = pd.DataFrame(np.random.randint(0,100,size=(100, 5)), columns=list('ABCDE'))"
   ]
  },
  {
   "cell_type": "markdown",
   "metadata": {
    "id": "bUQ0M4CKkqhn"
   },
   "source": [
    "print df"
   ]
  },
  {
   "cell_type": "code",
   "execution_count": 17,
   "metadata": {
    "colab": {
     "base_uri": "https://localhost:8080/",
     "height": 415
    },
    "id": "iuFh13J_kqho",
    "outputId": "3869543d-e165-4290-eceb-7a6e52d00a89"
   },
   "outputs": [
    {
     "data": {
      "text/html": [
       "<div>\n",
       "<style scoped>\n",
       "    .dataframe tbody tr th:only-of-type {\n",
       "        vertical-align: middle;\n",
       "    }\n",
       "\n",
       "    .dataframe tbody tr th {\n",
       "        vertical-align: top;\n",
       "    }\n",
       "\n",
       "    .dataframe thead th {\n",
       "        text-align: right;\n",
       "    }\n",
       "</style>\n",
       "<table border=\"1\" class=\"dataframe\">\n",
       "  <thead>\n",
       "    <tr style=\"text-align: right;\">\n",
       "      <th></th>\n",
       "      <th>A</th>\n",
       "      <th>B</th>\n",
       "      <th>C</th>\n",
       "      <th>D</th>\n",
       "      <th>E</th>\n",
       "    </tr>\n",
       "  </thead>\n",
       "  <tbody>\n",
       "    <tr>\n",
       "      <th>0</th>\n",
       "      <td>73</td>\n",
       "      <td>51</td>\n",
       "      <td>20</td>\n",
       "      <td>31</td>\n",
       "      <td>20</td>\n",
       "    </tr>\n",
       "    <tr>\n",
       "      <th>1</th>\n",
       "      <td>8</td>\n",
       "      <td>95</td>\n",
       "      <td>66</td>\n",
       "      <td>98</td>\n",
       "      <td>31</td>\n",
       "    </tr>\n",
       "    <tr>\n",
       "      <th>2</th>\n",
       "      <td>2</td>\n",
       "      <td>12</td>\n",
       "      <td>75</td>\n",
       "      <td>80</td>\n",
       "      <td>74</td>\n",
       "    </tr>\n",
       "    <tr>\n",
       "      <th>3</th>\n",
       "      <td>39</td>\n",
       "      <td>64</td>\n",
       "      <td>43</td>\n",
       "      <td>99</td>\n",
       "      <td>36</td>\n",
       "    </tr>\n",
       "    <tr>\n",
       "      <th>4</th>\n",
       "      <td>90</td>\n",
       "      <td>34</td>\n",
       "      <td>5</td>\n",
       "      <td>7</td>\n",
       "      <td>30</td>\n",
       "    </tr>\n",
       "  </tbody>\n",
       "</table>\n",
       "</div>"
      ],
      "text/plain": [
       "    A   B   C   D   E\n",
       "0  73  51  20  31  20\n",
       "1   8  95  66  98  31\n",
       "2   2  12  75  80  74\n",
       "3  39  64  43  99  36\n",
       "4  90  34   5   7  30"
      ]
     },
     "execution_count": 17,
     "metadata": {},
     "output_type": "execute_result"
    }
   ],
   "source": [
    "df.head()"
   ]
  },
  {
   "cell_type": "markdown",
   "metadata": {
    "id": "cctu8rh5lL9j"
   },
   "source": [
    "Note: Since all the rows are having random numbers, your dataframe observations might be different than the output given above"
   ]
  },
  {
   "cell_type": "markdown",
   "metadata": {
    "id": "wwTEQf2Jkqho"
   },
   "source": [
    "Suppose for our analysis our project do not require column E. So you need to remove this column. update this new change using inplace parameter"
   ]
  },
  {
   "cell_type": "code",
   "execution_count": 18,
   "metadata": {
    "id": "6dPLhUwikqho"
   },
   "outputs": [],
   "source": [
    "del df['E']"
   ]
  },
  {
   "cell_type": "markdown",
   "metadata": {
    "id": "1rtM-5APkqho"
   },
   "source": [
    "Check if column **E** is removed by printing head of df"
   ]
  },
  {
   "cell_type": "code",
   "execution_count": 19,
   "metadata": {
    "colab": {
     "base_uri": "https://localhost:8080/",
     "height": 202
    },
    "id": "yvEa_vfOkqhp",
    "outputId": "5ce8871d-42be-48eb-c262-4d37bfa0dfb6"
   },
   "outputs": [
    {
     "name": "stdout",
     "output_type": "stream",
     "text": [
      "    A   B   C   D\n",
      "0  73  51  20  31\n",
      "1   8  95  66  98\n",
      "2   2  12  75  80\n",
      "3  39  64  43  99\n",
      "4  90  34   5   7\n",
      "<class 'pandas.core.frame.DataFrame'>\n"
     ]
    }
   ],
   "source": [
    "print(df.head())\n",
    "print(type(df))"
   ]
  },
  {
   "cell_type": "markdown",
   "metadata": {
    "id": "XQDwFmMKkqhq"
   },
   "source": [
    "# Ensure requirements as per domain\n",
    "\n",
    "Reference:-https://www.youtube.com/watch?v=eM7p3MVLOZ8"
   ]
  },
  {
   "cell_type": "markdown",
   "metadata": {
    "id": "uN5BNC29kqhq"
   },
   "source": [
    "<p style='text-align: right;'> 10 points</p>\n"
   ]
  },
  {
   "cell_type": "markdown",
   "metadata": {
    "id": "V1LgaSKOjnPm"
   },
   "source": [
    "\n",
    "Shallow copy the dataframe df in variable df2 and print df2 head\n",
    "\n",
    "\n",
    "\n",
    "\n"
   ]
  },
  {
   "cell_type": "code",
   "execution_count": 20,
   "metadata": {
    "colab": {
     "base_uri": "https://localhost:8080/",
     "height": 202
    },
    "id": "uFK6ZRVZjTAt",
    "outputId": "f6f37409-81c6-4cf8-b076-c908690a67fe"
   },
   "outputs": [
    {
     "data": {
      "text/html": [
       "<div>\n",
       "<style scoped>\n",
       "    .dataframe tbody tr th:only-of-type {\n",
       "        vertical-align: middle;\n",
       "    }\n",
       "\n",
       "    .dataframe tbody tr th {\n",
       "        vertical-align: top;\n",
       "    }\n",
       "\n",
       "    .dataframe thead th {\n",
       "        text-align: right;\n",
       "    }\n",
       "</style>\n",
       "<table border=\"1\" class=\"dataframe\">\n",
       "  <thead>\n",
       "    <tr style=\"text-align: right;\">\n",
       "      <th></th>\n",
       "      <th>A</th>\n",
       "      <th>B</th>\n",
       "      <th>C</th>\n",
       "      <th>D</th>\n",
       "    </tr>\n",
       "  </thead>\n",
       "  <tbody>\n",
       "    <tr>\n",
       "      <th>0</th>\n",
       "      <td>73</td>\n",
       "      <td>51</td>\n",
       "      <td>20</td>\n",
       "      <td>31</td>\n",
       "    </tr>\n",
       "    <tr>\n",
       "      <th>1</th>\n",
       "      <td>8</td>\n",
       "      <td>95</td>\n",
       "      <td>66</td>\n",
       "      <td>98</td>\n",
       "    </tr>\n",
       "    <tr>\n",
       "      <th>2</th>\n",
       "      <td>2</td>\n",
       "      <td>12</td>\n",
       "      <td>75</td>\n",
       "      <td>80</td>\n",
       "    </tr>\n",
       "    <tr>\n",
       "      <th>3</th>\n",
       "      <td>39</td>\n",
       "      <td>64</td>\n",
       "      <td>43</td>\n",
       "      <td>99</td>\n",
       "    </tr>\n",
       "    <tr>\n",
       "      <th>4</th>\n",
       "      <td>90</td>\n",
       "      <td>34</td>\n",
       "      <td>5</td>\n",
       "      <td>7</td>\n",
       "    </tr>\n",
       "  </tbody>\n",
       "</table>\n",
       "</div>"
      ],
      "text/plain": [
       "    A   B   C   D\n",
       "0  73  51  20  31\n",
       "1   8  95  66  98\n",
       "2   2  12  75  80\n",
       "3  39  64  43  99\n",
       "4  90  34   5   7"
      ]
     },
     "execution_count": 20,
     "metadata": {},
     "output_type": "execute_result"
    }
   ],
   "source": [
    "df2=df.copy(deep= False)\n",
    "df2.head()"
   ]
  },
  {
   "cell_type": "markdown",
   "metadata": {
    "id": "2OmoXpwLkqhq"
   },
   "source": [
    "Suppose your domain expert says to filter column B with even numbers to do correct analysis. Implement the same below and update the change in varaible df2."
   ]
  },
  {
   "cell_type": "code",
   "execution_count": 21,
   "metadata": {
    "id": "lOG09CHLkqhq"
   },
   "outputs": [],
   "source": [
    "df2=pd.DataFrame(df2[df2['B']%2==0])"
   ]
  },
  {
   "cell_type": "markdown",
   "metadata": {
    "id": "9glWk_f8kqhq"
   },
   "source": [
    "print updated head of *df2*"
   ]
  },
  {
   "cell_type": "code",
   "execution_count": 22,
   "metadata": {
    "colab": {
     "base_uri": "https://localhost:8080/",
     "height": 202
    },
    "id": "-7DJrucnkqhq",
    "outputId": "7cadc6de-0822-4d5a-c0b1-e66d00d21aff"
   },
   "outputs": [
    {
     "data": {
      "text/html": [
       "<div>\n",
       "<style scoped>\n",
       "    .dataframe tbody tr th:only-of-type {\n",
       "        vertical-align: middle;\n",
       "    }\n",
       "\n",
       "    .dataframe tbody tr th {\n",
       "        vertical-align: top;\n",
       "    }\n",
       "\n",
       "    .dataframe thead th {\n",
       "        text-align: right;\n",
       "    }\n",
       "</style>\n",
       "<table border=\"1\" class=\"dataframe\">\n",
       "  <thead>\n",
       "    <tr style=\"text-align: right;\">\n",
       "      <th></th>\n",
       "      <th>A</th>\n",
       "      <th>B</th>\n",
       "      <th>C</th>\n",
       "      <th>D</th>\n",
       "    </tr>\n",
       "  </thead>\n",
       "  <tbody>\n",
       "    <tr>\n",
       "      <th>2</th>\n",
       "      <td>2</td>\n",
       "      <td>12</td>\n",
       "      <td>75</td>\n",
       "      <td>80</td>\n",
       "    </tr>\n",
       "    <tr>\n",
       "      <th>3</th>\n",
       "      <td>39</td>\n",
       "      <td>64</td>\n",
       "      <td>43</td>\n",
       "      <td>99</td>\n",
       "    </tr>\n",
       "    <tr>\n",
       "      <th>4</th>\n",
       "      <td>90</td>\n",
       "      <td>34</td>\n",
       "      <td>5</td>\n",
       "      <td>7</td>\n",
       "    </tr>\n",
       "    <tr>\n",
       "      <th>5</th>\n",
       "      <td>8</td>\n",
       "      <td>12</td>\n",
       "      <td>36</td>\n",
       "      <td>70</td>\n",
       "    </tr>\n",
       "    <tr>\n",
       "      <th>6</th>\n",
       "      <td>98</td>\n",
       "      <td>32</td>\n",
       "      <td>84</td>\n",
       "      <td>78</td>\n",
       "    </tr>\n",
       "  </tbody>\n",
       "</table>\n",
       "</div>"
      ],
      "text/plain": [
       "    A   B   C   D\n",
       "2   2  12  75  80\n",
       "3  39  64  43  99\n",
       "4  90  34   5   7\n",
       "5   8  12  36  70\n",
       "6  98  32  84  78"
      ]
     },
     "execution_count": 22,
     "metadata": {},
     "output_type": "execute_result"
    }
   ],
   "source": [
    "df2.head()"
   ]
  },
  {
   "cell_type": "markdown",
   "metadata": {
    "id": "dRAh9uVnkqhq"
   },
   "source": [
    "# Creating a sensible index values\n",
    "\n",
    "Reference:-https://www.youtube.com/watch?v=FQ4IB5mZOmQ\n"
   ]
  },
  {
   "cell_type": "markdown",
   "metadata": {
    "id": "ngZAGkC2kqhr"
   },
   "source": [
    "Oops. The index in this dataframe doesn't make sense. please correct index in a sequential manner starting from 1. Save the updates in df2"
   ]
  },
  {
   "cell_type": "code",
   "execution_count": 23,
   "metadata": {
    "id": "X_M-38Qxkqhr"
   },
   "outputs": [],
   "source": [
    "df2.reset_index(drop= True, inplace = True)  # this is really very important - it takes a lot of time to undertand"
   ]
  },
  {
   "cell_type": "markdown",
   "metadata": {
    "id": "k7MEL_Ldkqhr"
   },
   "source": [
    "print df2 head again"
   ]
  },
  {
   "cell_type": "code",
   "execution_count": 24,
   "metadata": {
    "colab": {
     "base_uri": "https://localhost:8080/",
     "height": 202
    },
    "id": "_qLt44-vkqhr",
    "outputId": "5015dda1-554f-4870-9b3e-ecfe137b43e1"
   },
   "outputs": [
    {
     "data": {
      "text/html": [
       "<div>\n",
       "<style scoped>\n",
       "    .dataframe tbody tr th:only-of-type {\n",
       "        vertical-align: middle;\n",
       "    }\n",
       "\n",
       "    .dataframe tbody tr th {\n",
       "        vertical-align: top;\n",
       "    }\n",
       "\n",
       "    .dataframe thead th {\n",
       "        text-align: right;\n",
       "    }\n",
       "</style>\n",
       "<table border=\"1\" class=\"dataframe\">\n",
       "  <thead>\n",
       "    <tr style=\"text-align: right;\">\n",
       "      <th></th>\n",
       "      <th>A</th>\n",
       "      <th>B</th>\n",
       "      <th>C</th>\n",
       "      <th>D</th>\n",
       "    </tr>\n",
       "  </thead>\n",
       "  <tbody>\n",
       "    <tr>\n",
       "      <th>0</th>\n",
       "      <td>2</td>\n",
       "      <td>12</td>\n",
       "      <td>75</td>\n",
       "      <td>80</td>\n",
       "    </tr>\n",
       "    <tr>\n",
       "      <th>1</th>\n",
       "      <td>39</td>\n",
       "      <td>64</td>\n",
       "      <td>43</td>\n",
       "      <td>99</td>\n",
       "    </tr>\n",
       "    <tr>\n",
       "      <th>2</th>\n",
       "      <td>90</td>\n",
       "      <td>34</td>\n",
       "      <td>5</td>\n",
       "      <td>7</td>\n",
       "    </tr>\n",
       "    <tr>\n",
       "      <th>3</th>\n",
       "      <td>8</td>\n",
       "      <td>12</td>\n",
       "      <td>36</td>\n",
       "      <td>70</td>\n",
       "    </tr>\n",
       "    <tr>\n",
       "      <th>4</th>\n",
       "      <td>98</td>\n",
       "      <td>32</td>\n",
       "      <td>84</td>\n",
       "      <td>78</td>\n",
       "    </tr>\n",
       "  </tbody>\n",
       "</table>\n",
       "</div>"
      ],
      "text/plain": [
       "    A   B   C   D\n",
       "0   2  12  75  80\n",
       "1  39  64  43  99\n",
       "2  90  34   5   7\n",
       "3   8  12  36  70\n",
       "4  98  32  84  78"
      ]
     },
     "execution_count": 24,
     "metadata": {},
     "output_type": "execute_result"
    }
   ],
   "source": [
    "df2.head()"
   ]
  },
  {
   "cell_type": "markdown",
   "metadata": {
    "id": "t1htc1J-kqhr"
   },
   "source": [
    "# Renaming column names to meaningful names.\n",
    "\n",
    "Reference:- https://www.youtube.com/watch?v=YnggjqAfZCU\n",
    "<p style='text-align: right;'> 2 points</p>\n"
   ]
  },
  {
   "cell_type": "markdown",
   "metadata": {
    "id": "P3JtdP4fkqhr"
   },
   "source": [
    "Now df2 columns represents marks of the adventurous 'Anand', the brave 'Barkha', the compassionate 'Chandu' and the dashing 'Daniel'. Rename the columns with their name inplace of their first letter of their name."
   ]
  },
  {
   "cell_type": "code",
   "execution_count": 25,
   "metadata": {
    "id": "wsQ2Sr-9kqhs"
   },
   "outputs": [],
   "source": [
    "df2.rename(columns={\"A\":\"Anand\",\"B\":\"Barkha\", \"C\":\"Chandu\",\"D\":\"Daniel\"}, inplace = True)"
   ]
  },
  {
   "cell_type": "markdown",
   "metadata": {
    "id": "wwV5om7Ikqhs"
   },
   "source": [
    "print df2 tail with updated column names"
   ]
  },
  {
   "cell_type": "code",
   "execution_count": 26,
   "metadata": {
    "colab": {
     "base_uri": "https://localhost:8080/",
     "height": 202
    },
    "id": "ZA5btO84kqhs",
    "outputId": "ab6320d7-9dd6-490c-fce2-d902385dee20"
   },
   "outputs": [
    {
     "data": {
      "text/html": [
       "<div>\n",
       "<style scoped>\n",
       "    .dataframe tbody tr th:only-of-type {\n",
       "        vertical-align: middle;\n",
       "    }\n",
       "\n",
       "    .dataframe tbody tr th {\n",
       "        vertical-align: top;\n",
       "    }\n",
       "\n",
       "    .dataframe thead th {\n",
       "        text-align: right;\n",
       "    }\n",
       "</style>\n",
       "<table border=\"1\" class=\"dataframe\">\n",
       "  <thead>\n",
       "    <tr style=\"text-align: right;\">\n",
       "      <th></th>\n",
       "      <th>Anand</th>\n",
       "      <th>Barkha</th>\n",
       "      <th>Chandu</th>\n",
       "      <th>Daniel</th>\n",
       "    </tr>\n",
       "  </thead>\n",
       "  <tbody>\n",
       "    <tr>\n",
       "      <th>0</th>\n",
       "      <td>2</td>\n",
       "      <td>12</td>\n",
       "      <td>75</td>\n",
       "      <td>80</td>\n",
       "    </tr>\n",
       "    <tr>\n",
       "      <th>1</th>\n",
       "      <td>39</td>\n",
       "      <td>64</td>\n",
       "      <td>43</td>\n",
       "      <td>99</td>\n",
       "    </tr>\n",
       "    <tr>\n",
       "      <th>2</th>\n",
       "      <td>90</td>\n",
       "      <td>34</td>\n",
       "      <td>5</td>\n",
       "      <td>7</td>\n",
       "    </tr>\n",
       "    <tr>\n",
       "      <th>3</th>\n",
       "      <td>8</td>\n",
       "      <td>12</td>\n",
       "      <td>36</td>\n",
       "      <td>70</td>\n",
       "    </tr>\n",
       "    <tr>\n",
       "      <th>4</th>\n",
       "      <td>98</td>\n",
       "      <td>32</td>\n",
       "      <td>84</td>\n",
       "      <td>78</td>\n",
       "    </tr>\n",
       "  </tbody>\n",
       "</table>\n",
       "</div>"
      ],
      "text/plain": [
       "   Anand  Barkha  Chandu  Daniel\n",
       "0      2      12      75      80\n",
       "1     39      64      43      99\n",
       "2     90      34       5       7\n",
       "3      8      12      36      70\n",
       "4     98      32      84      78"
      ]
     },
     "execution_count": 26,
     "metadata": {},
     "output_type": "execute_result"
    }
   ],
   "source": [
    "df2.head()"
   ]
  },
  {
   "cell_type": "markdown",
   "metadata": {
    "id": "OVPJo5YEkqhs"
   },
   "source": [
    "Yeah! now the data looks pretty meaningful to study"
   ]
  },
  {
   "cell_type": "markdown",
   "metadata": {
    "id": "TmIexkkOkqhs"
   },
   "source": [
    "# Treating Duplicate Data\n",
    "\n",
    "Reference: https://www.youtube.com/watch?v=bFVMR1qfzXo"
   ]
  },
  {
   "cell_type": "markdown",
   "metadata": {
    "id": "WndpHrtvkqhs"
   },
   "source": [
    "<p style='text-align: right;'> 20 points</p>\n"
   ]
  },
  {
   "cell_type": "markdown",
   "metadata": {
    "id": "FisYRuFD0CA7"
   },
   "source": [
    "Make another dataframe df3 by deep copying df2.\n",
    "\n",
    "Reference:-https://pandas.pydata.org/docs/reference/api/pandas.DataFrame.copy.html"
   ]
  },
  {
   "cell_type": "code",
   "execution_count": 27,
   "metadata": {
    "id": "7YdZvdGozNFT"
   },
   "outputs": [
    {
     "data": {
      "text/html": [
       "<div>\n",
       "<style scoped>\n",
       "    .dataframe tbody tr th:only-of-type {\n",
       "        vertical-align: middle;\n",
       "    }\n",
       "\n",
       "    .dataframe tbody tr th {\n",
       "        vertical-align: top;\n",
       "    }\n",
       "\n",
       "    .dataframe thead th {\n",
       "        text-align: right;\n",
       "    }\n",
       "</style>\n",
       "<table border=\"1\" class=\"dataframe\">\n",
       "  <thead>\n",
       "    <tr style=\"text-align: right;\">\n",
       "      <th></th>\n",
       "      <th>Anand</th>\n",
       "      <th>Barkha</th>\n",
       "      <th>Chandu</th>\n",
       "      <th>Daniel</th>\n",
       "    </tr>\n",
       "  </thead>\n",
       "  <tbody>\n",
       "    <tr>\n",
       "      <th>0</th>\n",
       "      <td>2</td>\n",
       "      <td>12</td>\n",
       "      <td>75</td>\n",
       "      <td>80</td>\n",
       "    </tr>\n",
       "    <tr>\n",
       "      <th>1</th>\n",
       "      <td>39</td>\n",
       "      <td>64</td>\n",
       "      <td>43</td>\n",
       "      <td>99</td>\n",
       "    </tr>\n",
       "    <tr>\n",
       "      <th>2</th>\n",
       "      <td>90</td>\n",
       "      <td>34</td>\n",
       "      <td>5</td>\n",
       "      <td>7</td>\n",
       "    </tr>\n",
       "    <tr>\n",
       "      <th>3</th>\n",
       "      <td>8</td>\n",
       "      <td>12</td>\n",
       "      <td>36</td>\n",
       "      <td>70</td>\n",
       "    </tr>\n",
       "    <tr>\n",
       "      <th>4</th>\n",
       "      <td>98</td>\n",
       "      <td>32</td>\n",
       "      <td>84</td>\n",
       "      <td>78</td>\n",
       "    </tr>\n",
       "  </tbody>\n",
       "</table>\n",
       "</div>"
      ],
      "text/plain": [
       "   Anand  Barkha  Chandu  Daniel\n",
       "0      2      12      75      80\n",
       "1     39      64      43      99\n",
       "2     90      34       5       7\n",
       "3      8      12      36      70\n",
       "4     98      32      84      78"
      ]
     },
     "execution_count": 27,
     "metadata": {},
     "output_type": "execute_result"
    }
   ],
   "source": [
    "df3=df2.copy()\n",
    "df3.head()"
   ]
  },
  {
   "cell_type": "markdown",
   "metadata": {
    "id": "3hCi4Zjokqhs"
   },
   "source": [
    "Make another column in df3 with name 'dummy' having 0 as values\n",
    "throughout the rows."
   ]
  },
  {
   "cell_type": "code",
   "execution_count": 28,
   "metadata": {
    "id": "IdXkjwYHkqht"
   },
   "outputs": [
    {
     "data": {
      "text/html": [
       "<div>\n",
       "<style scoped>\n",
       "    .dataframe tbody tr th:only-of-type {\n",
       "        vertical-align: middle;\n",
       "    }\n",
       "\n",
       "    .dataframe tbody tr th {\n",
       "        vertical-align: top;\n",
       "    }\n",
       "\n",
       "    .dataframe thead th {\n",
       "        text-align: right;\n",
       "    }\n",
       "</style>\n",
       "<table border=\"1\" class=\"dataframe\">\n",
       "  <thead>\n",
       "    <tr style=\"text-align: right;\">\n",
       "      <th></th>\n",
       "      <th>Anand</th>\n",
       "      <th>Barkha</th>\n",
       "      <th>Chandu</th>\n",
       "      <th>Daniel</th>\n",
       "      <th>dummy</th>\n",
       "    </tr>\n",
       "  </thead>\n",
       "  <tbody>\n",
       "    <tr>\n",
       "      <th>0</th>\n",
       "      <td>2</td>\n",
       "      <td>12</td>\n",
       "      <td>75</td>\n",
       "      <td>80</td>\n",
       "      <td>0</td>\n",
       "    </tr>\n",
       "    <tr>\n",
       "      <th>1</th>\n",
       "      <td>39</td>\n",
       "      <td>64</td>\n",
       "      <td>43</td>\n",
       "      <td>99</td>\n",
       "      <td>0</td>\n",
       "    </tr>\n",
       "    <tr>\n",
       "      <th>2</th>\n",
       "      <td>90</td>\n",
       "      <td>34</td>\n",
       "      <td>5</td>\n",
       "      <td>7</td>\n",
       "      <td>0</td>\n",
       "    </tr>\n",
       "    <tr>\n",
       "      <th>3</th>\n",
       "      <td>8</td>\n",
       "      <td>12</td>\n",
       "      <td>36</td>\n",
       "      <td>70</td>\n",
       "      <td>0</td>\n",
       "    </tr>\n",
       "    <tr>\n",
       "      <th>4</th>\n",
       "      <td>98</td>\n",
       "      <td>32</td>\n",
       "      <td>84</td>\n",
       "      <td>78</td>\n",
       "      <td>0</td>\n",
       "    </tr>\n",
       "  </tbody>\n",
       "</table>\n",
       "</div>"
      ],
      "text/plain": [
       "   Anand  Barkha  Chandu  Daniel  dummy\n",
       "0      2      12      75      80      0\n",
       "1     39      64      43      99      0\n",
       "2     90      34       5       7      0\n",
       "3      8      12      36      70      0\n",
       "4     98      32      84      78      0"
      ]
     },
     "execution_count": 28,
     "metadata": {},
     "output_type": "execute_result"
    }
   ],
   "source": [
    "df3['dummy']=0\n",
    "df3.head()"
   ]
  },
  {
   "cell_type": "code",
   "execution_count": 29,
   "metadata": {
    "colab": {
     "base_uri": "https://localhost:8080/"
    },
    "id": "en7XzaxD2rrV",
    "outputId": "0e7bdc46-d9a5-4d47-aba3-71743bf5a1db"
   },
   "outputs": [
    {
     "name": "stdout",
     "output_type": "stream",
     "text": [
      "    A   B   C   D\n",
      "0  73  51  20  31\n",
      "1   8  95  66  98\n",
      "2   2  12  75  80\n",
      "3  39  64  43  99\n",
      "4  90  34   5   7\n",
      "   Anand  Barkha  Chandu  Daniel\n",
      "0      2      12      75      80\n",
      "1     39      64      43      99\n",
      "2     90      34       5       7\n",
      "3      8      12      36      70\n",
      "4     98      32      84      78\n",
      "   Anand  Barkha  Chandu  Daniel  dummy\n",
      "0      2      12      75      80      0\n",
      "1     39      64      43      99      0\n",
      "2     90      34       5       7      0\n",
      "3      8      12      36      70      0\n",
      "4     98      32      84      78      0\n"
     ]
    }
   ],
   "source": [
    "print(df.head())\n",
    "print(df2.head())\n",
    "print(df3.head())"
   ]
  },
  {
   "cell_type": "markdown",
   "metadata": {
    "id": "MxcNd_Ja1YXs"
   },
   "source": [
    "Hey buddy! Don't you think, there is some difference between copy operation used for creating df2 and df3.\n",
    "\n",
    "If you think Yes, Then please comment below the difference"
   ]
  },
  {
   "cell_type": "markdown",
   "metadata": {
    "id": "HLLRqTPx1oRs"
   },
   "source": [
    "_ i didnt understns actually diff between these two nd use case "
   ]
  },
  {
   "cell_type": "markdown",
   "metadata": {
    "id": "2vlkb3edkqht"
   },
   "source": [
    "Print the tail of df3"
   ]
  },
  {
   "cell_type": "code",
   "execution_count": 30,
   "metadata": {
    "colab": {
     "base_uri": "https://localhost:8080/",
     "height": 202
    },
    "id": "asZ8XuR55qIC",
    "outputId": "2ec6c263-f370-4c4a-d16e-3f7e19f35a19"
   },
   "outputs": [
    {
     "data": {
      "text/html": [
       "<div>\n",
       "<style scoped>\n",
       "    .dataframe tbody tr th:only-of-type {\n",
       "        vertical-align: middle;\n",
       "    }\n",
       "\n",
       "    .dataframe tbody tr th {\n",
       "        vertical-align: top;\n",
       "    }\n",
       "\n",
       "    .dataframe thead th {\n",
       "        text-align: right;\n",
       "    }\n",
       "</style>\n",
       "<table border=\"1\" class=\"dataframe\">\n",
       "  <thead>\n",
       "    <tr style=\"text-align: right;\">\n",
       "      <th></th>\n",
       "      <th>Anand</th>\n",
       "      <th>Barkha</th>\n",
       "      <th>Chandu</th>\n",
       "      <th>Daniel</th>\n",
       "      <th>dummy</th>\n",
       "    </tr>\n",
       "  </thead>\n",
       "  <tbody>\n",
       "    <tr>\n",
       "      <th>50</th>\n",
       "      <td>95</td>\n",
       "      <td>38</td>\n",
       "      <td>85</td>\n",
       "      <td>61</td>\n",
       "      <td>0</td>\n",
       "    </tr>\n",
       "    <tr>\n",
       "      <th>51</th>\n",
       "      <td>26</td>\n",
       "      <td>12</td>\n",
       "      <td>39</td>\n",
       "      <td>54</td>\n",
       "      <td>0</td>\n",
       "    </tr>\n",
       "    <tr>\n",
       "      <th>52</th>\n",
       "      <td>55</td>\n",
       "      <td>80</td>\n",
       "      <td>52</td>\n",
       "      <td>24</td>\n",
       "      <td>0</td>\n",
       "    </tr>\n",
       "    <tr>\n",
       "      <th>53</th>\n",
       "      <td>0</td>\n",
       "      <td>14</td>\n",
       "      <td>68</td>\n",
       "      <td>45</td>\n",
       "      <td>0</td>\n",
       "    </tr>\n",
       "    <tr>\n",
       "      <th>54</th>\n",
       "      <td>30</td>\n",
       "      <td>48</td>\n",
       "      <td>8</td>\n",
       "      <td>11</td>\n",
       "      <td>0</td>\n",
       "    </tr>\n",
       "  </tbody>\n",
       "</table>\n",
       "</div>"
      ],
      "text/plain": [
       "    Anand  Barkha  Chandu  Daniel  dummy\n",
       "50     95      38      85      61      0\n",
       "51     26      12      39      54      0\n",
       "52     55      80      52      24      0\n",
       "53      0      14      68      45      0\n",
       "54     30      48       8      11      0"
      ]
     },
     "execution_count": 30,
     "metadata": {},
     "output_type": "execute_result"
    }
   ],
   "source": [
    "df3.tail()"
   ]
  },
  {
   "cell_type": "markdown",
   "metadata": {
    "id": "r4ulvQTdkqht"
   },
   "source": [
    "make an array name 'ListB' with values of column 'Barkha'"
   ]
  },
  {
   "cell_type": "code",
   "execution_count": 31,
   "metadata": {
    "id": "DDQvQNGdkqht"
   },
   "outputs": [],
   "source": [
    "listB=np.array(df3['Barkha'])"
   ]
  },
  {
   "cell_type": "markdown",
   "metadata": {
    "id": "kxp2Sttm57LA"
   },
   "source": [
    "Print ListB"
   ]
  },
  {
   "cell_type": "code",
   "execution_count": 32,
   "metadata": {
    "colab": {
     "base_uri": "https://localhost:8080/"
    },
    "id": "fCqZUrDdkqht",
    "outputId": "da3a0aaa-45dc-44c4-dfab-9bc17657a5dc"
   },
   "outputs": [
    {
     "data": {
      "text/plain": [
       "array([12, 64, 34, 12, 32, 24, 22, 40,  2, 46, 44, 10, 64, 68,  0, 68, 58,\n",
       "       44, 42, 44, 60, 44, 36, 66, 64, 54, 10, 80, 52, 18,  6, 38, 24, 42,\n",
       "       54, 58, 10, 38, 56, 48,  4, 30, 96, 28,  0, 80,  8, 56,  8,  0, 38,\n",
       "       12, 80, 14, 48])"
      ]
     },
     "execution_count": 32,
     "metadata": {},
     "output_type": "execute_result"
    }
   ],
   "source": [
    "listB"
   ]
  },
  {
   "cell_type": "markdown",
   "metadata": {
    "id": "XdTgrnTJkqhu"
   },
   "source": [
    "Assign this array values as another column in df3 with name 'Anonymous'"
   ]
  },
  {
   "cell_type": "code",
   "execution_count": 33,
   "metadata": {
    "id": "2U01qa6Akqhu"
   },
   "outputs": [
    {
     "data": {
      "text/html": [
       "<div>\n",
       "<style scoped>\n",
       "    .dataframe tbody tr th:only-of-type {\n",
       "        vertical-align: middle;\n",
       "    }\n",
       "\n",
       "    .dataframe tbody tr th {\n",
       "        vertical-align: top;\n",
       "    }\n",
       "\n",
       "    .dataframe thead th {\n",
       "        text-align: right;\n",
       "    }\n",
       "</style>\n",
       "<table border=\"1\" class=\"dataframe\">\n",
       "  <thead>\n",
       "    <tr style=\"text-align: right;\">\n",
       "      <th></th>\n",
       "      <th>Anand</th>\n",
       "      <th>Barkha</th>\n",
       "      <th>Chandu</th>\n",
       "      <th>Daniel</th>\n",
       "      <th>dummy</th>\n",
       "      <th>Anonymous</th>\n",
       "    </tr>\n",
       "  </thead>\n",
       "  <tbody>\n",
       "    <tr>\n",
       "      <th>0</th>\n",
       "      <td>2</td>\n",
       "      <td>12</td>\n",
       "      <td>75</td>\n",
       "      <td>80</td>\n",
       "      <td>0</td>\n",
       "      <td>12</td>\n",
       "    </tr>\n",
       "    <tr>\n",
       "      <th>1</th>\n",
       "      <td>39</td>\n",
       "      <td>64</td>\n",
       "      <td>43</td>\n",
       "      <td>99</td>\n",
       "      <td>0</td>\n",
       "      <td>64</td>\n",
       "    </tr>\n",
       "    <tr>\n",
       "      <th>2</th>\n",
       "      <td>90</td>\n",
       "      <td>34</td>\n",
       "      <td>5</td>\n",
       "      <td>7</td>\n",
       "      <td>0</td>\n",
       "      <td>34</td>\n",
       "    </tr>\n",
       "    <tr>\n",
       "      <th>3</th>\n",
       "      <td>8</td>\n",
       "      <td>12</td>\n",
       "      <td>36</td>\n",
       "      <td>70</td>\n",
       "      <td>0</td>\n",
       "      <td>12</td>\n",
       "    </tr>\n",
       "    <tr>\n",
       "      <th>4</th>\n",
       "      <td>98</td>\n",
       "      <td>32</td>\n",
       "      <td>84</td>\n",
       "      <td>78</td>\n",
       "      <td>0</td>\n",
       "      <td>32</td>\n",
       "    </tr>\n",
       "  </tbody>\n",
       "</table>\n",
       "</div>"
      ],
      "text/plain": [
       "   Anand  Barkha  Chandu  Daniel  dummy  Anonymous\n",
       "0      2      12      75      80      0         12\n",
       "1     39      64      43      99      0         64\n",
       "2     90      34       5       7      0         34\n",
       "3      8      12      36      70      0         12\n",
       "4     98      32      84      78      0         32"
      ]
     },
     "execution_count": 33,
     "metadata": {},
     "output_type": "execute_result"
    }
   ],
   "source": [
    "df3['Anonymous']=listB\n",
    "df3.head()"
   ]
  },
  {
   "cell_type": "markdown",
   "metadata": {
    "id": "9Tnv9FxNkqhu"
   },
   "source": [
    "Create a dataframe 'ListA' with values of row index 3, 10 and 50"
   ]
  },
  {
   "cell_type": "code",
   "execution_count": 34,
   "metadata": {
    "id": "6KjmI6RRkqhu"
   },
   "outputs": [],
   "source": [
    "ListA= pd.DataFrame(df3.iloc[[3,10,50]])"
   ]
  },
  {
   "cell_type": "markdown",
   "metadata": {
    "id": "536Zw_9kkqhu"
   },
   "source": [
    "print ListA"
   ]
  },
  {
   "cell_type": "code",
   "execution_count": 35,
   "metadata": {
    "colab": {
     "base_uri": "https://localhost:8080/",
     "height": 141
    },
    "id": "uiwW-8S9kqhu",
    "outputId": "81fb4e47-d0d2-4bb3-b3cb-d13fd4c7e878"
   },
   "outputs": [
    {
     "data": {
      "text/html": [
       "<div>\n",
       "<style scoped>\n",
       "    .dataframe tbody tr th:only-of-type {\n",
       "        vertical-align: middle;\n",
       "    }\n",
       "\n",
       "    .dataframe tbody tr th {\n",
       "        vertical-align: top;\n",
       "    }\n",
       "\n",
       "    .dataframe thead th {\n",
       "        text-align: right;\n",
       "    }\n",
       "</style>\n",
       "<table border=\"1\" class=\"dataframe\">\n",
       "  <thead>\n",
       "    <tr style=\"text-align: right;\">\n",
       "      <th></th>\n",
       "      <th>Anand</th>\n",
       "      <th>Barkha</th>\n",
       "      <th>Chandu</th>\n",
       "      <th>Daniel</th>\n",
       "      <th>dummy</th>\n",
       "      <th>Anonymous</th>\n",
       "    </tr>\n",
       "  </thead>\n",
       "  <tbody>\n",
       "    <tr>\n",
       "      <th>3</th>\n",
       "      <td>8</td>\n",
       "      <td>12</td>\n",
       "      <td>36</td>\n",
       "      <td>70</td>\n",
       "      <td>0</td>\n",
       "      <td>12</td>\n",
       "    </tr>\n",
       "    <tr>\n",
       "      <th>10</th>\n",
       "      <td>69</td>\n",
       "      <td>44</td>\n",
       "      <td>12</td>\n",
       "      <td>3</td>\n",
       "      <td>0</td>\n",
       "      <td>44</td>\n",
       "    </tr>\n",
       "    <tr>\n",
       "      <th>50</th>\n",
       "      <td>95</td>\n",
       "      <td>38</td>\n",
       "      <td>85</td>\n",
       "      <td>61</td>\n",
       "      <td>0</td>\n",
       "      <td>38</td>\n",
       "    </tr>\n",
       "  </tbody>\n",
       "</table>\n",
       "</div>"
      ],
      "text/plain": [
       "    Anand  Barkha  Chandu  Daniel  dummy  Anonymous\n",
       "3       8      12      36      70      0         12\n",
       "10     69      44      12       3      0         44\n",
       "50     95      38      85      61      0         38"
      ]
     },
     "execution_count": 35,
     "metadata": {},
     "output_type": "execute_result"
    }
   ],
   "source": [
    "ListA"
   ]
  },
  {
   "cell_type": "markdown",
   "metadata": {
    "id": "HLT1U7ZQkqhu"
   },
   "source": [
    "Concat ListA to df ignoring the index values of ListA so that we can maintain the sequential index value thoughout the dataframe."
   ]
  },
  {
   "cell_type": "code",
   "execution_count": 36,
   "metadata": {
    "id": "zj_zUXiokqhv"
   },
   "outputs": [],
   "source": [
    "df3=pd.concat([ListA,df3],ignore_index = True, axis=0)  #selfnote -  very importtant never miss [] and axis = 0 "
   ]
  },
  {
   "cell_type": "markdown",
   "metadata": {
    "id": "qp2M-WnYkqhv"
   },
   "source": [
    "print head of df3"
   ]
  },
  {
   "cell_type": "code",
   "execution_count": 37,
   "metadata": {
    "colab": {
     "base_uri": "https://localhost:8080/",
     "height": 202
    },
    "id": "GwotDl4Tkqhv",
    "outputId": "9e4082cd-cb4f-4b02-db47-68b2ca8252bf"
   },
   "outputs": [
    {
     "data": {
      "text/html": [
       "<div>\n",
       "<style scoped>\n",
       "    .dataframe tbody tr th:only-of-type {\n",
       "        vertical-align: middle;\n",
       "    }\n",
       "\n",
       "    .dataframe tbody tr th {\n",
       "        vertical-align: top;\n",
       "    }\n",
       "\n",
       "    .dataframe thead th {\n",
       "        text-align: right;\n",
       "    }\n",
       "</style>\n",
       "<table border=\"1\" class=\"dataframe\">\n",
       "  <thead>\n",
       "    <tr style=\"text-align: right;\">\n",
       "      <th></th>\n",
       "      <th>Anand</th>\n",
       "      <th>Barkha</th>\n",
       "      <th>Chandu</th>\n",
       "      <th>Daniel</th>\n",
       "      <th>dummy</th>\n",
       "      <th>Anonymous</th>\n",
       "    </tr>\n",
       "  </thead>\n",
       "  <tbody>\n",
       "    <tr>\n",
       "      <th>0</th>\n",
       "      <td>8</td>\n",
       "      <td>12</td>\n",
       "      <td>36</td>\n",
       "      <td>70</td>\n",
       "      <td>0</td>\n",
       "      <td>12</td>\n",
       "    </tr>\n",
       "    <tr>\n",
       "      <th>1</th>\n",
       "      <td>69</td>\n",
       "      <td>44</td>\n",
       "      <td>12</td>\n",
       "      <td>3</td>\n",
       "      <td>0</td>\n",
       "      <td>44</td>\n",
       "    </tr>\n",
       "    <tr>\n",
       "      <th>2</th>\n",
       "      <td>95</td>\n",
       "      <td>38</td>\n",
       "      <td>85</td>\n",
       "      <td>61</td>\n",
       "      <td>0</td>\n",
       "      <td>38</td>\n",
       "    </tr>\n",
       "    <tr>\n",
       "      <th>3</th>\n",
       "      <td>2</td>\n",
       "      <td>12</td>\n",
       "      <td>75</td>\n",
       "      <td>80</td>\n",
       "      <td>0</td>\n",
       "      <td>12</td>\n",
       "    </tr>\n",
       "    <tr>\n",
       "      <th>4</th>\n",
       "      <td>39</td>\n",
       "      <td>64</td>\n",
       "      <td>43</td>\n",
       "      <td>99</td>\n",
       "      <td>0</td>\n",
       "      <td>64</td>\n",
       "    </tr>\n",
       "  </tbody>\n",
       "</table>\n",
       "</div>"
      ],
      "text/plain": [
       "   Anand  Barkha  Chandu  Daniel  dummy  Anonymous\n",
       "0      8      12      36      70      0         12\n",
       "1     69      44      12       3      0         44\n",
       "2     95      38      85      61      0         38\n",
       "3      2      12      75      80      0         12\n",
       "4     39      64      43      99      0         64"
      ]
     },
     "execution_count": 37,
     "metadata": {},
     "output_type": "execute_result"
    }
   ],
   "source": [
    "df3.head()"
   ]
  },
  {
   "cell_type": "markdown",
   "metadata": {
    "id": "ETx-cCU5kqhv"
   },
   "source": [
    "Check if there is any duplicate rows present in the dataframe df3"
   ]
  },
  {
   "cell_type": "code",
   "execution_count": 38,
   "metadata": {
    "colab": {
     "base_uri": "https://localhost:8080/",
     "height": 141
    },
    "id": "KkK9vv6Lkqhv",
    "outputId": "75a053d7-1778-476e-d768-b689d4369f9c"
   },
   "outputs": [
    {
     "data": {
      "text/html": [
       "<div>\n",
       "<style scoped>\n",
       "    .dataframe tbody tr th:only-of-type {\n",
       "        vertical-align: middle;\n",
       "    }\n",
       "\n",
       "    .dataframe tbody tr th {\n",
       "        vertical-align: top;\n",
       "    }\n",
       "\n",
       "    .dataframe thead th {\n",
       "        text-align: right;\n",
       "    }\n",
       "</style>\n",
       "<table border=\"1\" class=\"dataframe\">\n",
       "  <thead>\n",
       "    <tr style=\"text-align: right;\">\n",
       "      <th></th>\n",
       "      <th>Anand</th>\n",
       "      <th>Barkha</th>\n",
       "      <th>Chandu</th>\n",
       "      <th>Daniel</th>\n",
       "      <th>dummy</th>\n",
       "      <th>Anonymous</th>\n",
       "    </tr>\n",
       "  </thead>\n",
       "  <tbody>\n",
       "    <tr>\n",
       "      <th>6</th>\n",
       "      <td>8</td>\n",
       "      <td>12</td>\n",
       "      <td>36</td>\n",
       "      <td>70</td>\n",
       "      <td>0</td>\n",
       "      <td>12</td>\n",
       "    </tr>\n",
       "    <tr>\n",
       "      <th>13</th>\n",
       "      <td>69</td>\n",
       "      <td>44</td>\n",
       "      <td>12</td>\n",
       "      <td>3</td>\n",
       "      <td>0</td>\n",
       "      <td>44</td>\n",
       "    </tr>\n",
       "    <tr>\n",
       "      <th>53</th>\n",
       "      <td>95</td>\n",
       "      <td>38</td>\n",
       "      <td>85</td>\n",
       "      <td>61</td>\n",
       "      <td>0</td>\n",
       "      <td>38</td>\n",
       "    </tr>\n",
       "  </tbody>\n",
       "</table>\n",
       "</div>"
      ],
      "text/plain": [
       "    Anand  Barkha  Chandu  Daniel  dummy  Anonymous\n",
       "6       8      12      36      70      0         12\n",
       "13     69      44      12       3      0         44\n",
       "53     95      38      85      61      0         38"
      ]
     },
     "execution_count": 38,
     "metadata": {},
     "output_type": "execute_result"
    }
   ],
   "source": [
    "df3[df3.duplicated()]  #self note - awesome things to see the duplicates "
   ]
  },
  {
   "cell_type": "markdown",
   "metadata": {
    "id": "Okvw1xgtkqhv"
   },
   "source": [
    "By above output it seems we do have duplicated rows in our dataset"
   ]
  },
  {
   "cell_type": "markdown",
   "metadata": {
    "id": "z0QOuS-_kqhw"
   },
   "source": [
    "Drop duplicated rows using pandas function keeping first values of such duplicated observations"
   ]
  },
  {
   "cell_type": "code",
   "execution_count": 39,
   "metadata": {
    "id": "gRsgecqbkqhw"
   },
   "outputs": [],
   "source": [
    "df3.drop_duplicates(inplace= True)"
   ]
  },
  {
   "cell_type": "markdown",
   "metadata": {
    "id": "FbNFF-4jkqhw"
   },
   "source": [
    "Check again if we have any duplicate row values present "
   ]
  },
  {
   "cell_type": "code",
   "execution_count": 40,
   "metadata": {
    "colab": {
     "base_uri": "https://localhost:8080/",
     "height": 49
    },
    "id": "ehOxm1Mckqhw",
    "outputId": "83a4a236-d256-4bfa-aebd-a7ee9045c14d"
   },
   "outputs": [
    {
     "data": {
      "text/html": [
       "<div>\n",
       "<style scoped>\n",
       "    .dataframe tbody tr th:only-of-type {\n",
       "        vertical-align: middle;\n",
       "    }\n",
       "\n",
       "    .dataframe tbody tr th {\n",
       "        vertical-align: top;\n",
       "    }\n",
       "\n",
       "    .dataframe thead th {\n",
       "        text-align: right;\n",
       "    }\n",
       "</style>\n",
       "<table border=\"1\" class=\"dataframe\">\n",
       "  <thead>\n",
       "    <tr style=\"text-align: right;\">\n",
       "      <th></th>\n",
       "      <th>Anand</th>\n",
       "      <th>Barkha</th>\n",
       "      <th>Chandu</th>\n",
       "      <th>Daniel</th>\n",
       "      <th>dummy</th>\n",
       "      <th>Anonymous</th>\n",
       "    </tr>\n",
       "  </thead>\n",
       "  <tbody>\n",
       "  </tbody>\n",
       "</table>\n",
       "</div>"
      ],
      "text/plain": [
       "Empty DataFrame\n",
       "Columns: [Anand, Barkha, Chandu, Daniel, dummy, Anonymous]\n",
       "Index: []"
      ]
     },
     "execution_count": 40,
     "metadata": {},
     "output_type": "execute_result"
    }
   ],
   "source": [
    "df3[df3.duplicated()]"
   ]
  },
  {
   "cell_type": "markdown",
   "metadata": {
    "id": "7Sg80lIkkqhw"
   },
   "source": [
    "Yipeee!! Did you notice the dataframe is free from any duplicate rows now."
   ]
  },
  {
   "cell_type": "markdown",
   "metadata": {
    "id": "za0nup3Pkqhw"
   },
   "source": [
    "Drop any duplicate columns present in the dataframe df"
   ]
  },
  {
   "cell_type": "code",
   "execution_count": 41,
   "metadata": {
    "id": "NE9l9xM0kqhw"
   },
   "outputs": [
    {
     "data": {
      "text/html": [
       "<div>\n",
       "<style scoped>\n",
       "    .dataframe tbody tr th:only-of-type {\n",
       "        vertical-align: middle;\n",
       "    }\n",
       "\n",
       "    .dataframe tbody tr th {\n",
       "        vertical-align: top;\n",
       "    }\n",
       "\n",
       "    .dataframe thead th {\n",
       "        text-align: right;\n",
       "    }\n",
       "</style>\n",
       "<table border=\"1\" class=\"dataframe\">\n",
       "  <thead>\n",
       "    <tr style=\"text-align: right;\">\n",
       "      <th></th>\n",
       "      <th>Anand</th>\n",
       "      <th>Barkha</th>\n",
       "      <th>Chandu</th>\n",
       "      <th>Daniel</th>\n",
       "      <th>dummy</th>\n",
       "      <th>Anonymous</th>\n",
       "    </tr>\n",
       "  </thead>\n",
       "  <tbody>\n",
       "    <tr>\n",
       "      <th>0</th>\n",
       "      <td>8</td>\n",
       "      <td>12</td>\n",
       "      <td>36</td>\n",
       "      <td>70</td>\n",
       "      <td>0</td>\n",
       "      <td>12</td>\n",
       "    </tr>\n",
       "    <tr>\n",
       "      <th>1</th>\n",
       "      <td>69</td>\n",
       "      <td>44</td>\n",
       "      <td>12</td>\n",
       "      <td>3</td>\n",
       "      <td>0</td>\n",
       "      <td>44</td>\n",
       "    </tr>\n",
       "    <tr>\n",
       "      <th>2</th>\n",
       "      <td>95</td>\n",
       "      <td>38</td>\n",
       "      <td>85</td>\n",
       "      <td>61</td>\n",
       "      <td>0</td>\n",
       "      <td>38</td>\n",
       "    </tr>\n",
       "    <tr>\n",
       "      <th>3</th>\n",
       "      <td>2</td>\n",
       "      <td>12</td>\n",
       "      <td>75</td>\n",
       "      <td>80</td>\n",
       "      <td>0</td>\n",
       "      <td>12</td>\n",
       "    </tr>\n",
       "    <tr>\n",
       "      <th>4</th>\n",
       "      <td>39</td>\n",
       "      <td>64</td>\n",
       "      <td>43</td>\n",
       "      <td>99</td>\n",
       "      <td>0</td>\n",
       "      <td>64</td>\n",
       "    </tr>\n",
       "  </tbody>\n",
       "</table>\n",
       "</div>"
      ],
      "text/plain": [
       "   Anand  Barkha  Chandu  Daniel  dummy  Anonymous\n",
       "0      8      12      36      70      0         12\n",
       "1     69      44      12       3      0         44\n",
       "2     95      38      85      61      0         38\n",
       "3      2      12      75      80      0         12\n",
       "4     39      64      43      99      0         64"
      ]
     },
     "execution_count": 41,
     "metadata": {},
     "output_type": "execute_result"
    }
   ],
   "source": [
    "df3 = df3.loc[:,~df3.columns.duplicated()] # isnt it asked here ?\n",
    "df3.head()"
   ]
  },
  {
   "cell_type": "markdown",
   "metadata": {
    "id": "HAMB8--rkqhx"
   },
   "source": [
    "Did you notice which Column is dropped?\n",
    "I am sure you noticed it.\n",
    "Name that column below"
   ]
  },
  {
   "cell_type": "markdown",
   "metadata": {
    "id": "x7HRPWXHkqhx"
   },
   "source": [
    "Column:____________ none of the columns-- please explain - i did nt get actually"
   ]
  },
  {
   "cell_type": "markdown",
   "metadata": {
    "id": "n53B2-pCkqhx"
   },
   "source": [
    "# Treating constant column values\n",
    "\n",
    "<p style='text-align: right;'> 2 points</p>\n"
   ]
  },
  {
   "cell_type": "markdown",
   "metadata": {
    "id": "fDpWhHSlkqhx"
   },
   "source": [
    "Check unique values in each columns"
   ]
  },
  {
   "cell_type": "code",
   "execution_count": 42,
   "metadata": {
    "colab": {
     "base_uri": "https://localhost:8080/"
    },
    "id": "5-L6SLhqkqhx",
    "outputId": "fbbce178-c128-4b2e-a1fe-64d5ac612d31"
   },
   "outputs": [
    {
     "name": "stdout",
     "output_type": "stream",
     "text": [
      "Anand        42\n",
      "Barkha       32\n",
      "Chandu       44\n",
      "Daniel       43\n",
      "dummy         1\n",
      "Anonymous    32\n",
      "dtype: int64\n"
     ]
    }
   ],
   "source": [
    "# print({'Anand':len(list(df3['Anand'].unique())),\n",
    "#        'Barkha':len(list(df3['Barkha'].unique())),\n",
    "#        'Chandu':len(list(df3['Chandu'].unique())),\n",
    "#        'Daniel':len(list(df3['Daniel'].unique())),\n",
    "#        'dummy':len(list(df3['dummy'].unique())),\n",
    "#        'Anonymous':len(list(df3['Anonymous'].unique()))\n",
    "#       })\n",
    "\n",
    "#is there any easy way or iteration way to get these numbers or dict - please explain here ??///////////////\n",
    "\n",
    "print(df3.nunique())  # later i came to know while searching on internet"
   ]
  },
  {
   "cell_type": "markdown",
   "metadata": {
    "id": "4G9ZC-n-kqhx"
   },
   "source": [
    "By above output which column has only 1 value as unique throught the rows? \n",
    "Yeah! you are right, its dummy column.\n",
    "So lets drop it"
   ]
  },
  {
   "cell_type": "markdown",
   "metadata": {
    "id": "D3y3ZWW6kqhx"
   },
   "source": [
    "Drop dummy column as it has constant values which will not give us any information and save the changes to df3 using inplace parameter"
   ]
  },
  {
   "cell_type": "code",
   "execution_count": 43,
   "metadata": {
    "id": "SR10jRVQkqhy"
   },
   "outputs": [],
   "source": [
    "df3.drop(['dummy'],inplace = True, axis = 1)   # need to under the concept of axis once more"
   ]
  },
  {
   "cell_type": "markdown",
   "metadata": {
    "id": "nHdi2uHskqhy"
   },
   "source": [
    "print final obtained dataframe df3"
   ]
  },
  {
   "cell_type": "code",
   "execution_count": 44,
   "metadata": {
    "colab": {
     "base_uri": "https://localhost:8080/",
     "height": 1000
    },
    "id": "0-YUwfDKkqhy",
    "outputId": "63b0cd26-8921-4e66-a913-0621c6ed2a07"
   },
   "outputs": [
    {
     "data": {
      "text/html": [
       "<div>\n",
       "<style scoped>\n",
       "    .dataframe tbody tr th:only-of-type {\n",
       "        vertical-align: middle;\n",
       "    }\n",
       "\n",
       "    .dataframe tbody tr th {\n",
       "        vertical-align: top;\n",
       "    }\n",
       "\n",
       "    .dataframe thead th {\n",
       "        text-align: right;\n",
       "    }\n",
       "</style>\n",
       "<table border=\"1\" class=\"dataframe\">\n",
       "  <thead>\n",
       "    <tr style=\"text-align: right;\">\n",
       "      <th></th>\n",
       "      <th>Anand</th>\n",
       "      <th>Barkha</th>\n",
       "      <th>Chandu</th>\n",
       "      <th>Daniel</th>\n",
       "      <th>Anonymous</th>\n",
       "    </tr>\n",
       "  </thead>\n",
       "  <tbody>\n",
       "    <tr>\n",
       "      <th>0</th>\n",
       "      <td>8</td>\n",
       "      <td>12</td>\n",
       "      <td>36</td>\n",
       "      <td>70</td>\n",
       "      <td>12</td>\n",
       "    </tr>\n",
       "    <tr>\n",
       "      <th>1</th>\n",
       "      <td>69</td>\n",
       "      <td>44</td>\n",
       "      <td>12</td>\n",
       "      <td>3</td>\n",
       "      <td>44</td>\n",
       "    </tr>\n",
       "    <tr>\n",
       "      <th>2</th>\n",
       "      <td>95</td>\n",
       "      <td>38</td>\n",
       "      <td>85</td>\n",
       "      <td>61</td>\n",
       "      <td>38</td>\n",
       "    </tr>\n",
       "    <tr>\n",
       "      <th>3</th>\n",
       "      <td>2</td>\n",
       "      <td>12</td>\n",
       "      <td>75</td>\n",
       "      <td>80</td>\n",
       "      <td>12</td>\n",
       "    </tr>\n",
       "    <tr>\n",
       "      <th>4</th>\n",
       "      <td>39</td>\n",
       "      <td>64</td>\n",
       "      <td>43</td>\n",
       "      <td>99</td>\n",
       "      <td>64</td>\n",
       "    </tr>\n",
       "    <tr>\n",
       "      <th>5</th>\n",
       "      <td>90</td>\n",
       "      <td>34</td>\n",
       "      <td>5</td>\n",
       "      <td>7</td>\n",
       "      <td>34</td>\n",
       "    </tr>\n",
       "    <tr>\n",
       "      <th>7</th>\n",
       "      <td>98</td>\n",
       "      <td>32</td>\n",
       "      <td>84</td>\n",
       "      <td>78</td>\n",
       "      <td>32</td>\n",
       "    </tr>\n",
       "    <tr>\n",
       "      <th>8</th>\n",
       "      <td>7</td>\n",
       "      <td>24</td>\n",
       "      <td>11</td>\n",
       "      <td>60</td>\n",
       "      <td>24</td>\n",
       "    </tr>\n",
       "    <tr>\n",
       "      <th>9</th>\n",
       "      <td>98</td>\n",
       "      <td>22</td>\n",
       "      <td>24</td>\n",
       "      <td>38</td>\n",
       "      <td>22</td>\n",
       "    </tr>\n",
       "    <tr>\n",
       "      <th>10</th>\n",
       "      <td>26</td>\n",
       "      <td>40</td>\n",
       "      <td>42</td>\n",
       "      <td>39</td>\n",
       "      <td>40</td>\n",
       "    </tr>\n",
       "    <tr>\n",
       "      <th>11</th>\n",
       "      <td>77</td>\n",
       "      <td>2</td>\n",
       "      <td>85</td>\n",
       "      <td>69</td>\n",
       "      <td>2</td>\n",
       "    </tr>\n",
       "    <tr>\n",
       "      <th>12</th>\n",
       "      <td>92</td>\n",
       "      <td>46</td>\n",
       "      <td>90</td>\n",
       "      <td>5</td>\n",
       "      <td>46</td>\n",
       "    </tr>\n",
       "    <tr>\n",
       "      <th>14</th>\n",
       "      <td>65</td>\n",
       "      <td>10</td>\n",
       "      <td>93</td>\n",
       "      <td>85</td>\n",
       "      <td>10</td>\n",
       "    </tr>\n",
       "    <tr>\n",
       "      <th>15</th>\n",
       "      <td>45</td>\n",
       "      <td>64</td>\n",
       "      <td>0</td>\n",
       "      <td>23</td>\n",
       "      <td>64</td>\n",
       "    </tr>\n",
       "    <tr>\n",
       "      <th>16</th>\n",
       "      <td>79</td>\n",
       "      <td>68</td>\n",
       "      <td>74</td>\n",
       "      <td>7</td>\n",
       "      <td>68</td>\n",
       "    </tr>\n",
       "    <tr>\n",
       "      <th>17</th>\n",
       "      <td>23</td>\n",
       "      <td>0</td>\n",
       "      <td>23</td>\n",
       "      <td>95</td>\n",
       "      <td>0</td>\n",
       "    </tr>\n",
       "    <tr>\n",
       "      <th>18</th>\n",
       "      <td>69</td>\n",
       "      <td>68</td>\n",
       "      <td>29</td>\n",
       "      <td>81</td>\n",
       "      <td>68</td>\n",
       "    </tr>\n",
       "    <tr>\n",
       "      <th>19</th>\n",
       "      <td>38</td>\n",
       "      <td>58</td>\n",
       "      <td>55</td>\n",
       "      <td>43</td>\n",
       "      <td>58</td>\n",
       "    </tr>\n",
       "    <tr>\n",
       "      <th>20</th>\n",
       "      <td>15</td>\n",
       "      <td>44</td>\n",
       "      <td>51</td>\n",
       "      <td>27</td>\n",
       "      <td>44</td>\n",
       "    </tr>\n",
       "    <tr>\n",
       "      <th>21</th>\n",
       "      <td>66</td>\n",
       "      <td>42</td>\n",
       "      <td>84</td>\n",
       "      <td>53</td>\n",
       "      <td>42</td>\n",
       "    </tr>\n",
       "    <tr>\n",
       "      <th>22</th>\n",
       "      <td>38</td>\n",
       "      <td>44</td>\n",
       "      <td>83</td>\n",
       "      <td>45</td>\n",
       "      <td>44</td>\n",
       "    </tr>\n",
       "    <tr>\n",
       "      <th>23</th>\n",
       "      <td>60</td>\n",
       "      <td>60</td>\n",
       "      <td>99</td>\n",
       "      <td>16</td>\n",
       "      <td>60</td>\n",
       "    </tr>\n",
       "    <tr>\n",
       "      <th>24</th>\n",
       "      <td>63</td>\n",
       "      <td>44</td>\n",
       "      <td>23</td>\n",
       "      <td>98</td>\n",
       "      <td>44</td>\n",
       "    </tr>\n",
       "    <tr>\n",
       "      <th>25</th>\n",
       "      <td>29</td>\n",
       "      <td>36</td>\n",
       "      <td>51</td>\n",
       "      <td>50</td>\n",
       "      <td>36</td>\n",
       "    </tr>\n",
       "    <tr>\n",
       "      <th>26</th>\n",
       "      <td>85</td>\n",
       "      <td>66</td>\n",
       "      <td>34</td>\n",
       "      <td>74</td>\n",
       "      <td>66</td>\n",
       "    </tr>\n",
       "    <tr>\n",
       "      <th>27</th>\n",
       "      <td>65</td>\n",
       "      <td>64</td>\n",
       "      <td>75</td>\n",
       "      <td>41</td>\n",
       "      <td>64</td>\n",
       "    </tr>\n",
       "    <tr>\n",
       "      <th>28</th>\n",
       "      <td>58</td>\n",
       "      <td>54</td>\n",
       "      <td>64</td>\n",
       "      <td>84</td>\n",
       "      <td>54</td>\n",
       "    </tr>\n",
       "    <tr>\n",
       "      <th>29</th>\n",
       "      <td>39</td>\n",
       "      <td>10</td>\n",
       "      <td>41</td>\n",
       "      <td>13</td>\n",
       "      <td>10</td>\n",
       "    </tr>\n",
       "    <tr>\n",
       "      <th>30</th>\n",
       "      <td>66</td>\n",
       "      <td>80</td>\n",
       "      <td>47</td>\n",
       "      <td>33</td>\n",
       "      <td>80</td>\n",
       "    </tr>\n",
       "    <tr>\n",
       "      <th>31</th>\n",
       "      <td>39</td>\n",
       "      <td>52</td>\n",
       "      <td>23</td>\n",
       "      <td>81</td>\n",
       "      <td>52</td>\n",
       "    </tr>\n",
       "    <tr>\n",
       "      <th>32</th>\n",
       "      <td>76</td>\n",
       "      <td>18</td>\n",
       "      <td>74</td>\n",
       "      <td>78</td>\n",
       "      <td>18</td>\n",
       "    </tr>\n",
       "    <tr>\n",
       "      <th>33</th>\n",
       "      <td>73</td>\n",
       "      <td>6</td>\n",
       "      <td>22</td>\n",
       "      <td>80</td>\n",
       "      <td>6</td>\n",
       "    </tr>\n",
       "    <tr>\n",
       "      <th>34</th>\n",
       "      <td>74</td>\n",
       "      <td>38</td>\n",
       "      <td>75</td>\n",
       "      <td>21</td>\n",
       "      <td>38</td>\n",
       "    </tr>\n",
       "    <tr>\n",
       "      <th>35</th>\n",
       "      <td>47</td>\n",
       "      <td>24</td>\n",
       "      <td>87</td>\n",
       "      <td>40</td>\n",
       "      <td>24</td>\n",
       "    </tr>\n",
       "    <tr>\n",
       "      <th>36</th>\n",
       "      <td>49</td>\n",
       "      <td>42</td>\n",
       "      <td>4</td>\n",
       "      <td>21</td>\n",
       "      <td>42</td>\n",
       "    </tr>\n",
       "    <tr>\n",
       "      <th>37</th>\n",
       "      <td>79</td>\n",
       "      <td>54</td>\n",
       "      <td>64</td>\n",
       "      <td>86</td>\n",
       "      <td>54</td>\n",
       "    </tr>\n",
       "    <tr>\n",
       "      <th>38</th>\n",
       "      <td>64</td>\n",
       "      <td>58</td>\n",
       "      <td>63</td>\n",
       "      <td>97</td>\n",
       "      <td>58</td>\n",
       "    </tr>\n",
       "    <tr>\n",
       "      <th>39</th>\n",
       "      <td>88</td>\n",
       "      <td>10</td>\n",
       "      <td>2</td>\n",
       "      <td>95</td>\n",
       "      <td>10</td>\n",
       "    </tr>\n",
       "    <tr>\n",
       "      <th>40</th>\n",
       "      <td>27</td>\n",
       "      <td>38</td>\n",
       "      <td>82</td>\n",
       "      <td>49</td>\n",
       "      <td>38</td>\n",
       "    </tr>\n",
       "    <tr>\n",
       "      <th>41</th>\n",
       "      <td>4</td>\n",
       "      <td>56</td>\n",
       "      <td>86</td>\n",
       "      <td>15</td>\n",
       "      <td>56</td>\n",
       "    </tr>\n",
       "    <tr>\n",
       "      <th>42</th>\n",
       "      <td>75</td>\n",
       "      <td>48</td>\n",
       "      <td>53</td>\n",
       "      <td>63</td>\n",
       "      <td>48</td>\n",
       "    </tr>\n",
       "    <tr>\n",
       "      <th>43</th>\n",
       "      <td>23</td>\n",
       "      <td>4</td>\n",
       "      <td>72</td>\n",
       "      <td>4</td>\n",
       "      <td>4</td>\n",
       "    </tr>\n",
       "    <tr>\n",
       "      <th>44</th>\n",
       "      <td>50</td>\n",
       "      <td>30</td>\n",
       "      <td>31</td>\n",
       "      <td>35</td>\n",
       "      <td>30</td>\n",
       "    </tr>\n",
       "    <tr>\n",
       "      <th>45</th>\n",
       "      <td>59</td>\n",
       "      <td>96</td>\n",
       "      <td>77</td>\n",
       "      <td>85</td>\n",
       "      <td>96</td>\n",
       "    </tr>\n",
       "    <tr>\n",
       "      <th>46</th>\n",
       "      <td>8</td>\n",
       "      <td>28</td>\n",
       "      <td>44</td>\n",
       "      <td>80</td>\n",
       "      <td>28</td>\n",
       "    </tr>\n",
       "    <tr>\n",
       "      <th>47</th>\n",
       "      <td>90</td>\n",
       "      <td>0</td>\n",
       "      <td>60</td>\n",
       "      <td>89</td>\n",
       "      <td>0</td>\n",
       "    </tr>\n",
       "    <tr>\n",
       "      <th>48</th>\n",
       "      <td>99</td>\n",
       "      <td>80</td>\n",
       "      <td>23</td>\n",
       "      <td>60</td>\n",
       "      <td>80</td>\n",
       "    </tr>\n",
       "    <tr>\n",
       "      <th>49</th>\n",
       "      <td>51</td>\n",
       "      <td>8</td>\n",
       "      <td>92</td>\n",
       "      <td>1</td>\n",
       "      <td>8</td>\n",
       "    </tr>\n",
       "    <tr>\n",
       "      <th>50</th>\n",
       "      <td>57</td>\n",
       "      <td>56</td>\n",
       "      <td>62</td>\n",
       "      <td>6</td>\n",
       "      <td>56</td>\n",
       "    </tr>\n",
       "    <tr>\n",
       "      <th>51</th>\n",
       "      <td>20</td>\n",
       "      <td>8</td>\n",
       "      <td>75</td>\n",
       "      <td>23</td>\n",
       "      <td>8</td>\n",
       "    </tr>\n",
       "    <tr>\n",
       "      <th>52</th>\n",
       "      <td>58</td>\n",
       "      <td>0</td>\n",
       "      <td>73</td>\n",
       "      <td>11</td>\n",
       "      <td>0</td>\n",
       "    </tr>\n",
       "    <tr>\n",
       "      <th>54</th>\n",
       "      <td>26</td>\n",
       "      <td>12</td>\n",
       "      <td>39</td>\n",
       "      <td>54</td>\n",
       "      <td>12</td>\n",
       "    </tr>\n",
       "    <tr>\n",
       "      <th>55</th>\n",
       "      <td>55</td>\n",
       "      <td>80</td>\n",
       "      <td>52</td>\n",
       "      <td>24</td>\n",
       "      <td>80</td>\n",
       "    </tr>\n",
       "    <tr>\n",
       "      <th>56</th>\n",
       "      <td>0</td>\n",
       "      <td>14</td>\n",
       "      <td>68</td>\n",
       "      <td>45</td>\n",
       "      <td>14</td>\n",
       "    </tr>\n",
       "    <tr>\n",
       "      <th>57</th>\n",
       "      <td>30</td>\n",
       "      <td>48</td>\n",
       "      <td>8</td>\n",
       "      <td>11</td>\n",
       "      <td>48</td>\n",
       "    </tr>\n",
       "  </tbody>\n",
       "</table>\n",
       "</div>"
      ],
      "text/plain": [
       "    Anand  Barkha  Chandu  Daniel  Anonymous\n",
       "0       8      12      36      70         12\n",
       "1      69      44      12       3         44\n",
       "2      95      38      85      61         38\n",
       "3       2      12      75      80         12\n",
       "4      39      64      43      99         64\n",
       "5      90      34       5       7         34\n",
       "7      98      32      84      78         32\n",
       "8       7      24      11      60         24\n",
       "9      98      22      24      38         22\n",
       "10     26      40      42      39         40\n",
       "11     77       2      85      69          2\n",
       "12     92      46      90       5         46\n",
       "14     65      10      93      85         10\n",
       "15     45      64       0      23         64\n",
       "16     79      68      74       7         68\n",
       "17     23       0      23      95          0\n",
       "18     69      68      29      81         68\n",
       "19     38      58      55      43         58\n",
       "20     15      44      51      27         44\n",
       "21     66      42      84      53         42\n",
       "22     38      44      83      45         44\n",
       "23     60      60      99      16         60\n",
       "24     63      44      23      98         44\n",
       "25     29      36      51      50         36\n",
       "26     85      66      34      74         66\n",
       "27     65      64      75      41         64\n",
       "28     58      54      64      84         54\n",
       "29     39      10      41      13         10\n",
       "30     66      80      47      33         80\n",
       "31     39      52      23      81         52\n",
       "32     76      18      74      78         18\n",
       "33     73       6      22      80          6\n",
       "34     74      38      75      21         38\n",
       "35     47      24      87      40         24\n",
       "36     49      42       4      21         42\n",
       "37     79      54      64      86         54\n",
       "38     64      58      63      97         58\n",
       "39     88      10       2      95         10\n",
       "40     27      38      82      49         38\n",
       "41      4      56      86      15         56\n",
       "42     75      48      53      63         48\n",
       "43     23       4      72       4          4\n",
       "44     50      30      31      35         30\n",
       "45     59      96      77      85         96\n",
       "46      8      28      44      80         28\n",
       "47     90       0      60      89          0\n",
       "48     99      80      23      60         80\n",
       "49     51       8      92       1          8\n",
       "50     57      56      62       6         56\n",
       "51     20       8      75      23          8\n",
       "52     58       0      73      11          0\n",
       "54     26      12      39      54         12\n",
       "55     55      80      52      24         80\n",
       "56      0      14      68      45         14\n",
       "57     30      48       8      11         48"
      ]
     },
     "execution_count": 44,
     "metadata": {},
     "output_type": "execute_result"
    }
   ],
   "source": [
    "df3"
   ]
  },
  {
   "cell_type": "markdown",
   "metadata": {
    "id": "4SgrLjyDkqhy"
   },
   "source": [
    "---------------------------------\n",
    "\n",
    "# C'mon cheers:) you have completed the 5th milestone challenge too. \n",
    "\n",
    "--------------------------------"
   ]
  },
  {
   "cell_type": "markdown",
   "metadata": {
    "id": "CG6h_jBBkqhy"
   },
   "source": [
    "# FeedBack\n",
    "We hope you’ve enjoyed this course so far. We’re committed to helping you use AIforAll course to its full potential so you can grow with us. And that’s why we need your help in form of a feedback here\n",
    "\n",
    "We appreciate your time for your thoughtful comment below\n",
    "\n"
   ]
  },
  {
   "cell_type": "markdown",
   "metadata": {
    "id": "xQwVvyKTzWgy"
   },
   "source": [
    "Space to comment:\n",
    "\n",
    "<br> nice set of questions - some more video refernce is required i think- "
   ]
  },
  {
   "cell_type": "markdown",
   "metadata": {
    "id": "Ssh6pQ3yzWgz"
   },
   "source": [
    "**Rate the following in the scale of 1 to 10**"
   ]
  },
  {
   "cell_type": "markdown",
   "metadata": {
    "id": "Z21xk0eg7o40"
   },
   "source": [
    "Assignment Difficulty Level"
   ]
  },
  {
   "cell_type": "markdown",
   "metadata": {
    "id": "2BNiAaWG8ghA"
   },
   "source": [
    "**Rate**:8"
   ]
  },
  {
   "cell_type": "markdown",
   "metadata": {
    "id": "fcxokRVa8R7m"
   },
   "source": [
    "Question Clarity Level"
   ]
  },
  {
   "cell_type": "markdown",
   "metadata": {
    "id": "QFLtqPmL9eW2"
   },
   "source": [
    "**Rate**: 8"
   ]
  },
  {
   "cell_type": "markdown",
   "metadata": {
    "id": "C6MvTJRa8hjl"
   },
   "source": [
    "YouTube video content quality."
   ]
  },
  {
   "cell_type": "markdown",
   "metadata": {
    "id": "W0UjeozA8ZQ3"
   },
   "source": [
    "**Rate** 10"
   ]
  },
  {
   "cell_type": "markdown",
   "metadata": {
    "id": "kOLomVaazWg1"
   },
   "source": [
    "-----------------------------------"
   ]
  }
 ],
 "metadata": {
  "colab": {
   "collapsed_sections": [
    "4SgrLjyDkqhy"
   ],
   "name": "Assignment_5 _Kunal_Data_Cleaning.ipynb",
   "provenance": []
  },
  "kernelspec": {
   "display_name": "Python 3",
   "language": "python",
   "name": "python3"
  },
  "language_info": {
   "codemirror_mode": {
    "name": "ipython",
    "version": 3
   },
   "file_extension": ".py",
   "mimetype": "text/x-python",
   "name": "python",
   "nbconvert_exporter": "python",
   "pygments_lexer": "ipython3",
   "version": "3.8.3"
  }
 },
 "nbformat": 4,
 "nbformat_minor": 1
}
